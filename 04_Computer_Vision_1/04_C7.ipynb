{
 "cells": [
  {
   "cell_type": "markdown",
   "metadata": {},
   "source": [
    "# Computer Vision I\n",
    "\n",
    "## CLASE 6\n",
    "\n",
    "## Referencias\n",
    "\n",
    "- [Cheatsheet de Latex](https://www.caam.rice.edu/~heinken/latex/symbols.pdf)\n",
    "- [DRIVE](https://drive.google.com/drive/folders/1TDRvlwfSgLI39gHXgVhWlSaRJ-aTSaDE?usp=sharing)\n",
    "\n",
    "## Comentarios sobre el estado del documento"
   ]
  },
  {
   "cell_type": "markdown",
   "metadata": {},
   "source": [
    "## Importar librerías"
   ]
  },
  {
   "cell_type": "code",
   "execution_count": 3,
   "metadata": {},
   "outputs": [],
   "source": [
    "import numpy as np\n",
    "import matplotlib.pyplot as plt\n",
    "import os\n",
    "import inspect\n",
    "from matplotlib.image import imread\n",
    "\n",
    "import time\n",
    "import cv2 as cv\n",
    "\n",
    "%matplotlib inline"
   ]
  },
  {
   "cell_type": "markdown",
   "metadata": {},
   "source": [
    "## Enunciados\n",
    "\n",
    "### Utilizando la webcam\n",
    "1. Implementar un algoritmo utilizando filtros de Haar en cascada que:\n",
    "\n",
    "a) Detecte Rostros\n",
    "\n",
    "b) Dentro de los rostros detecte ojos\n",
    "\n",
    "c) Dentro de los rostros detecte sonrisas\n"
   ]
  },
  {
   "cell_type": "code",
   "execution_count": 4,
   "metadata": {},
   "outputs": [],
   "source": [
    "# Abrir Cámara con OpenCV\n",
    "camara = cv.VideoCapture(0)"
   ]
  },
  {
   "cell_type": "code",
   "execution_count": null,
   "metadata": {},
   "outputs": [],
   "source": [
    "# Inicialización\n",
    "\n",
    "ret, frame = camara.read()\n",
    "\n",
    "face_cascade = cv.CascadeClassifier(\"C:\\\\Users\\\\jota_\\\\anaconda\\\\pkgs\\\\libopencv-3.4.2-h20b85fd_0\\\\Library\\\\etc\\\\haarcascades\\\\haarcascade_frontalface_default.xml\")\n",
    "eye_cascade = cv.CascadeClassifier(\"C:\\\\Users\\\\jota_\\\\anaconda\\\\pkgs\\\\libopencv-3.4.2-h20b85fd_0\\\\Library\\\\etc\\\\haarcascades\\\\haarcascade_eye.xml\")\n",
    "smile_cascade = cv.CascadeClassifier(\"C:\\\\Users\\\\jota_\\\\anaconda\\\\pkgs\\\\libopencv-3.4.2-h20b85fd_0\\\\Library\\\\etc\\\\haarcascades\\\\haarcascade_smile.xml\")\n",
    "\n",
    "k = cv.waitKey(20) & 0xFF\n",
    "\n",
    "while(k != ord('a')):\n",
    "    \n",
    "    ret, frame = camara.read()\n",
    "    \n",
    "    k = cv.waitKey(20) & 0xFF\n",
    "    \n",
    "    # Pasamos la imagen a escala de grises\n",
    "    grayImage = cv.cvtColor(frame, cv.COLOR_BGR2GRAY)\n",
    "    grayImage = cv.equalizeHist(grayImage)\n",
    "\n",
    "    # Llamamos al clasificador de Haar (AdaBoost)\n",
    "    faces = face_cascade.detectMultiScale(grayImage, 1.1, 5)#, minSize= (100,130),maxSize=(200,400))\n",
    "\n",
    "    # Recorro las caras encontradas\n",
    "    for (x,y,w,h) in faces:\n",
    "        # Le dibujamos un rectángulo amarillo\n",
    "        cv.rectangle(frame,(x,y),(x+w,y+h),(255,255,0),2)\n",
    "        # Definimos las ROIs en la imagen gris y color\n",
    "        roi_gray = grayImage[y:y+h, x:x+w] \n",
    "        roi_color = frame[y:y+h, x:x+w] \n",
    "        # Para cada rostro hallado le buscamos los ojos\n",
    "        eyes = eye_cascade.detectMultiScale(roi_gray)\n",
    "        \n",
    "        # Para cada rostro hallado le buscamos la sonrisa\n",
    "        smile = smile_cascade.detectMultiScale(roi_gray)\n",
    "        # En los ojos hallados les dibujamos rectángulos\n",
    "        for (ex,ey,ew,eh) in eyes:\n",
    "            cv.rectangle(roi_color,(ex,ey),(ex+ew,ey+eh),(0,255,0),2)\n",
    "        \n",
    "        # En las sonrisas halladas les dibujamos rectángulos\n",
    "        for (ex,ey,ew, eh) in smile:\n",
    "            cv.rectangle(roi_color,(ex,ey),(ex+ew,ey+eh),(0,255,255),2)\n",
    "\n",
    "    cv.imshow('Detección de caras con filtros de Haar en cascada',frame) \n",
    "    cv.waitKey(20)\n",
    "\n",
    "time.sleep(10) \n",
    "cv.destroyAllWindows()"
   ]
  }
 ],
 "metadata": {
  "kernelspec": {
   "display_name": "Python 3",
   "language": "python",
   "name": "python3"
  },
  "language_info": {
   "codemirror_mode": {
    "name": "ipython",
    "version": 3
   },
   "file_extension": ".py",
   "mimetype": "text/x-python",
   "name": "python",
   "nbconvert_exporter": "python",
   "pygments_lexer": "ipython3",
   "version": "3.7.7"
  },
  "toc": {
   "base_numbering": 1,
   "nav_menu": {},
   "number_sections": true,
   "sideBar": true,
   "skip_h1_title": false,
   "title_cell": "Table of Contents",
   "title_sidebar": "Contents",
   "toc_cell": false,
   "toc_position": {},
   "toc_section_display": true,
   "toc_window_display": false
  },
  "varInspector": {
   "cols": {
    "lenName": 16,
    "lenType": 16,
    "lenVar": 40
   },
   "kernels_config": {
    "python": {
     "delete_cmd_postfix": "",
     "delete_cmd_prefix": "del ",
     "library": "var_list.py",
     "varRefreshCmd": "print(var_dic_list())"
    },
    "r": {
     "delete_cmd_postfix": ") ",
     "delete_cmd_prefix": "rm(",
     "library": "var_list.r",
     "varRefreshCmd": "cat(var_dic_list()) "
    }
   },
   "types_to_exclude": [
    "module",
    "function",
    "builtin_function_or_method",
    "instance",
    "_Feature"
   ],
   "window_display": false
  }
 },
 "nbformat": 4,
 "nbformat_minor": 4
}
