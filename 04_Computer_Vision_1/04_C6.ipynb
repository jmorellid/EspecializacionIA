{
 "cells": [
  {
   "cell_type": "markdown",
   "metadata": {},
   "source": [
    "# Computer Vision I\n",
    "\n",
    "## CLASE 6\n",
    "\n",
    "## Referencias\n",
    "\n",
    "- [Cheatsheet de Latex](https://www.caam.rice.edu/~heinken/latex/symbols.pdf)\n",
    "- [DRIVE](https://drive.google.com/drive/folders/1TDRvlwfSgLI39gHXgVhWlSaRJ-aTSaDE?usp=sharing)\n",
    "\n",
    "## Comentarios sobre el estado del documento"
   ]
  },
  {
   "cell_type": "markdown",
   "metadata": {},
   "source": [
    "## Importar librerías"
   ]
  },
  {
   "cell_type": "code",
   "execution_count": 1,
   "metadata": {},
   "outputs": [],
   "source": [
    "import numpy as np\n",
    "import matplotlib.pyplot as plt\n",
    "import os\n",
    "import inspect\n",
    "from matplotlib.image import imread\n",
    "\n",
    "import cv2 as cv\n",
    "\n",
    "%matplotlib inline"
   ]
  },
  {
   "cell_type": "markdown",
   "metadata": {},
   "source": [
    "## Enunciados\n",
    "\n",
    "### Aplicar el algoritmo camshift para la webcam\n"
   ]
  },
  {
   "cell_type": "code",
   "execution_count": 2,
   "metadata": {},
   "outputs": [],
   "source": [
    "# Abrir Cámara con OpenCV\n",
    "camara = cv.VideoCapture(0)"
   ]
  },
  {
   "cell_type": "code",
   "execution_count": 7,
   "metadata": {},
   "outputs": [],
   "source": [
    "# Crear Selector de la región de interés\n",
    "\n",
    "def selectROI(event,x,y,flags,param):\n",
    "    global frame, roiPts, InputMode\n",
    "    \n",
    "    if event == cv.EVENT_LBUTTONDBLCLK and len(roiPts) < 2:\n",
    "        roiPts.append((x,y))\n",
    "        cv.circle(frame,(x,y),2,(255,0,0),2)\n",
    "    \n",
    "    if len(roiPts) >= 2:\n",
    "        InputMode = False\n",
    "        \n",
    "        \n",
    "# Crear una función que permite elegir el ROI, calcula el hist en HSV del ROI\n",
    "def inputmode(frame):\n",
    "    global roiPts\n",
    "    \n",
    "    roiPts = []\n",
    "    k = cv.waitKey(20) & 0xFF\n",
    "\n",
    "    while(k != ord('a')):\n",
    "        cv.setMouseCallback('frame', selectROI)\n",
    "        k = cv.waitKey(20) & 0xFF\n",
    "        cv.imshow('frame', frame)\n",
    "\n",
    "    cv.destroyAllWindows()\n",
    "    \n",
    "    x, y = roiPts[0][0], roiPts[0][1]\n",
    "    w, h = roiPts[1][0] - x, roiPts[1][1] - y \n",
    "    track_window = (x, y, w, h)\n",
    "\n",
    "    roi = frame[y:y+h, x:x+w]\n",
    "    # Pasamos la ROI a HSV (los valores de H son más estables a cambios de intensidad)\n",
    "    hsv_roi =  cv.cvtColor(roi, cv.COLOR_BGR2HSV)\n",
    "    # Definimos una máscara para el histograma (Hue: 0..180, Saturation:60..255, Value:32..255)\n",
    "    mask = cv.inRange(hsv_roi, np.array((0., 60.,32.)), np.array((180.,255.,255.)))\n",
    "    # Y calculamos el histograma sobre esa máscara (toma solo el Hue: tonalidad)\n",
    "    roi_hist = cv.calcHist([hsv_roi],[0],mask,[180],[0,180])\n",
    "    # Normalizamos el histograma (entre 0 y 255 según indica el flag cv.NORM_MINMAX)\n",
    "    cv.normalize(roi_hist,roi_hist,0,255,cv.NORM_MINMAX);\n",
    "    \n",
    "    return roiPts, roi_hist, track_window"
   ]
  },
  {
   "cell_type": "code",
   "execution_count": null,
   "metadata": {},
   "outputs": [],
   "source": [
    "# Inicialización\n",
    "\n",
    "ret, frame = camara.read()\n",
    "roiPts = []\n",
    "\n",
    "# Condición de terminación: 10 iteraciones o moverse al menos 1pt\n",
    "term_crit = ( cv.TERM_CRITERIA_EPS | cv.TERM_CRITERIA_COUNT, 1, 10 )\n",
    "\n",
    "\n",
    "k = cv.waitKey(20) & 0xFF\n",
    "\n",
    "# Algoritmo Camshift\n",
    "\n",
    "while( k != ord('a')):\n",
    "    \n",
    "    # Si oprimis la tecla i, se reinicia el inputmode\n",
    "    if roiPts == [] or k == ord('i'):\n",
    "        roiPts = []\n",
    "        roiPts, roi_hist, track_window = inputmode(frame)\n",
    "    \n",
    "    k = cv.waitKey(20) & 0xFF\n",
    "    ret, frame = camara.read()\n",
    "    if ret == True:\n",
    "        hsv = cv.cvtColor(frame, cv.COLOR_BGR2HSV)\n",
    "        dst = cv.calcBackProject([hsv],[0],roi_hist,[0,180],1)\n",
    "        \n",
    "        # Aplicamos camshift al nuevo frame\n",
    "        #----------------------------------\n",
    "        ret, track_window = cv.CamShift(dst, track_window, term_crit)\n",
    "        \n",
    "        x,y,w,h = track_window\n",
    "        img2 = cv.rectangle(frame, (x,y), (x+w,y+h), 255,2)\n",
    "        \n",
    "        cv.imshow('Seguimiento',img2)\n",
    "        cv.imshow('Back Projection', dst)\n",
    "        k = cv.waitKey(30) & 0xff\n",
    "        if k == 27:\n",
    "            break\n",
    "    else:\n",
    "        breaka\n",
    "        \n",
    "cv.destroyAllWindows()"
   ]
  },
  {
   "cell_type": "code",
   "execution_count": null,
   "metadata": {},
   "outputs": [],
   "source": []
  }
 ],
 "metadata": {
  "kernelspec": {
   "display_name": "Python 3",
   "language": "python",
   "name": "python3"
  },
  "language_info": {
   "codemirror_mode": {
    "name": "ipython",
    "version": 3
   },
   "file_extension": ".py",
   "mimetype": "text/x-python",
   "name": "python",
   "nbconvert_exporter": "python",
   "pygments_lexer": "ipython3",
   "version": "3.7.7"
  },
  "toc": {
   "base_numbering": 1,
   "nav_menu": {},
   "number_sections": true,
   "sideBar": true,
   "skip_h1_title": false,
   "title_cell": "Table of Contents",
   "title_sidebar": "Contents",
   "toc_cell": false,
   "toc_position": {},
   "toc_section_display": true,
   "toc_window_display": false
  },
  "varInspector": {
   "cols": {
    "lenName": 16,
    "lenType": 16,
    "lenVar": 40
   },
   "kernels_config": {
    "python": {
     "delete_cmd_postfix": "",
     "delete_cmd_prefix": "del ",
     "library": "var_list.py",
     "varRefreshCmd": "print(var_dic_list())"
    },
    "r": {
     "delete_cmd_postfix": ") ",
     "delete_cmd_prefix": "rm(",
     "library": "var_list.r",
     "varRefreshCmd": "cat(var_dic_list()) "
    }
   },
   "types_to_exclude": [
    "module",
    "function",
    "builtin_function_or_method",
    "instance",
    "_Feature"
   ],
   "window_display": false
  }
 },
 "nbformat": 4,
 "nbformat_minor": 4
}
