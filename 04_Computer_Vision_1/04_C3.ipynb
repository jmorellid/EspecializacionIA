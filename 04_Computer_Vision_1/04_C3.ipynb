{
 "cells": [
  {
   "cell_type": "markdown",
   "metadata": {},
   "source": [
    "# Computer Vision 1\n",
    "\n",
    "## CLASE 3\n",
    "\n",
    "## Referencias\n",
    "\n",
    "- [Cheatsheet de Latex](https://www.caam.rice.edu/~heinken/latex/symbols.pdf)\n",
    "\n",
    "## Comentarios sobre el estado del documento\n",
    "\n"
   ]
  },
  {
   "cell_type": "markdown",
   "metadata": {},
   "source": [
    "## Importar librerías"
   ]
  },
  {
   "cell_type": "code",
   "execution_count": 1,
   "metadata": {},
   "outputs": [
    {
     "name": "stdout",
     "output_type": "stream",
     "text": [
      "Using matplotlib backend: Qt5Agg\n"
     ]
    }
   ],
   "source": [
    "import numpy as np\n",
    "import matplotlib.pyplot as plt\n",
    "from matplotlib.image import imread\n",
    "import os\n",
    " \n",
    "import numpy as np\n",
    "\n",
    "import cv2 as cv\n",
    "\n",
    "%matplotlib"
   ]
  },
  {
   "cell_type": "markdown",
   "metadata": {},
   "source": [
    "## Para la imagen suministrada “metal grid”. Implementar un algoritmo que:\n",
    "1. Calcule los gradientes en la imagen (dirección y módulo)\n",
    "2. Muestre imágenes de ángulo y módulo\n",
    "3. Marque con color las direcciones de gradientes más altos"
   ]
  },
  {
   "cell_type": "code",
   "execution_count": 2,
   "metadata": {},
   "outputs": [
    {
     "name": "stdout",
     "output_type": "stream",
     "text": [
      "['./Imagenes/CoordCrom_1.png', './Imagenes/CoordCrom_2.png', './Imagenes/CoordCrom_3.png', './Imagenes/metalgrid.jpg', './Imagenes/tela2.jpg', './Imagenes/test_blue.png', './Imagenes/test_green.png', './Imagenes/test_red.png', './Imagenes/WhatsApp Image 2020-09-15 at 19.16.38.jpeg', './Imagenes/WP_B.png', './Imagenes/WP_O.png', './Imagenes/WP_R.png']\n"
     ]
    }
   ],
   "source": [
    "images_list = ['./Imagenes/' +img for img in os.listdir(path='./Imagenes')]\n",
    "print(images_list)\n",
    "\n",
    "grid_path = images_list[3]\n",
    "web_path = images_list[4]\n",
    "general = images_list[8]\n",
    "\n"
   ]
  },
  {
   "cell_type": "code",
   "execution_count": 3,
   "metadata": {},
   "outputs": [],
   "source": [
    "image_grid = cv.imread(grid_path)\n",
    "image_grid = cv.cvtColor(image_grid, cv.COLOR_BGR2GRAY)"
   ]
  },
  {
   "cell_type": "markdown",
   "metadata": {},
   "source": [
    "## Prueba de gradiente y módulo utilizando filtro LoG"
   ]
  },
  {
   "cell_type": "code",
   "execution_count": 41,
   "metadata": {},
   "outputs": [],
   "source": [
    "plt.imshow(image_grid, cmap='gray')\n",
    "\n",
    "# definimos los kernels\n",
    "kX = np.array([1, -2, 1])\n",
    "kY = np.array([1, -2, 1])\n",
    "uni = np.array([0, 1, 0])\n",
    " \n",
    "# gradiente de la imagen en X e Y: Laplaciano del Gaussiano\n",
    "grid_grad_x = cv.sepFilter2D(image_grid, -1, kX, uni)\n",
    "grid_grad_y = cv.sepFilter2D(image_grid, -1, uni, kY )\n",
    "\n",
    "grid_grad_module = (grid_grad_x**2 + grid_grad_y**2) ** 0.5\n",
    "grid_grad_angle = np.arctan((grid_grad_y+ 0.0000001) / (grid_grad_x + 0.0000001) )\n",
    "\n",
    "grids = [grid_grad_x, grid_grad_y, grid_grad_module, grid_grad_angle]\n",
    "\n",
    "for i, grid in enumerate(grids):\n",
    "    plt.figure(i)\n",
    "    plt.imshow(grid, cmap='gray')\n",
    "    plt.show()\n",
    "\n",
    "## Realizo una prueba: Binarizo los bordes de las imagenes filtradas (con un threshold) y las sumo. \n",
    "\n",
    "threshold = 50\n",
    "\n",
    "mask_x = (grid_grad_x > threshold) * 255\n",
    "mask_y = (grid_grad_y > threshold) * 255\n",
    "\n",
    "module_threshold = np.quantile(grid_grad_module.flatten(), 0.80)\n",
    "mask_module = (grid_grad_module > module_threshold)* 255\n",
    "\n",
    "mask = cv.add(mask_x.astype(np.uint8), mask_y.astype(np.uint8))\n",
    "\n",
    "plt.figure(4)\n",
    "plt.imshow(mask, cmap='gray')\n",
    "plt.show()\n",
    "\n",
    "plt.figure(5)\n",
    "plt.imshow(mask_module, cmap='gray')\n",
    "plt.show()"
   ]
  },
  {
   "cell_type": "markdown",
   "metadata": {},
   "source": [
    "### Observaciones\n",
    "\n",
    "#### 1) Filtros direccionales (Gx, Gy)\n",
    "Ambos kernels lograron la detección de bordes. Dada la geometría de los hexagonos, en el Gx no de detectaron los bordes horizontales (lógico, dado que la variacion de color en dirección x no existirá en ese borde). Por esta misma razón, se detectaron mejor los bordes en el Gy. No había partes de la geometría de las figuras que sean estrictamente verticales. \n",
    "\n",
    "#### 2) Módulo\n",
    "El módulo no logra identificar correctamente los bordes.\n",
    "\n",
    "#### 3) Ángulo\n",
    "La imagen del ángulo muestra resultados curiosos: se observan hexágonos /rombos grices que no siguen la geometría de los hexágonos de la imagen original, sino que se comportan como líneas que atraviezan perpendicularmente los lados de los hexágonos.\n",
    "\n",
    "Es decir, se forman figuras que corresponden a patrones dentro de la imagen que tienen el mísmo ángulo."
   ]
  },
  {
   "cell_type": "markdown",
   "metadata": {},
   "source": [
    "## Prueba del gradiente aplicando filtro de sobel\n",
    "\n",
    "El filtro de sobel es un filtro direccional. Es particularmente bueno para identificar los bordes en imagenes. Esto se debe a que identifica y realza las variaciones en los colores direccionales en la periferia de cada píxel. Está formado por dos kernels, Gx, y Gy. \n",
    "\n",
    "La expresión de Gx está dada por:\n",
    "    $ \\begin{pmatrix} 1 \\\\ 2 \\\\  1 \\end{pmatrix} *  \\begin{pmatrix} 1 & 0 & −1 \\end{pmatrix} = \n",
    "    \\begin{pmatrix} 1 & 0 & −1 \\\\ 2 & 0 & -2 \\\\ 1 & 0 & -1 \\end{pmatrix} $\n",
    "\n",
    "La expresión de Gy está dada por:\n",
    "    $\\begin{pmatrix} 1 \\\\ 0 \\\\ −1 \\end{pmatrix} * \\begin{pmatrix} 1 & 2 &  1 \\end{pmatrix} = \n",
    "    \\begin{pmatrix} 1 & 0 & −1 \\\\ 2 & 0 & -2 \\\\ 1 & 0 & -1 \\end{pmatrix}^T $\n",
    "\n"
   ]
  },
  {
   "cell_type": "code",
   "execution_count": 44,
   "metadata": {},
   "outputs": [],
   "source": [
    "plt.imshow(image_grid, cmap='gray')\n",
    "\n",
    "# definimos los kernels\n",
    "k1 = np.array([1, 2, 1])\n",
    "k2 = np.array([1, 0, -1])\n",
    "\n",
    " \n",
    "# gradiente de la imagen en X e Y: Laplaciano del Gaussiano\n",
    "grid_grad_x = cv.sepFilter2D(image_grid, -1, k1, k2)\n",
    "grid_grad_y = cv.sepFilter2D(image_grid, -1, k2, k1 )\n",
    "\n",
    "grid_grad_module = (grid_grad_x**2 + grid_grad_y**2) ** 0.5\n",
    "grid_grad_angle = np.arctan((grid_grad_y + 0.0000001) / (grid_grad_x + 0.0000001) )\n",
    "\n",
    "grids = [grid_grad_x, grid_grad_y, grid_grad_module, grid_grad_angle]\n",
    "\n",
    "for i, grid in enumerate(grids):\n",
    "    plt.figure(i)\n",
    "    plt.imshow(grid, cmap='gray')\n",
    "    plt.show()\n",
    "\n",
    "## Realizo una prueba: Binarizo los bordes de las imagenes filtradas (con un threshold) y las sumo. \n",
    "\n",
    "threshold = 50\n",
    "\n",
    "\n",
    "module_threshold = np.quantile(grid_grad_module.flatten(), 0.80)\n",
    "mask_module = (grid_grad_module > module_threshold)* 255\n",
    "\n",
    "\n",
    "mask_x = (grid_grad_x > threshold) * 255\n",
    "mask_y = (grid_grad_y > threshold) * 255\n",
    "\n",
    "mask = cv.add(mask_x.astype(np.uint8), mask_y.astype(np.uint8))\n",
    "\n",
    "plt.figure(4)\n",
    "plt.imshow(mask, cmap='gray')\n",
    "plt.show()\n",
    "\n",
    "\n",
    "plt.figure(5)\n",
    "plt.imshow(mask_module, cmap='gray')\n",
    "plt.show()"
   ]
  },
  {
   "cell_type": "markdown",
   "metadata": {},
   "source": [
    "### Observaciones\n",
    "\n",
    "Las imágenes procesadas con el filtro Sobel arrojan resultados similares al LoG. Se puede ver mayor intensidad y grosor en los bordes de Gx y Gy, probablemente porque el filtro sobel tiene más en cuenta el aporte de los píxeles en las diagonales del kernel.\n",
    "\n",
    "Es de especial interés el resultado arrojado en la representación del ángulo. Esta figura representó con gran exactitud no solo la geometría de la imagen original, sino también la textura."
   ]
  },
  {
   "cell_type": "markdown",
   "metadata": {},
   "source": [
    "## Aplicación del filtro Canny para la detección de bordes y comparación con otros filtros\n",
    "\n"
   ]
  },
  {
   "cell_type": "code",
   "execution_count": 49,
   "metadata": {},
   "outputs": [],
   "source": [
    "# Aplicación del filtro de Canny\n",
    "\n",
    "filtro_canny = cv.Canny(image_grid, 100, 100, L2gradient=True)\n",
    "\n",
    "plt.imshow(filtro_canny, cmap='gray')\n",
    "\n",
    "plt.show()"
   ]
  },
  {
   "cell_type": "markdown",
   "metadata": {},
   "source": [
    "### Observaciones\n",
    "\n",
    "Eo filtro canny reconoció los bordes de los hexágonos, pero deformó la figura. Esto se debe producir por el efecto de \"blurring\" propio del algoritmo. La suavización de la imagen en vez de reducir el ruido en éste caso, genera la pérdida de los vértices. Por esta razón, se ven \"ovalos\"  en vez de hexágonos."
   ]
  },
  {
   "cell_type": "markdown",
   "metadata": {},
   "source": [
    "## Just for fun\n",
    "\n",
    "Uno de mis Hnos está cursando historia económica argentina. Dio con una imagen de un periódico antiguo, donde la imagen presenta ruido producido por la impresión. \n",
    "\n",
    "Me pareció entretenido evaluar si con las técnicas aprendidas se podría mejorar la calidad de la imagen recibida."
   ]
  },
  {
   "cell_type": "code",
   "execution_count": 214,
   "metadata": {},
   "outputs": [
    {
     "data": {
      "text/plain": [
       "<matplotlib.image.AxesImage at 0x21882909308>"
      ]
     },
     "execution_count": 214,
     "metadata": {},
     "output_type": "execute_result"
    }
   ],
   "source": [
    "image_general = cv.imread(general)\n",
    "image_general = cv.cvtColor(image_general, cv.COLOR_BGR2GRAY)\n",
    "\n",
    "# Calculamos la FFT\n",
    "dft = cv.dft(np.float32(image_general),flags = cv.DFT_COMPLEX_OUTPUT)\n",
    "dft_shift = np.fft.fftshift(dft)\n",
    "magnitude_spectrum = 20*np.log(cv.magnitude(dft_shift[:,:,0],dft_shift[:,:,1]))\n",
    "    \n",
    "\n",
    "# Graficamos\n",
    "\n",
    "plt.figure(1)\n",
    "\n",
    "ax1=plt.subplot(121)\n",
    "ax1.imshow(image_general, cmap = 'gray')\n",
    "ax1.set_title('Imagen original'), plt.xticks([]), plt.yticks([])\n",
    "ax2=plt.subplot(122)\n",
    "ax2.imshow(magnitude_spectrum, cmap = 'gray')\n",
    "ax2.set_title('Amplitud del espectro'), plt.xticks([]), plt.yticks([])\n",
    "plt.show()\n",
    "\n",
    "dim_cuadrado = 70\n",
    "\n",
    "rows, cols = image_general.shape\n",
    "crow,ccol = np.int_(rows/2), np.int_(cols/2)\n",
    "# Primero crear la máscara, escalón centrado con 1, resto en cero (esto es un pasabajos)\n",
    "mask = np.zeros((rows,cols,2),np.uint8)\n",
    "mask[crow-dim_cuadrado:crow+dim_cuadrado, ccol-dim_cuadrado:ccol+dim_cuadrado] = 1\n",
    "\n",
    "fshift = dft_shift*mask\n",
    "\n",
    "f_ishift = np.fft.ifftshift(fshift)\n",
    "img_back = cv.idft(f_ishift)\n",
    "img_back = cv.magnitude(img_back[:,:,0],img_back[:,:,1])\n",
    "\n",
    "plt.figure(2)\n",
    "\n",
    "img_back = ((img_back - img_back.min())/img_back.max()) * 255\n",
    "\n",
    "plt.subplot(121),plt.imshow(image_general, cmap = 'gray')\n",
    "plt.title('Imagen de entrada'), plt.xticks([]), plt.yticks([])\n",
    "plt.subplot(122),plt.imshow(img_back, cmap = 'gray')\n",
    "plt.title('Imagen luego de HPF'), plt.xticks([]), plt.yticks([])\n",
    "plt.show()\n",
    "\n",
    "median = cv.medianBlur(img_back.astype(np.uint8), 9)\n",
    "plt.imshow(median, cmap = 'gray')\n"
   ]
  },
  {
   "cell_type": "code",
   "execution_count": 200,
   "metadata": {},
   "outputs": [],
   "source": [
    "low_sigma = cv.GaussianBlur(image_general,(3,3),0,0)\n",
    "high_sigma = cv.GaussianBlur(image_general,(7,7),0,0)\n",
    "\n",
    "# Calculamos el DoG por sustracción\n",
    "dog = low_sigma - high_sigma\n",
    "\n",
    "cv.imshow('General', dog)"
   ]
  },
  {
   "cell_type": "code",
   "execution_count": 231,
   "metadata": {},
   "outputs": [],
   "source": [
    "final_img = cv.addWeighted(median, 1, cv.medianBlur(dog, 9), +0.05,0 )\n",
    "\n",
    "cv.imshow('General', final_img)"
   ]
  },
  {
   "cell_type": "code",
   "execution_count": 207,
   "metadata": {},
   "outputs": [],
   "source": []
  },
  {
   "cell_type": "code",
   "execution_count": null,
   "metadata": {},
   "outputs": [],
   "source": []
  }
 ],
 "metadata": {
  "kernelspec": {
   "display_name": "Python 3",
   "language": "python",
   "name": "python3"
  },
  "language_info": {
   "codemirror_mode": {
    "name": "ipython",
    "version": 3
   },
   "file_extension": ".py",
   "mimetype": "text/x-python",
   "name": "python",
   "nbconvert_exporter": "python",
   "pygments_lexer": "ipython3",
   "version": "3.7.7"
  },
  "toc": {
   "base_numbering": 1,
   "nav_menu": {},
   "number_sections": true,
   "sideBar": true,
   "skip_h1_title": false,
   "title_cell": "Table of Contents",
   "title_sidebar": "Contents",
   "toc_cell": false,
   "toc_position": {},
   "toc_section_display": true,
   "toc_window_display": false
  },
  "varInspector": {
   "cols": {
    "lenName": 16,
    "lenType": 16,
    "lenVar": 40
   },
   "kernels_config": {
    "python": {
     "delete_cmd_postfix": "",
     "delete_cmd_prefix": "del ",
     "library": "var_list.py",
     "varRefreshCmd": "print(var_dic_list())"
    },
    "r": {
     "delete_cmd_postfix": ") ",
     "delete_cmd_prefix": "rm(",
     "library": "var_list.r",
     "varRefreshCmd": "cat(var_dic_list()) "
    }
   },
   "types_to_exclude": [
    "module",
    "function",
    "builtin_function_or_method",
    "instance",
    "_Feature"
   ],
   "window_display": false
  }
 },
 "nbformat": 4,
 "nbformat_minor": 4
}
