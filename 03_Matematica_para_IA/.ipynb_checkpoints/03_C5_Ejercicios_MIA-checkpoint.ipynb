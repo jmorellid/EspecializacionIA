{
 "cells": [
  {
   "cell_type": "markdown",
   "metadata": {},
   "source": [
    "# Matemática para inteligencia Artificial\n"
   ]
  },
  {
   "cell_type": "markdown",
   "metadata": {},
   "source": [
    "### 2.4 Ejercicio\n",
    "Halle los autovalores y autovectores de\n",
    "$A = [1 2//2 1]$\n",
    "\n",
    "y halle dos matrices distintas $P1, P2$ tales que $D = P_1^{−1} A ∗ P_1 = P_2^{−1}A∗P_2$, donde\n",
    "\n",
    "D es una matriz diagonal.\n",
    "\n",
    "\n",
    "$A = \\begin{pmatrix} 1 & 2 \\\\ 2 & 1 \\end{pmatrix}$\n",
    "\n",
    "Primero debo hallar los autovalores. Para hallarlos realizo el cálculo: $det(A - \\lambda I) = 0$.\n",
    "\n",
    "El resultado de esa operación arroja $\\lambda_1 = 3, E_1 = \\begin{pmatrix} 1 \\\\ 1 \\end{pmatrix}$. $\\lambda_2 = -1, E_2 = \\begin{pmatrix} 1 \\\\ -1 \\end{pmatrix}$\n",
    "\n",
    "\n",
    "Por cómo se construyeron los Autovectores,  sé que  $AE_1 = \\lambda_1 E_1 y AE_2 = \\lambda_2 E_2$ Puedo escribir esto mismo de la siguiente forma:\n",
    "\n",
    "$A \\begin{pmatrix} E_1 & E_2 \\end{pmatrix} = \\begin{pmatrix} \\lambda_1 E_1 & \\lambda_2 E_2 \\end{pmatrix} \n",
    "=  \\begin{pmatrix} E_1 &  E_2 \\end{pmatrix}  \\begin{pmatrix} \\lambda_1 &  0 \\\\ 0 & \\lambda_2 \\end{pmatrix} $\n",
    "\n",
    "\n",
    "$A \\begin{pmatrix} E_1 & E_2 \\end{pmatrix} =  \n",
    "\\begin{pmatrix} E_1 &  E_2 \\end{pmatrix}  \\begin{pmatrix} \\lambda_1 &  0 \\\\ 0 & \\lambda_2 \\end{pmatrix} $\n",
    "\n",
    "$\\begin{pmatrix} E_1 & E_2 \\end{pmatrix}^{-1} A \\begin{pmatrix} E_1 & E_2 \\end{pmatrix} =  \n",
    "\\begin{pmatrix} E_1 & E_2 \\end{pmatrix}^{-1}\\begin{pmatrix} E_1 &  E_2 \\end{pmatrix}  \\begin{pmatrix} \\lambda_1 &  0 \\\\ 0 & \\lambda_2 \\end{pmatrix} $\n",
    "\n",
    "\n",
    "$\\begin{pmatrix} E_1 & E_2 \\end{pmatrix}^{-1} A \\begin{pmatrix} E_1 & E_2 \\end{pmatrix} =  \n",
    "\\begin{pmatrix} \\lambda_1 &  0 \\\\ 0 & \\lambda_2 \\end{pmatrix} $\n",
    "\n",
    "Por lo tanto, las dos matrices P1, P2 serán:\n",
    "\n",
    "$P_1 =  \\begin{pmatrix} 1 &  1 \\\\ 1 & -1 \\end{pmatrix} $, $D = \\begin{pmatrix} 3 &  0 \\\\ 0 & -1 \\end{pmatrix}$\n",
    "\n",
    "De igual manera, puedo multiplicar los Autovectores por un escalar, lo que arrojará la matriz $P_2$ que mantendrá sus propiedades.\n",
    "\n",
    "$P_2 =  \\begin{pmatrix} 2 &  2 \\\\ 2 & -2 \\end{pmatrix} $"
   ]
  },
  {
   "cell_type": "code",
   "execution_count": null,
   "metadata": {},
   "outputs": [],
   "source": []
  },
  {
   "cell_type": "markdown",
   "metadata": {},
   "source": [
    "\n",
    "### 2.5 Ejercicio\n",
    "Halle los autovalores y autovectores de\n",
    "A =\n",
    "\n",
    "[1/3 −1/3\n",
    "4/3 5/3] \n",
    "\n",
    "y explique por qu ́e no puede ser diagonalizada. Halle una matriz P tal que $P AP^{−1}$ =\n",
    "λ 1\n",
    "0 λ\n",
    "\n",
    "para alg ́un valor de λ.\n",
    "\n",
    "$A = \\begin{pmatrix} 1/3 & -1/3 \\\\ 4/3 & 5/3 \\end{pmatrix}$\n",
    "\n",
    "Primero debo hallar los autovalores. Para hallarlos realizo el cálculo: $det(A - \\lambda I) = 0$.\n",
    "\n",
    "El resultado de esa operación arroja $\\lambda_{1, 2} = 1$, $E_{1,2} = \\begin{pmatrix} X \\\\ -2X \\end{pmatrix} = X \\begin{pmatrix} 1 \\\\ -2 \\end{pmatrix}$.\n",
    "\n",
    "Es requisito para que las matrices sean diagonalizables que se pueda formar una base del subespacio con los autovectores. En este caso, se observa que esto no es posible, pues el subespacio generado de la matriz está compuesto sólamente por los vectores gen{(1, -4)}.\n",
    "\n",
    "El ejericio pide entonces encontrar una matriz P tal que $PAP^{-1} = \\begin{pmatrix} \\lambda & 1 \\\\ 0 & \\lambda \\end{pmatrix}$\n",
    "\n",
    "$ P^{-1} = \\begin{pmatrix} W_1 &  W_2 \\end{pmatrix} $\n",
    "\n",
    "$A \\begin{pmatrix} W_1 & W_2 \\end{pmatrix} = \\begin{pmatrix} W_1 & W_2 \\end{pmatrix} \\begin{pmatrix} \\lambda &  1 \\\\ 0 & \\lambda \\end{pmatrix}$\n",
    "\n",
    "$ A W_1 = \\lambda W_1 ; A W_2 = W_1 + \\lambda W_2$\n",
    "\n",
    "1) $(A - \\lambda I)W_1 = 0 $ \n",
    "\n",
    "2) $(A - \\lambda I) W_2 = W_1$\n",
    "\n",
    "W_1 siendo el autovector de la matriz, puedo generar la siguiente igualdad:\n",
    "\n",
    "$(A- \\lambda I)(A-\\lambda I)W_2 = 0$\n",
    "\n",
    "Puedo afirmar que esto se cumple, pues $(A-\\lambda I )W_2 = W_1$ y $(A-\\lambda I )W_1 = 0$.\n",
    "\n",
    "Esto representa la forma de jordan de la matriz.\n",
    "\n",
    "$(A- \\lambda I)^2W_2 = 0$\n",
    "\n",
    "De esta manera, $W_1 = \\begin{pmatrix} 1 \\\\ -2 \\end{pmatrix}$ y $W_2 = \\begin{pmatrix} -3 \\\\ 3 \\end{pmatrix}$.\n",
    "\n"
   ]
  },
  {
   "cell_type": "code",
   "execution_count": 31,
   "metadata": {},
   "outputs": [
    {
     "name": "stdout",
     "output_type": "stream",
     "text": [
      "W2: \n",
      " [[-3]\n",
      " [ 3]]\n",
      "W1: \n",
      " [[ 1.]\n",
      " [-2.]]\n",
      "Multiplicación (A - lam I)**2 W2: \n",
      " [[-3.33066907e-16]\n",
      " [ 3.33066907e-16]]\n"
     ]
    }
   ],
   "source": [
    "import numpy as np\n",
    "\n",
    "print('W2: \\n', np.array([[-3],[3]])) \n",
    "print('W1: \\n',(np.array([[1/3, -1/3],[4/3, 5/3]]) - np.eye(2)) @ np.array([[-3],[3]]))\n",
    "print('Multiplicación (A - lam I)**2 W2: \\n', (np.array([[1/3, -1/3],[4/3, 5/3]]) - np.eye(2)) @ (np.array([[1/3, -1/3],[4/3, 5/3]]) - np.eye(2)) @ np.array([[-3],[3]]))"
   ]
  },
  {
   "cell_type": "markdown",
   "metadata": {},
   "source": [
    "\n",
    "### 2.6 Ejercicio\n",
    "\n",
    "Sean S un subespacio de $C^n$ y P ∈ C^{n×n} una matriz tal que P x = proxS x. ¿Es diagonalizable\n",
    "\n",
    "esta matriz? ¿Los autovalores dependen del producto interno? ¿y los autovectores?\n",
    "\n",
    "\n",
    "Para saber si la matriz P es diagonalizable, debo encontrar que todos sus autovalores sean mayores a 0. Primero planteo que la la transformación de P sobre x.\n",
    "\n",
    "Puedo representar el espacio vectorial V como: $V = S \\bigoplus S^\\bot $. Consecuentemente, cada vector X se podrá descomponer en una componente dento de S y otra dentro de S ortogonal: $X = [X - proy_s X] + proy_s X$\n",
    "\n",
    "La descomposición creada cumplirá: $[X - proy_s X] \\in S^\\bot ; proy_s X \\in S $\n",
    "\n",
    "$<X - proy_{s^\\bot}X , proy_{s}X> =? 0 $\n",
    "\n",
    "$<proy_{s^\\bot}X , proy_{s}X> = 0 $\n",
    "\n",
    "$<x - proy_{s}X - proy_{s^\\bot}X,  proy_{s}X> = 0 $\n",
    "\n",
    "Entonces puedo afirmar que: \n",
    "\n",
    "$<x - proy_{s^\\bot}X , proy_{s}X> = 0 $\n",
    "\n",
    "\n",
    "Por otro lado, tengo que:\n",
    "${V_1, V_2,...,  V_r, V_{r+1}, ..., V_n} base de C^n$\n",
    "\n",
    "Entonces, P estará construida por una C.L. de los elementos de la Base descripta desde V1 ... Vr.\n",
    "\n",
    "$P.V1 = Proy_s V_1 = V_1$\n",
    "\n",
    "Entonces V1 por definición será un autovector de S con autovalor 1.\n",
    "\n",
    "Por inducción puedo inferir que enonces tendré Vr autovectores L.I. asociados al autovalor 1.\n",
    "\n",
    "Para el resto de los elementos de la base, asociados a S ortogonal, los autovalores serán 0, pues la proyección estará en el nucleo.\n",
    "\n",
    "Los autovectores cambiarán en función del subespacio, pero los autovalores se mantendrán inmutados.\n",
    "\n",
    "Si uno cambia el producto interno, cambia la base de S ortogonal, dado que la definición de ortogonal cambiará con el P.i. Sin embargo, S queda inmutado."
   ]
  },
  {
   "cell_type": "code",
   "execution_count": null,
   "metadata": {},
   "outputs": [],
   "source": []
  }
 ],
 "metadata": {
  "kernelspec": {
   "display_name": "Python 3",
   "language": "python",
   "name": "python3"
  },
  "language_info": {
   "codemirror_mode": {
    "name": "ipython",
    "version": 3
   },
   "file_extension": ".py",
   "mimetype": "text/x-python",
   "name": "python",
   "nbconvert_exporter": "python",
   "pygments_lexer": "ipython3",
   "version": "3.7.6"
  },
  "toc": {
   "base_numbering": 1,
   "nav_menu": {},
   "number_sections": true,
   "sideBar": true,
   "skip_h1_title": false,
   "title_cell": "Table of Contents",
   "title_sidebar": "Contents",
   "toc_cell": false,
   "toc_position": {},
   "toc_section_display": true,
   "toc_window_display": false
  },
  "varInspector": {
   "cols": {
    "lenName": 16,
    "lenType": 16,
    "lenVar": 40
   },
   "kernels_config": {
    "python": {
     "delete_cmd_postfix": "",
     "delete_cmd_prefix": "del ",
     "library": "var_list.py",
     "varRefreshCmd": "print(var_dic_list())"
    },
    "r": {
     "delete_cmd_postfix": ") ",
     "delete_cmd_prefix": "rm(",
     "library": "var_list.r",
     "varRefreshCmd": "cat(var_dic_list()) "
    }
   },
   "types_to_exclude": [
    "module",
    "function",
    "builtin_function_or_method",
    "instance",
    "_Feature"
   ],
   "window_display": false
  }
 },
 "nbformat": 4,
 "nbformat_minor": 4
}
