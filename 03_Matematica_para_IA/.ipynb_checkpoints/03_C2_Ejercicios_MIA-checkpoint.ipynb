{
 "cells": [
  {
   "cell_type": "markdown",
   "metadata": {},
   "source": [
    "# Matemática para inteligencia Artificial\n",
    "\n",
    "## Ejercicios clase 3\n",
    "\n",
    "### Ejercicio 3\n",
    "\n",
    "1. A = $\n",
    "\\begin{vmatrix}\n",
    "1 & 2\\\\\n",
    "3 & 4\\\\\n",
    "5 & 6\\\\\n",
    "\\end{vmatrix}\n",
    "$\n",
    "\n",
    "2. B = $\n",
    "\\begin{vmatrix}\n",
    "1 & 2\\\\\n",
    "1 & 2\\\\\n",
    "\\end{vmatrix}$\n",
    "\n",
    "Según lo deducido del método de ortogonalización de Graham Schmidt:\n",
    "\n",
    "$$v1 = g1$$\n",
    "$$v2 = \\frac{<v2,g1>}{||g1||^2} + g2  $$\n",
    "\n",
    "Que matricialmente se representa cómo:\n",
    "\n",
    "$$ Q =\n",
    "\\begin{vmatrix}\n",
    "\\frac{g1}{||g1||}, \\frac{g2}{||g2||}\n",
    "\\end{vmatrix}$$\n",
    "\n",
    "\n",
    "$$ R =\n",
    "\\begin{vmatrix}\n",
    "||g1|| & \\frac{<v2,g1>}{||g1||}\\\\\n",
    "0 & ||g2|| \\\\\n",
    "\\end{vmatrix}$$\n",
    "\n"
   ]
  },
  {
   "cell_type": "code",
   "execution_count": 2,
   "metadata": {},
   "outputs": [],
   "source": [
    "import numpy as np\n",
    "A = np.array([[1, 2], [3, 4], [5, 6]])\n",
    "\n",
    "B = np.array([[1, 2], [1, 2]])"
   ]
  },
  {
   "cell_type": "code",
   "execution_count": 120,
   "metadata": {},
   "outputs": [
    {
     "name": "stdout",
     "output_type": "stream",
     "text": [
      "[[8.8817842e-16]]\n"
     ]
    },
    {
     "name": "stderr",
     "output_type": "stream",
     "text": [
      "C:\\Users\\jota_\\anaconda\\lib\\site-packages\\ipykernel_launcher.py:52: RuntimeWarning: invalid value encountered in true_divide\n"
     ]
    }
   ],
   "source": [
    "v1 = A.T[0].reshape(3,1)\n",
    "v2 = A.T[1].reshape(3,1)\n",
    "\n",
    "#Ortogonalización de vectores\n",
    "g1 = v1\n",
    "g2 = v2 - np.dot(v2.T, v1)/np.dot(v1.T ,v1)*  v1\n",
    "\n",
    "#prueba de ortogonalidad\n",
    "print(np.dot(g2.T, g1))\n",
    "\n",
    "#cálculo de normas de vectores ortogonales\n",
    "g1_norm = (np.dot(g1.T,g1)**0.5)[0][0]\n",
    "g2_norm = (np.dot(g2.T,g2)**0.5)[0][0]\n",
    "\n",
    "#normalización de vecores ortogonales\n",
    "g1_unit = g1 / g1_norm\n",
    "g2_unit = g2 / g2_norm\n",
    "\n",
    "#armado de matriz Q\n",
    "Q = np.hstack((g1_unit, g2_unit))\n",
    "\n",
    "# Armado de matriz R\n",
    "\n",
    "R = np.array([[g1_norm, np.dot(v2.T, g1)[0][0]/g1_norm ],\n",
    "              [0 , g2_norm]])\n",
    "\n",
    "np.matmul(Q, R)\n",
    "\n",
    "# Creación de función que realiza la descomposición QR para hacer ej b\n",
    "\n",
    "def qr_descomposition(A):\n",
    "    \n",
    "    filas = A.shape[0]\n",
    "    columnas = A.shape[1]\n",
    "    \n",
    "    matriz_ortogonal = np.zeros(shape=[filas,columnas])\n",
    "    matriz_ortonormal = np.zeros(shape=[filas,columnas])\n",
    "    R_matrix = np.zeros(shape=[columnas, columnas])\n",
    "\n",
    "    for i in range(columnas):\n",
    "        matriz_ortogonal[:,i] = A[:,i]\n",
    "        g_j = 0\n",
    "\n",
    "        for j in range(i):\n",
    "            g_j = matriz_ortogonal[:,j]\n",
    "            v_projection_gj = np.dot(A[:,i].T, g_j)/ np.dot(g_j.T ,g_j)\n",
    "            matriz_ortogonal[:,i] = matriz_ortogonal[:,i] - v_projection_gj * g_j\n",
    "            R_matrix[i,j] = v_projection_gj *  np.dot(g_j.T ,g_j)**0.5\n",
    "\n",
    "        R_matrix[i,i] = np.dot(matriz_ortogonal[:,i], matriz_ortogonal[:,i])**0.5\n",
    "\n",
    "        matriz_ortonormal[:,i] = matriz_ortogonal[:,i] / R_matrix[i,i]\n",
    "    \n",
    "    return matriz_ortonormal, R_matrix.T\n",
    "\n",
    "Qb, Rb = qr_descomposition(B)\n",
    "\n",
    "# como la proyeccion de V2 sobre V1 cae totalmente dentro de V1,la matriz QR tendrá una dimensión menos, pues elimina ese vector"
   ]
  },
  {
   "cell_type": "code",
   "execution_count": 127,
   "metadata": {},
   "outputs": [
    {
     "data": {
      "text/plain": [
       "array([[0.70710678,        nan],\n",
       "       [0.70710678,        nan]])"
      ]
     },
     "execution_count": 127,
     "metadata": {},
     "output_type": "execute_result"
    }
   ],
   "source": [
    "Qb"
   ]
  },
  {
   "cell_type": "code",
   "execution_count": 130,
   "metadata": {},
   "outputs": [
    {
     "name": "stdout",
     "output_type": "stream",
     "text": [
      "[2. 2.]\n",
      "[0. 0.]\n"
     ]
    },
    {
     "name": "stderr",
     "output_type": "stream",
     "text": [
      "C:\\Users\\jota_\\anaconda\\lib\\site-packages\\ipykernel_launcher.py:22: RuntimeWarning: invalid value encountered in true_divide\n"
     ]
    },
    {
     "data": {
      "text/plain": [
       "array([[nan, nan],\n",
       "       [nan, nan]])"
      ]
     },
     "execution_count": 130,
     "metadata": {},
     "output_type": "execute_result"
    }
   ],
   "source": [
    "A = B\n",
    "filas = A.shape[0]\n",
    "columnas = A.shape[1]\n",
    "\n",
    "matriz_ortogonal = np.zeros(shape=[filas,columnas])\n",
    "matriz_ortonormal = np.zeros(shape=[filas,columnas])\n",
    "R_matrix = np.zeros(shape=[columnas, columnas])\n",
    "\n",
    "for i in range(columnas):\n",
    "    matriz_ortogonal[:,i] = A[:,i]\n",
    "    g_j = 0\n",
    "    \n",
    "    for j in range(i):\n",
    "        print(matriz_ortogonal[:,i])\n",
    "        g_j = matriz_ortogonal[:,j]\n",
    "        v_projection_gj = np.dot(A[:,i].T, g_j)/ np.dot(g_j.T ,g_j)\n",
    "        matriz_ortogonal[:,i] = matriz_ortogonal[:,i] - v_projection_gj * g_j\n",
    "        R_matrix[i,j] = v_projection_gj *  np.dot(g_j.T ,g_j)**0.5\n",
    "        print(matriz_ortogonal[:,i])\n",
    "    R_matrix[i,i] = np.dot(matriz_ortogonal[:,i], matriz_ortogonal[:,i])**0.5\n",
    "        \n",
    "    matriz_ortonormal[:,i] = matriz_ortogonal[:,i] / R_matrix[i,i]\n",
    "\n",
    "np.matmul(matriz_ortonormal, R_matrix.T)"
   ]
  },
  {
   "cell_type": "code",
   "execution_count": 113,
   "metadata": {},
   "outputs": [
    {
     "data": {
      "text/plain": [
       "array([[5.91607978, 7.43735744],\n",
       "       [0.        , 0.82807867]])"
      ]
     },
     "execution_count": 113,
     "metadata": {},
     "output_type": "execute_result"
    }
   ],
   "source": []
  },
  {
   "cell_type": "code",
   "execution_count": null,
   "metadata": {},
   "outputs": [],
   "source": []
  }
 ],
 "metadata": {
  "kernelspec": {
   "display_name": "Python 3",
   "language": "python",
   "name": "python3"
  },
  "language_info": {
   "codemirror_mode": {
    "name": "ipython",
    "version": 3
   },
   "file_extension": ".py",
   "mimetype": "text/x-python",
   "name": "python",
   "nbconvert_exporter": "python",
   "pygments_lexer": "ipython3",
   "version": "3.7.6"
  },
  "toc": {
   "base_numbering": 1,
   "nav_menu": {},
   "number_sections": true,
   "sideBar": true,
   "skip_h1_title": false,
   "title_cell": "Table of Contents",
   "title_sidebar": "Contents",
   "toc_cell": false,
   "toc_position": {},
   "toc_section_display": true,
   "toc_window_display": false
  },
  "varInspector": {
   "cols": {
    "lenName": 16,
    "lenType": 16,
    "lenVar": 40
   },
   "kernels_config": {
    "python": {
     "delete_cmd_postfix": "",
     "delete_cmd_prefix": "del ",
     "library": "var_list.py",
     "varRefreshCmd": "print(var_dic_list())"
    },
    "r": {
     "delete_cmd_postfix": ") ",
     "delete_cmd_prefix": "rm(",
     "library": "var_list.r",
     "varRefreshCmd": "cat(var_dic_list()) "
    }
   },
   "types_to_exclude": [
    "module",
    "function",
    "builtin_function_or_method",
    "instance",
    "_Feature"
   ],
   "window_display": false
  }
 },
 "nbformat": 4,
 "nbformat_minor": 4
}
