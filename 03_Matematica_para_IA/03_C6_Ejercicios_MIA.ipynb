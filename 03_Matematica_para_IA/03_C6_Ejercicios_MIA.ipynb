{
 "cells": [
  {
   "cell_type": "markdown",
   "metadata": {},
   "source": [
    "# Matemática para inteligencia Artificial\n"
   ]
  },
  {
   "cell_type": "markdown",
   "metadata": {},
   "source": [
    "### 4.1 Ejercicio\n",
    "Dada $A = \\begin{pmatrix} 1 & 0 & 1 \\\\ 0 & 1 & 1 \\end{pmatrix}$\n",
    "\n",
    ". Halle sin usar un software de c´alculo su descomposici´on en valores\n",
    "singulares.\n",
    "\n",
    "Primero debo encontrar ATA.\n",
    "#### Resolución\n",
    "\n",
    "$ A^TA = \\begin{pmatrix} 1 & 0 & 1 \\\\ 0 & 1 & 1 \\\\ 1 & 1 & 2 \\end{pmatrix}$\n",
    "\n",
    "Busco los Autovalores y autovectores de esa matriz y normalizo los Autovectores:\n",
    "\n",
    "$ \\sigma^2_1 = 3; V_1 = \\frac{1}{\\sqrt{6}} \\begin{pmatrix} 1 \\\\ 1 \\\\ 2 \\end{pmatrix};\n",
    "\\sigma^2_2 = 1, V_2 = \\frac{1}{\\sqrt{2}} \\begin{pmatrix} 1 \\\\ -1 \\\\ 0 \\end{pmatrix};\n",
    "\\sigma^2_3 = 0, V_3 = \\frac{1}{\\sqrt{3}} \\begin{pmatrix} 1 \\\\ 1 \\\\ -1 \\end{pmatrix}$\n",
    "\n",
    "Con estos datos ya estoy en condiciones de construir la matriz V y la matriz $\\sum$. Siguiendo, para encontrar los autovectores ortonormales ui, también se que los puedo obtener haciendo la multiplicación entre A y vi y normalizar el resultado.\n",
    "\n",
    "$ui := \\frac{Avi}{||Avi||} = \\frac{1}{\\sigma_i}A.v_i$\n",
    "\n",
    "$ \\sigma^2_1 = 3; V_3 = \\frac{1}{\\sqrt{6}} \\begin{pmatrix} 1 \\\\ 1 \\\\ 2 \\end{pmatrix}; u_1 = \\frac{1}{\\sqrt{2}} \\begin{pmatrix} 1 \\\\ 1 \\end{pmatrix}$\n",
    "\n",
    "$ \\sigma^2_2 = 1; V_2 = \\frac{1}{\\sqrt{6}} \\begin{pmatrix} 1 \\\\ -1 \\\\ 0 \\end{pmatrix}; u_1 = \\frac{1}{\\sqrt{2}} \\begin{pmatrix} 1 \\\\ -1 \\end{pmatrix}$\n",
    "\n",
    "\n",
    "La SVD de la matriz sería entonces:\n",
    "\n",
    "$U = \\begin{pmatrix} \\frac{1}{\\sqrt{2}} & \\frac{1}{\\sqrt{2}} \\\\ \\frac{1}{\\sqrt{2}} & -\\frac{1}{\\sqrt{2}} \\end{pmatrix}$\n",
    "\n",
    "$V =  \\begin{pmatrix} \\frac{1}{\\sqrt{6}} & \\frac{1}{\\sqrt{2}} & \\frac{1}{\\sqrt{2}}\n",
    "\\\\ \\frac{1}{\\sqrt{6}} & -\\frac{1}{\\sqrt{2}} & \\frac{1}{\\sqrt{3}}\n",
    "\\\\ \\frac{2}{\\sqrt{6}} & 0 & -\\frac{1}{\\sqrt{3}}\\end{pmatrix}$\n",
    "\n",
    "$\\sum =  \\begin{pmatrix} {\\sqrt{3}} & 0 & 0\n",
    "\\\\ 0 & 1 & 0\n",
    "\\end{pmatrix}$\n"
   ]
  },
  {
   "cell_type": "code",
   "execution_count": 1,
   "metadata": {},
   "outputs": [
    {
     "name": "stdout",
     "output_type": "stream",
     "text": [
      "[[1. 0. 1.]\n",
      " [0. 1. 1.]]\n"
     ]
    }
   ],
   "source": [
    "import numpy as np\n",
    "\n",
    "########### CORROBORO EL RESULTADO ###########\n",
    "\n",
    "U = np.array([[1/2**0.5, 1/2**0.5 ], [1/2**0.5, -1/2**0.5]])\n",
    "V = np.array([[1/6**0.5, 1/2**0.5, 1/3**0.5], [1/6**0.5, -1/2**0.5, 1/3**0.5], [2/6**0.5, 0, -1/3**0.5]])\n",
    "S = np.array([[3**0.5, 0, 0], [0, 1, 0]])\n",
    "\n",
    "print(np.round_(U@S@V.T))"
   ]
  },
  {
   "cell_type": "markdown",
   "metadata": {},
   "source": [
    "### 4.2 Ejercicio\n",
    "Dada $A = \\begin{pmatrix} 1 & 0 \\\\ 1 & 0 \\\\ 1 & 1 \\end{pmatrix}$\n",
    "\n",
    ". Halle sin usar un software de c´alculo su descomposici´on en valores\n",
    "singulares.\n",
    "\n",
    "#### Resolución\n",
    "\n",
    "Primero debo encontrar ATA.\n",
    "\n",
    "$ A^TA = \\begin{pmatrix} 3 & 1 \\\\ 1 & 1\\end{pmatrix}$\n",
    "\n",
    "Busco los Autovalores y autovectores de esa matriz y normalizo los Autovectores\n",
    "\n",
    "$\\sigma^2_1 = 2 + \\sqrt 2; V_1 = (4 -2*2^{0.5})^{-1} \\begin{pmatrix} 1 \\\\ -(1 - \\sqrt 2) \\end{pmatrix}$\n",
    "\n",
    "\n",
    "$\\sigma^2_2 = 2 - \\sqrt 2; V_2 = (4 +2*2^{0.5})^{-1} \\begin{pmatrix} 1 \\\\ -(1 + \\sqrt 2) \\end{pmatrix}$\n",
    "\n",
    "Con estos datos ya estoy en condiciones de construir la matriz V y la matriz $\\sum$. Siguiendo, para encontrar los autovectores ortonormales ui, también se que los puedo obtener haciendo la multiplicación entre A y vi y normalizar el resultado.\n",
    "\n",
    "$ui := \\frac{Avi}{||Avi||} = \\frac{1}{\\sigma_i}A.v_i$\n",
    "\n",
    "$ \\sigma^2_1 =  2 + \\sqrt 2; U_1 = \\frac{1}{\\sqrt{2}} \\begin{pmatrix} \\sqrt{2}/2 \\\\ \\sqrt{2}/2 \\\\ 1 \\end{pmatrix};$\n",
    "\n",
    "$ \\sigma^2_2 = 2 - \\sqrt 2; U_2 = \\frac{1}{\\sqrt{2}} \\begin{pmatrix} - \\sqrt{2}/2 \\\\ - \\sqrt{2}/2 \\\\ 1 \\end{pmatrix}$\n",
    "\n",
    "$ \\sigma^2_3 =0 ; U_3 = \\frac{1}{\\sqrt{2}} \\begin{pmatrix} -1 \\\\ 1 \\\\ 0 \\end{pmatrix}$\n",
    "\n",
    "\n",
    "La SVD de la matriz sería entonces:\n",
    "\n",
    "$V = \\begin{pmatrix} \\frac{1}{4 + 2*2^{0.5}} & \\frac{1}{(4 +2*2^{0.5})} \\\\ \\frac{-(1 - \\sqrt 2)}{4 + 2*2^{0.5}} & -\\frac{(1 + \\sqrt 2)}{(4 +2*2^{0.5})} \\end{pmatrix}$\n",
    "\n",
    "$U =  \\begin{pmatrix} \n",
    "\\frac{1}{2} & \\frac{-1}{2} & -\\frac{1}{\\sqrt{2}}\n",
    "\\\\ \\frac{1}{2} & -\\frac{-1}{2} & \\frac{1}{\\sqrt{2}}\n",
    "\\\\ \\frac{1}{\\sqrt{2}} & \\frac{-1}{\\sqrt2} & 0\\end{pmatrix}$\n",
    "\n",
    "$\\sum =  \\begin{pmatrix} 2 + \\sqrt 2 & 0 \n",
    "\\\\ 0 & 2 + \\sqrt 2\n",
    "\\\\ 0 & 0\n",
    "\\end{pmatrix}$\n"
   ]
  },
  {
   "cell_type": "markdown",
   "metadata": {},
   "source": [
    "### 4.3 Ejercicio\n",
    "Suponga que A es una matriz herm´ıtica ¿c´omo es su descomposici´on en valores singulares?\n",
    "\n",
    "Las matrices Hermíticas son matrices cuadradas cuya Traspuesta y conjugada es igual a la matriz original.\n",
    "\n",
    "#### Resolución\n",
    "\n",
    "Es una propiedad intrínseca de las matrices hermiticas que son diagonalizables. Por esta razón, se puede afirmar que los autovectores de la matriz crearán una base del subespacio $C^n$.\n",
    "\n",
    "Por esta razón, puedo afirmar que al aplicar SVD sobre una matriz hermítica, obtendré las matrices $U, V y \\sum$ con la particularidad de que U y V serán iguales. Cuando la matriz es positiva, la SVD será igual a la diagonalización por autovalores y autovectores.\n",
    "\n",
    "Cuando la matriz es negativa, alguno de sus autovalores será negativo. Sin embargo, los valores singulares son positivos. Ambas descomposiciones en este caso estarán realcionadas por el módulo de las matrices. \n",
    "\n",
    "Esto se deduce pues:\n",
    "\n",
    "$ A^T.A = A.A^T = U.\\sum V^T . V \\sum U^T = V^T.\\sum U . U^T \\sum V =  P \\sum^2 P^T$\n",
    "\n",
    "Es facil ver que al hacer At.A se pierde el signo.\n",
    "\n",
    "Por lo tanto, la SVD de una matriz hermítica será equivalente a la diagonalización con autovecotres y autovalores si la matriz es positiva y su módulo será igual para negativas.\n"
   ]
  },
  {
   "cell_type": "markdown",
   "metadata": {},
   "source": [
    "### 4.4 Ejercicio\n",
    "Halle una matriz diagonalizable cuya descomposici´on en autovalores y autovectores no coincida\n",
    "con su SVD.\n",
    "\n",
    "Las matrices que no son hermíticas tienen descomposiciones en autovalores y autovectores diferentes a su SVD.\n",
    "\n",
    "Dada $A = \\begin{pmatrix} 1 & 1 \\\\ 1 & 2 \\end{pmatrix}$\n",
    "\n",
    "Calculando los autovectores y autovalores, la resolución queda:\n",
    "\n",
    "$P = \\begin{pmatrix} (2/3)^{0.5} & (2/3)^{0.5} \\\\ (1/3)^{0.5} & (-1/3)^{0.5} \\end{pmatrix}$\n",
    "\n",
    "$\\lambda = \\begin{pmatrix} 1 + 2^{0.5} & 0 \\\\ 0 & 1 - 2^{0.5} \\end{pmatrix}$\n",
    "\n",
    "Por otro lado, la SVD arrojará como resultado:\n",
    "\n",
    "Calculando los autovectores y autovalores, la resolución queda:\n",
    "\n",
    "$P = \\begin{pmatrix} (2/3)^{0.5} & (2/3)^{0.5} \\\\ (1/3)^{0.5} & (-1/3)^{0.5} \\end{pmatrix}$\n",
    "\n",
    "$\\lambda = \\begin{pmatrix} 1 + 2^{0.5} & 0 \\\\ 0 & 1 - 2^{0.5} \\end{pmatrix}$\n",
    "\n",
    "\n",
    "Por otro lado, la SVD arroja:\n",
    "\n",
    "$\\sum = \\begin{pmatrix}  ((7 + 45^{0.5})/2)^{0.5} & 0 \\\\ 0 & ((7 - 45^{0.5})/2)^{0.5} \\end{pmatrix}$\n",
    "\n",
    "Este resultado ya descarta la posibilidad de que sean iguales las descomposiciones."
   ]
  },
  {
   "cell_type": "markdown",
   "metadata": {},
   "source": [
    "### 4.5 Ejercicio\n",
    "Descomposici´on de Cholesky. Dada la matriz positiva $A = \\begin{pmatrix} 2 & 1 \\\\ 1 & 2\\end{pmatrix}$\n",
    "\n",
    "• Halle su ra´ız, es decir una matriz B de 2 × 2 positiva tal que A = B2\n",
    "\n",
    "• Halle la factorizaci´on QR de B, de forma tal que en la diagonal de R los valores sean\n",
    "positivos. Teniendo en cuenta que B = QR y B∗ = B. demuestre que QR = R∗Q∗\n",
    "\n",
    "• Demuestre que A = RR∗\n",
    "\n",
    "Donde R es una matriz triangular\n",
    "\n",
    "#### VER PDF ADJUNTO\n",
    "\n",
    "[Descomposición%Cholesky.pdf](./Descomposición%Cholesky.pdf)"
   ]
  },
  {
   "cell_type": "code",
   "execution_count": 12,
   "metadata": {},
   "outputs": [],
   "source": [
    "import numpy as np"
   ]
  }
 ],
 "metadata": {
  "kernelspec": {
   "display_name": "Python 3",
   "language": "python",
   "name": "python3"
  },
  "language_info": {
   "codemirror_mode": {
    "name": "ipython",
    "version": 3
   },
   "file_extension": ".py",
   "mimetype": "text/x-python",
   "name": "python",
   "nbconvert_exporter": "python",
   "pygments_lexer": "ipython3",
   "version": "3.7.6"
  },
  "toc": {
   "base_numbering": 1,
   "nav_menu": {},
   "number_sections": true,
   "sideBar": true,
   "skip_h1_title": false,
   "title_cell": "Table of Contents",
   "title_sidebar": "Contents",
   "toc_cell": false,
   "toc_position": {},
   "toc_section_display": true,
   "toc_window_display": false
  },
  "varInspector": {
   "cols": {
    "lenName": 16,
    "lenType": 16,
    "lenVar": 40
   },
   "kernels_config": {
    "python": {
     "delete_cmd_postfix": "",
     "delete_cmd_prefix": "del ",
     "library": "var_list.py",
     "varRefreshCmd": "print(var_dic_list())"
    },
    "r": {
     "delete_cmd_postfix": ") ",
     "delete_cmd_prefix": "rm(",
     "library": "var_list.r",
     "varRefreshCmd": "cat(var_dic_list()) "
    }
   },
   "types_to_exclude": [
    "module",
    "function",
    "builtin_function_or_method",
    "instance",
    "_Feature"
   ],
   "window_display": false
  }
 },
 "nbformat": 4,
 "nbformat_minor": 4
}
