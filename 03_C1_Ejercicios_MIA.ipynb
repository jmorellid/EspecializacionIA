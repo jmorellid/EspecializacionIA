{
 "cells": [
  {
   "cell_type": "markdown",
   "metadata": {},
   "source": [
    "# Espacios vectoriales y transformaciones lineales\n",
    "## Ejercicio 1\n",
    "\n",
    "a. Probar que $T: V \\rightarrow W$ es una Transformación lineal.\n",
    "\n",
    "Para demostrar que T es una transformación lineal, hay que demostrar que se cumplen las siguientes propiedades para todo $x, y \\in V y \\lambda \\in \\Re$\n",
    "\n",
    "$$(1) T(x + y) = T(x) + T(y)$$\n",
    "\n",
    "$$(2) T(\\lambda x) = \\lambda T(x) $$\n"
   ]
  },
  {
   "cell_type": "markdown",
   "metadata": {},
   "source": [
    "## Ejercicio 2\n",
    "Supongamos que V es un espacio vectorial, y , A ⊆ V (A 6=) es un subconjunto de V . Dados\n",
    "dos elementos x, y ∈ A, el segmento que une estos puntos, se puede escribir como αx + (1 − α)y\n",
    "con 0 ≥ α ≥ 1.\n",
    "Se dice que A es convexo si dados dos elementos cualquiera x, y ∈ A, el segmento est ́a\n",
    "contenido en A.\n",
    "### 1. Explique por que todo subespacio es un conjunto convexo.\n",
    "\n",
    "Dado el descrito $A$ contenido en $V$, Son propiedades de un SEV:\n",
    "si V es un EV, no vacío!!\n",
    "\n",
    "$ i)\\;\\;\\forall x,y\\in A,x+y\\in A $\n",
    "\n",
    "$ ii)\\;\\forall x\\in A,\\forall k \\in \\Re , k.x \\in A $\n",
    "\n",
    "Hay que probar que todos los elementos del segmento están contenidos en A.\n",
    "\n",
    "- Tomando lo establecido por la propiedad ii) y que $\\alpha \\in \\Re \\therefore \\alpha . x \\in A$\n",
    "- Por otro lado, $(1 - \\alpha) \\in \\Re \\therefore (1 - \\alpha) . x \\in A$\n",
    "\n",
    "Lo mismo aplica para el vector $y$.\n",
    "\n",
    "Dado que $\\alpha.x, \\alpha.y, (1-\\alpha).x$ y $(1-\\alpha).y \\in A$ y cualquier combinación lineal de dichos vectores caerán sobre ese subespacio, concluimos que:\n",
    "\n",
    "$\\forall x,y \\in A, \\alpha \\in [0,1] => \\alpha.x + (1-\\alpha).y  \\in A$\n",
    "\n",
    "\n",
    "\n",
    "\n",
    "### Una variedad lineal ¿Es convexa?. ¿Por qué?\n",
    "\n",
    "Una variedad lineal define un subconjunto no vacío A de un espacio vectorial V sobre R. A se llama variedad lineal en V si para todo x, y de A y todo α, β de R : α x + β y está en A.\n",
    "\n",
    "La anterior demostración se extrapola y demuestra que toda variedad lineal es convexa.\n",
    "### En el espacio vectorial $V = \\Re ^2$ de un ejemplo de un conjunto convexo que no sea un subespacio.\n",
    "Un ejemplo de conjunto convexo que no es un SEV es el conjunto vacío. A: {0,0} \n",
    "\n",
    "Se pueden tomar cualesquiera vectores x, y pertenecientes a A multiplicados por $\\alpha$ y $(1-\\alpha)$ y delimitarán un conjunto convexo. Sin embargo, por defición de SEV, A, no es un SEV.\n",
    "\n",
    "### Demuestre que la intersección de conjuntos convexos es convexa.\n",
    "\n",
    "$A_1, A_2, A_3 ... A_n$ Son conjuntos convexos.\n",
    "\n",
    "Debo probar que la intersección de n conjuntos convexos sigue arrojando un conjunto convexo.\n",
    "\n",
    "$A_{int} = A_1 \\bigcap A_2 \\bigcap ...\\bigcap A_i\\bigcap ...\\bigcap  A_n  =>$ ¿Es un conjunto convexo?\n",
    "\n",
    "Tomo puntos x, y de $A_{int}$, $\\alpha \\in [0,1]$. \n",
    "\n",
    "Si $\\alpha.x + (1 - \\alpha)y \\in A_{int}$ => Es convexo\n",
    "\n",
    "Para cualquier dupla de punto x e y que tome, los puntos estarán contenidos en todos los conjuntos convexos en simultaneo. \n",
    "\n",
    "Ahora.. Indistintamente de cuales 2 puntos dentro de la intersección tome, estos dos puntos estarán dentro de cada uno de los conjuntos intersectados. Por ello, elijo dos puntos del conjunto $A_i$ (dentro de la intersección)y evalúo si el segmento entre estos dos puntos cae dentro del conjunto.\n",
    "\n",
    "$x_i, y_i$ de $A_{i}$, $\\alpha \\in [0,1]$\n",
    "\n",
    "$\\alpha.x_i + (1 - \\alpha)y_i \\in A_{i}$ => Es convexo\n",
    "\n",
    "Dado que estos dos puntos estrán contenidos en todos los conjuntos, puedo afirmar que: \n",
    "\n",
    "$\\alpha.x + (1 - \\alpha)y \\in A_{int}$ \n",
    "\n",
    "\n",
    "\n",
    "\n",
    "\n",
    "\n"
   ]
  },
  {
   "cell_type": "markdown",
   "metadata": {},
   "source": [
    "## Ejercicio 3\n",
    "\n",
    "Sea $V = R^3$ y $W = R^2$ describa el conjunto de todas las transformaciones lineales de V → W.\n",
    "\n",
    "Sea B una base cualesquiera de V, {b1, b2, b3}.\n",
    "\n",
    "Para describir la totalidad de las transformaciones, el conjunto de transformaciones lineales estará dado por ..."
   ]
  },
  {
   "cell_type": "code",
   "execution_count": null,
   "metadata": {},
   "outputs": [],
   "source": []
  }
 ],
 "metadata": {
  "kernelspec": {
   "display_name": "Python 3",
   "language": "python",
   "name": "python3"
  },
  "language_info": {
   "codemirror_mode": {
    "name": "ipython",
    "version": 3
   },
   "file_extension": ".py",
   "mimetype": "text/x-python",
   "name": "python",
   "nbconvert_exporter": "python",
   "pygments_lexer": "ipython3",
   "version": "3.7.6"
  },
  "toc": {
   "base_numbering": 1,
   "nav_menu": {},
   "number_sections": true,
   "sideBar": true,
   "skip_h1_title": false,
   "title_cell": "Table of Contents",
   "title_sidebar": "Contents",
   "toc_cell": false,
   "toc_position": {},
   "toc_section_display": true,
   "toc_window_display": false
  },
  "varInspector": {
   "cols": {
    "lenName": 16,
    "lenType": 16,
    "lenVar": 40
   },
   "kernels_config": {
    "python": {
     "delete_cmd_postfix": "",
     "delete_cmd_prefix": "del ",
     "library": "var_list.py",
     "varRefreshCmd": "print(var_dic_list())"
    },
    "r": {
     "delete_cmd_postfix": ") ",
     "delete_cmd_prefix": "rm(",
     "library": "var_list.r",
     "varRefreshCmd": "cat(var_dic_list()) "
    }
   },
   "types_to_exclude": [
    "module",
    "function",
    "builtin_function_or_method",
    "instance",
    "_Feature"
   ],
   "window_display": false
  }
 },
 "nbformat": 4,
 "nbformat_minor": 4
}
