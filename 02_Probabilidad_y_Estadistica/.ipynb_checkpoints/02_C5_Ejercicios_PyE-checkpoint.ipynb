{
 "cells": [
  {
   "cell_type": "markdown",
   "metadata": {},
   "source": [
    "# Probabilidad y Estadísitca\n",
    "\n",
    "## CLASE 5\n",
    "\n",
    "## Referencias\n",
    "\n",
    "- [Cheatsheet de Latex](https://www.caam.rice.edu/~heinken/latex/symbols.pdf)\n",
    "- [DRIVE](https://drive.google.com/drive/folders/1TDRvlwfSgLI39gHXgVhWlSaRJ-aTSaDE?usp=sharing)\n",
    "\n",
    "\n",
    "## Comentarios sobre el estado del documento\n",
    "\n"
   ]
  },
  {
   "cell_type": "markdown",
   "metadata": {},
   "source": [
    "## Importar librerías"
   ]
  },
  {
   "cell_type": "code",
   "execution_count": 19,
   "metadata": {},
   "outputs": [],
   "source": [
    "import numpy as np\n",
    "import matplotlib.pyplot as plt\n",
    "import os\n",
    "import seaborn as sns\n",
    "\n",
    "\n",
    "from scipy.stats import norm\n",
    "from scipy.stats import t\n",
    "from scipy.stats import binom\n",
    "\n",
    "# MATPLOTLIB & SNS\n",
    "# from mpl_toolkits import mplot3d\n",
    "# from matplotlib import cm\n",
    "# from matplotlib_venn import venn2\n",
    "# import seaborn as sns\n",
    "\n",
    "# MATH & RANDOM\n",
    "# import math\n",
    "# import numpy.random as random\n",
    "# import scipy.stats as stats\n",
    "# random.seed(42)\n",
    "\n",
    "#PANDAS\n",
    "# import pandas as pd\n",
    "# %matplotlib inline"
   ]
  },
  {
   "cell_type": "markdown",
   "metadata": {},
   "source": [
    "# Ejercicio 1\n",
    "\n"
   ]
  },
  {
   "cell_type": "markdown",
   "metadata": {},
   "source": [
    "Para encontrar los intervalos de confianza, asumo que la distribución de la altura es normal con los parametros dados.\n",
    "\n",
    "$ \\mu_{0.5 \\alpha} =\\hat{\\mu} + Z_{0.025}  \\frac{\\sigma}{ N^{0.5} }$"
   ]
  },
  {
   "cell_type": "code",
   "execution_count": 11,
   "metadata": {},
   "outputs": [
    {
     "name": "stdout",
     "output_type": "stream",
     "text": [
      "El intervalo de confianza 0.95 es: 178.6 - 181.4\n",
      "El intervalo de confianza 0.95 es: 1.772 - 1.828\n"
     ]
    }
   ],
   "source": [
    "# a\n",
    "N = 100\n",
    "x_hat = 180\n",
    "sigma = 49**0.5\n",
    "\n",
    "x_025 = (x_hat + norm.ppf(0.025)*(sigma / N**0.5))\n",
    "x_975 = (x_hat + norm.ppf(0.975)*(sigma / N**0.5))\n",
    "\n",
    "print('El intervalo de confianza 0.95 es: {:.4} - {:.4}'.format(x_025, x_975))\n",
    "\n",
    "#b habría que usar la T de student!\n",
    "N = 100\n",
    "x_hat = 180\n",
    "sigma = 49**0.5\n",
    "\n",
    "x_025 = (1.8 + t.ppf(0.025,N)/(sigma * (N-1)**0.5))\n",
    "x_975 = (1.8 + t.ppf(0.975,N)/(sigma * (N-1)**0.5))\n",
    "\n",
    "print('El intervalo de confianza 0.95 es: {:.4} - {:.4}'.format(x_025, x_975))\n",
    "\n",
    "#c Simular!"
   ]
  },
  {
   "cell_type": "code",
   "execution_count": 10,
   "metadata": {},
   "outputs": [
    {
     "data": {
      "text/plain": [
       "2.3642173659047376"
      ]
     },
     "execution_count": 10,
     "metadata": {},
     "output_type": "execute_result"
    }
   ],
   "source": []
  },
  {
   "cell_type": "markdown",
   "metadata": {},
   "source": [
    "# Ejercicio 2"
   ]
  },
  {
   "cell_type": "code",
   "execution_count": 18,
   "metadata": {},
   "outputs": [
    {
     "name": "stdout",
     "output_type": "stream",
     "text": [
      "El intervalo de confianza 0.95 es: 949.3 - 1.048e+03\n",
      "El porcentaje del intervalo de confianza es 0.884 y el intervalo de confianza tiene una amplitud de 79.5\n"
     ]
    }
   ],
   "source": [
    "# a\n",
    "N = 10\n",
    "x_hat = 998.9\n",
    "sigma = 80\n",
    "alpha = 0.05\n",
    "\n",
    "x_025 = (x_hat + norm.ppf(0.025)*(sigma / N**0.5))\n",
    "x_975 = (x_hat + norm.ppf(0.975)*(sigma / N**0.5))\n",
    "\n",
    "print('El intervalo de confianza 0.95 es: {:.4} - {:.4}'.format(x_025, x_975))\n",
    "\n",
    "\n",
    "for i in np.linspace(0.01,0.15,30):\n",
    "    x_025 = (x_hat + norm.ppf(i*0.5)*(sigma / N**0.5))\n",
    "    x_975 = (x_hat + norm.ppf(1 - i*0.5)*(sigma / N**0.5))\n",
    "\n",
    "    int_confianza = x_975 - x_025\n",
    "    \n",
    "    if (int_confianza > 0.99*80 and int_confianza < 1.01*80):\n",
    "        alpha = i\n",
    "        int_value = int_confianza\n",
    "        \n",
    "print('El porcentaje del intervalo de confianza es {:.3} y el intervalo de confianza tiene una amplitud de {:.3}'.format(1 - alpha, int_value))"
   ]
  },
  {
   "cell_type": "code",
   "execution_count": 55,
   "metadata": {},
   "outputs": [
    {
     "name": "stdout",
     "output_type": "stream",
     "text": [
      "0.019661636945587535 7\n"
     ]
    }
   ],
   "source": [
    "# ejercicio 3 => \n",
    "\n",
    "'''\n",
    "En un concurso con 10 participantes, cada participante prueba una\n",
    "muestra de 3 vasos de bebida. Dos de los 3 vasos contienen la misma\n",
    "bebida marca X, mientras que el vaso restante contiene la bebida\n",
    "marca Y.\n",
    "(b) Queremos determinar si la gente realmente puede discriminar la\n",
    "bebida Y con un nivel de significancia de 5%.\n",
    "(c) ¿Cu ́al es la m ́ınima cantidad de personas que deben identificar la\n",
    "bebida Y para concluir que, en general, la bebida Y es claramente\n",
    "identificable con respecto a la bebida X?'''\n",
    "\n",
    "# ¿Cuantas personas deben distinguir las gaseosas para que tenga una certeza del 95% de que son distinguibles?\n",
    "\n",
    "alpha = 0.05\n",
    "for i in range(10):\n",
    "    proba = 1 - binom(n=10, p=1/3).cdf(i-1)\n",
    "    \n",
    "    if proba < alpha:\n",
    "        amount_distinctions = i\n",
    "        break\n",
    "print(proba, amount_distinctions)"
   ]
  },
  {
   "cell_type": "code",
   "execution_count": 56,
   "metadata": {},
   "outputs": [
    {
     "name": "stdout",
     "output_type": "stream",
     "text": [
      "0.0107421875 9\n"
     ]
    }
   ],
   "source": [
    "# Ejercicio 4\n",
    "\n",
    "\"\"\"\n",
    "Un aviso publicitario asegura que 8 de cada 10 personas prefieren la\n",
    "pasta dental marca Z.\n",
    "(b) ¿Hay suficiente evidencia para fundamentar esta hip ́otesis con un 5%\n",
    "de significaci ́on? (N.B.: En t ́erminos estad ́ısticos, la pregunta correcta\n",
    "ser ́ıa si el aviso es significativo.)\n",
    "\"\"\"'0764321º\n",
    "'\n",
    "\n",
    "# ¿Cuantas personas deben distinguir las pastas para que tenga una certeza del 95% de que son distinguibles?\n",
    "\n",
    "alpha = 0.05\n",
    "for i in range(10):\n",
    "    proba = 1 - binom(n=10, p=0.5).cdf(i-1)\n",
    "    \n",
    "    if proba < alpha:\n",
    "        amount_distinctions = i\n",
    "        break\n",
    "print(proba, amount_distinctions)"
   ]
  },
  {
   "cell_type": "code",
   "execution_count": null,
   "metadata": {},
   "outputs": [],
   "source": []
  },
  {
   "cell_type": "code",
   "execution_count": null,
   "metadata": {},
   "outputs": [],
   "source": []
  }
 ],
 "metadata": {
  "kernelspec": {
   "display_name": "Python 3",
   "language": "python",
   "name": "python3"
  },
  "language_info": {
   "codemirror_mode": {
    "name": "ipython",
    "version": 3
   },
   "file_extension": ".py",
   "mimetype": "text/x-python",
   "name": "python",
   "nbconvert_exporter": "python",
   "pygments_lexer": "ipython3",
   "version": "3.7.6"
  },
  "toc": {
   "base_numbering": 1,
   "nav_menu": {},
   "number_sections": true,
   "sideBar": true,
   "skip_h1_title": false,
   "title_cell": "Table of Contents",
   "title_sidebar": "Contents",
   "toc_cell": false,
   "toc_position": {},
   "toc_section_display": true,
   "toc_window_display": false
  },
  "varInspector": {
   "cols": {
    "lenName": 16,
    "lenType": 16,
    "lenVar": 40
   },
   "kernels_config": {
    "python": {
     "delete_cmd_postfix": "",
     "delete_cmd_prefix": "del ",
     "library": "var_list.py",
     "varRefreshCmd": "print(var_dic_list())"
    },
    "r": {
     "delete_cmd_postfix": ") ",
     "delete_cmd_prefix": "rm(",
     "library": "var_list.r",
     "varRefreshCmd": "cat(var_dic_list()) "
    }
   },
   "types_to_exclude": [
    "module",
    "function",
    "builtin_function_or_method",
    "instance",
    "_Feature"
   ],
   "window_display": false
  }
 },
 "nbformat": 4,
 "nbformat_minor": 4
}
