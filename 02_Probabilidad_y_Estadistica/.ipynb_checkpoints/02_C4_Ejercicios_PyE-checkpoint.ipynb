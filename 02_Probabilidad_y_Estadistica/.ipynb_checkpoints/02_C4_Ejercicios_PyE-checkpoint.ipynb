{
 "cells": [
  {
   "cell_type": "markdown",
   "metadata": {},
   "source": [
    "# Probabilidad y Estadísitca\n",
    "\n",
    "## CLASE 3\n",
    "\n",
    "## Referencias\n",
    "\n",
    "- [Cheatsheet de Latex](https://www.caam.rice.edu/~heinken/latex/symbols.pdf)\n",
    "- [DRIVE](https://drive.google.com/drive/folders/1TDRvlwfSgLI39gHXgVhWlSaRJ-aTSaDE?usp=sharing)\n",
    "\n",
    "\n",
    "## Comentarios sobre el estado del documento\n",
    "\n"
   ]
  },
  {
   "cell_type": "markdown",
   "metadata": {},
   "source": [
    "## Importar librerías"
   ]
  },
  {
   "cell_type": "code",
   "execution_count": 191,
   "metadata": {},
   "outputs": [],
   "source": [
    "import numpy as np\n",
    "import matplotlib.pyplot as plt\n",
    "import os\n",
    "import seaborn as sns\n",
    "\n",
    "# MATPLOTLIB & SNS\n",
    "# from mpl_toolkits import mplot3d\n",
    "# from matplotlib import cm\n",
    "# from matplotlib_venn import venn2\n",
    "# import seaborn as sns\n",
    "\n",
    "# MATH & RANDOM\n",
    "# import math\n",
    "# import numpy.random as random\n",
    "# import scipy.stats as stats\n",
    "# random.seed(42)\n",
    "\n",
    "#PANDAS\n",
    "# import pandas as pd\n",
    "\n",
    "# %matplotlib inline"
   ]
  },
  {
   "cell_type": "code",
   "execution_count": 3,
   "metadata": {},
   "outputs": [
    {
     "name": "stdout",
     "output_type": "stream",
     "text": [
      "0.26647834048956803\n"
     ]
    }
   ],
   "source": [
    "# Ejercicio 1\n",
    "\n",
    "'''(a) Sea X una v.a. con media μ y varianza v\n",
    "(b) Sean Y1, . . . , Yn mediciones de la forma Yi = X + Wi\n",
    "(c) Sean Wi v.a. con media cero y varianza vi\n",
    "(d) Asumamos que X, W1, . . . , Wn son independientes\n",
    "(e) Demostrar que el estimador lineal de cuadrados m ́ınimos de X en\n",
    "base a las mediciones Y1, . . . , Yn es:\n",
    "(f) Xˆ =\n",
    "(μ/v)+Pn\n",
    "i=1(Yi /v)\n",
    "(1/v)+Pn\n",
    "i=1(1/v)\n",
    "\n",
    "(g) Simular para n = 10, n = 1000, v = 0.1, v = 100\n",
    "(h) Qu ́e conclusi ́on se puede sacar para valores de n y/o v grandes?'''\n"
   ]
  },
  {
   "cell_type": "code",
   "execution_count": 100,
   "metadata": {},
   "outputs": [
    {
     "name": "stdout",
     "output_type": "stream",
     "text": [
      "el estimador de máxima verosimilitud es: 0.56 88\n"
     ]
    }
   ],
   "source": [
    "# Ejercicio 2\n",
    "\n",
    "'''(a) Se tira una moneda 100 veces, y salen 55 cecas.\n",
    "(b) Encontrar el estimador de m ́axima verosimilitud de la probabilidad de\n",
    "ceca p\n",
    "(c) Simular el experimento y encontrar por computadora el valor de la\n",
    "estimaci ́on de m ́axima verosimilitud de p'''\n",
    "\n",
    "\n",
    "#C\n",
    "\n",
    "\n",
    "SIZE = 1000\n",
    "r = 100\n",
    "p_values = np.arange(0, r)/r\n",
    "max_success = 0\n",
    "for p in p_values:\n",
    "    success_count = 0\n",
    "    for i in range(SIZE):\n",
    "        cecas = np.random.binomial(1, p, 100).sum()\n",
    "        if cecas == 55:\n",
    "            success_count += 1\n",
    "    if success_count > max_success:\n",
    "        max_success = success_count\n",
    "        p_success = p\n",
    "print('el estimador de máxima verosimilitud es:', p_success, max_success)"
   ]
  },
  {
   "cell_type": "markdown",
   "metadata": {},
   "source": [
    "Para calcular el ejercicio 2, debo plantear la fórmula para encontrar el estimador de máxima verosimilitud con las condiciones dadas en el ejercicio:\n",
    "\n",
    "$$ max_\\theta P(i) = \\prod P_{x_i|\\theta}(x_i|\\theta)  $$\n",
    "\n",
    "En este se que la distibución del experimento tendrá forma binomial que seguirá la forma:\n",
    "\n",
    "$$ P(X_i) = comb(n, x) p^x (1 - p)^{n-x} $$\n",
    "\n",
    "Al mimso tiempo, el enunciado solamente enuncia la condicion que salieron 55 veces ceca.. Una sola vez. La productoria en el estimador de máxima verosimilitud será de un término.\n",
    "\n",
    "$$ max_\\theta P(i) =    comb(100, 55) p^{55} (1 - p)^{45}  $$\n",
    "\n",
    "Debo encontrar el p que maximiza esa probabilidad. Por ello, derivo con respecto a theta e igualo a 0 para encontrar el máximo.\n",
    "\n",
    "$$ dP(i)/ d\\theta =    comb(100, 55) p^{55} (1 - p)^{45} =   comb(100, 55) (55 p^{54} (1 - p)^{45} - 45 p^{55} (1 - p)^{44}) $$\n",
    "\n",
    "Igualo a 0:\n",
    "\n",
    "$$ (55 p^{54} (1 - p)^{45} = 45 p^{55} (1 - p)^{44} $$\n",
    "\n",
    "Despejando, queda:\n",
    "\n",
    "$$ \\theta = \\frac{55/45}{1+55/45} = 0.55$$\n",
    "\n"
   ]
  },
  {
   "cell_type": "code",
   "execution_count": 213,
   "metadata": {},
   "outputs": [
    {
     "data": {
      "image/png": "[encoded data removed]",
      "text/plain": [
       "<Figure size 216x216 with 1 Axes>"
      ]
     },
     "metadata": {
      "needs_background": "light"
     },
     "output_type": "display_data"
    },
    {
     "data": {
      "image/png": "[encoded data removed]",
      "text/plain": [
       "<Figure size 216x216 with 1 Axes>"
      ]
     },
     "metadata": {
      "needs_background": "light"
     },
     "output_type": "display_data"
    },
    {
     "data": {
      "image/png": "[encoded data removed]",
      "text/plain": [
       "<Figure size 216x216 with 1 Axes>"
      ]
     },
     "metadata": {
      "needs_background": "light"
     },
     "output_type": "display_data"
    },
    {
     "data": {
      "image/png": "[encoded data removed]",
      "text/plain": [
       "<Figure size 216x216 with 1 Axes>"
      ]
     },
     "metadata": {
      "needs_background": "light"
     },
     "output_type": "display_data"
    },
    {
     "data": {
      "image/png": "[encoded data removed]",
      "text/plain": [
       "<Figure size 216x216 with 1 Axes>"
      ]
     },
     "metadata": {
      "needs_background": "light"
     },
     "output_type": "display_data"
    },
    {
     "data": {
      "image/png": "[encoded data removed]",
      "text/plain": [
       "<Figure size 216x216 with 1 Axes>"
      ]
     },
     "metadata": {
      "needs_background": "light"
     },
     "output_type": "display_data"
    },
    {
     "data": {
      "image/png": "[encoded data removed]",
      "text/plain": [
       "<Figure size 216x216 with 1 Axes>"
      ]
     },
     "metadata": {
      "needs_background": "light"
     },
     "output_type": "display_data"
    },
    {
     "data": {
      "image/png": "[encoded data removed]",
      "text/plain": [
       "<Figure size 216x216 with 1 Axes>"
      ]
     },
     "metadata": {
      "needs_background": "light"
     },
     "output_type": "display_data"
    },
    {
     "data": {
      "image/png": "[encoded data removed]",
      "text/plain": [
       "<Figure size 216x216 with 1 Axes>"
      ]
     },
     "metadata": {
      "needs_background": "light"
     },
     "output_type": "display_data"
    },
    {
     "data": {
      "image/png": "[encoded data removed]",
      "text/plain": [
       "<Figure size 216x216 with 1 Axes>"
      ]
     },
     "metadata": {
      "needs_background": "light"
     },
     "output_type": "display_data"
    },
    {
     "data": {
      "image/png": "[encoded data removed]",
      "text/plain": [
       "<Figure size 216x216 with 1 Axes>"
      ]
     },
     "metadata": {
      "needs_background": "light"
     },
     "output_type": "display_data"
    },
    {
     "data": {
      "image/png": "[encoded data removed]",
      "text/plain": [
       "<Figure size 216x216 with 1 Axes>"
      ]
     },
     "metadata": {
      "needs_background": "light"
     },
     "output_type": "display_data"
    },
    {
     "data": {
      "image/png": "[encoded data removed]",
      "text/plain": [
       "<Figure size 216x216 with 1 Axes>"
      ]
     },
     "metadata": {
      "needs_background": "light"
     },
     "output_type": "display_data"
    },
    {
     "data": {
      "image/png": "[encoded data removed]",
      "text/plain": [
       "<Figure size 216x216 with 1 Axes>"
      ]
     },
     "metadata": {
      "needs_background": "light"
     },
     "output_type": "display_data"
    },
    {
     "data": {
      "image/png": "[encoded data removed]",
      "text/plain": [
       "<Figure size 216x216 with 1 Axes>"
      ]
     },
     "metadata": {
      "needs_background": "light"
     },
     "output_type": "display_data"
    },
    {
     "data": {
      "image/png": "[encoded data removed]",
      "text/plain": [
       "<Figure size 216x216 with 1 Axes>"
      ]
     },
     "metadata": {
      "needs_background": "light"
     },
     "output_type": "display_data"
    },
    {
     "data": {
      "image/png": "[encoded data removed]",
      "text/plain": [
       "<Figure size 216x216 with 1 Axes>"
      ]
     },
     "metadata": {
      "needs_background": "light"
     },
     "output_type": "display_data"
    },
    {
     "data": {
      "image/png": "[encoded data removed]",
      "text/plain": [
       "<Figure size 216x216 with 1 Axes>"
      ]
     },
     "metadata": {
      "needs_background": "light"
     },
     "output_type": "display_data"
    },
    {
     "data": {
      "image/png": "[encoded data removed]",
      "text/plain": [
       "<Figure size 216x216 with 1 Axes>"
      ]
     },
     "metadata": {
      "needs_background": "light"
     },
     "output_type": "display_data"
    },
    {
     "data": {
      "text/plain": [
       "' \\nSe puede concluir\\n'"
      ]
     },
     "execution_count": 213,
     "metadata": {},
     "output_type": "execute_result"
    }
   ],
   "source": [
    "# Ejercicio 3\n",
    "\n",
    "\"\"\"\n",
    "Una v.a. continua X responde a un proceso Gaussiano de media cero\n",
    "y σ\n",
    "2 = 1\n",
    "(b) Simular varias realizaciones de X y estimar la pdf usando el m ́etodo\n",
    "del histograma\n",
    "(c) Variar la cantidad de bins y sacar conclusiones acerca de la calidad de\n",
    "estimaci ́on\n",
    "\"\"\"\n",
    "\n",
    "x = np.random.randn(1000)\n",
    "\n",
    "def pdf_hist(x, bins):\n",
    "    x_min = x.min()\n",
    "    x_max = x.max()\n",
    "    \n",
    "    pdfs = np.zeros(bins)\n",
    "    \n",
    "    dist = x_max - x_min\n",
    "\n",
    "    len_bin = dist / bins\n",
    "\n",
    "    for i in range(bins):\n",
    "        end = x_min + len_bin * (i + 1) if x_min + len_bin * (i + 1) < x_max else x_max\n",
    "        inbin = (x_min + len_bin * i <= x) & (x <= end)\n",
    "        pdfs[i] = sum(inbin)/x.shape[0]\n",
    "        \n",
    "\n",
    "    return pdfs\n",
    "\n",
    "size = 20\n",
    "\n",
    "for i in range(1, size):\n",
    "    h = pdf_hist(x, i)\n",
    "    plt.figure(figsize=[3,3])\n",
    "    plt.bar([*range(i)], h)\n",
    "\n",
    "    plt.show()\n",
    "\n",
    "    \n",
    "''' \n",
    "Se puede concluir que la calidad de la estimación se comporta de manera \"parabólica\", \n",
    "es decir, iniciando en 1, a mayor cantidad de bins mejora la calidad hasta llegar a un punto de inflexión,\n",
    "donde el aporte de la varianza al MSE sobrepasa a la reducción del bias y la calidad disminuye.\n",
    "'''"
   ]
  },
  {
   "cell_type": "code",
   "execution_count": 169,
   "metadata": {},
   "outputs": [
    {
     "data": {
      "text/plain": [
       "0.55"
      ]
     },
     "execution_count": 169,
     "metadata": {},
     "output_type": "execute_result"
    }
   ],
   "source": [
    "# Ejercicio 4\n",
    "\n",
    "'''\n",
    "(a) Repetir el ejercicio 3 usando un estimador de kernel con una funci ́on\n",
    "Gaussiana\n",
    "(b) Comparar resultados entre ambos ejercicios\n",
    "\n",
    "'''\n",
    "\n",
    "a = (55/45)\n",
    "\n",
    "a / (a + 1)\n"
   ]
  },
  {
   "cell_type": "code",
   "execution_count": 156,
   "metadata": {},
   "outputs": [
    {
     "name": "stdout",
     "output_type": "stream",
     "text": [
      "0.7888609052210118\n",
      "0.9444593853604607\n",
      "1.0865246455018738\n",
      "1.201092444808407\n",
      "1.2757313143473514\n",
      "1.3017004113011372\n",
      "1.2755924122606566\n",
      "1.2000450864415897\n"
     ]
    }
   ],
   "source": [
    "\n",
    "for p in [0.5, 0.51, 0.52, 0.53, 0.54, 0.55, 0.56, 0.57]:\n",
    "\n",
    "    print(p**55 * (1 - p)**45 *10**30)"
   ]
  },
  {
   "cell_type": "code",
   "execution_count": 98,
   "metadata": {},
   "outputs": [
    {
     "data": {
      "text/plain": [
       "8351.373503850895"
      ]
     },
     "execution_count": 98,
     "metadata": {},
     "output_type": "execute_result"
    }
   ],
   "source": [
    "0.55**45 / (1 - 0.55)**45"
   ]
  }
 ],
 "metadata": {
  "kernelspec": {
   "display_name": "Python 3",
   "language": "python",
   "name": "python3"
  },
  "language_info": {
   "codemirror_mode": {
    "name": "ipython",
    "version": 3
   },
   "file_extension": ".py",
   "mimetype": "text/x-python",
   "name": "python",
   "nbconvert_exporter": "python",
   "pygments_lexer": "ipython3",
   "version": "3.7.6"
  },
  "toc": {
   "base_numbering": 1,
   "nav_menu": {},
   "number_sections": true,
   "sideBar": true,
   "skip_h1_title": false,
   "title_cell": "Table of Contents",
   "title_sidebar": "Contents",
   "toc_cell": false,
   "toc_position": {},
   "toc_section_display": true,
   "toc_window_display": false
  },
  "varInspector": {
   "cols": {
    "lenName": 16,
    "lenType": 16,
    "lenVar": 40
   },
   "kernels_config": {
    "python": {
     "delete_cmd_postfix": "",
     "delete_cmd_prefix": "del ",
     "library": "var_list.py",
     "varRefreshCmd": "print(var_dic_list())"
    },
    "r": {
     "delete_cmd_postfix": ") ",
     "delete_cmd_prefix": "rm(",
     "library": "var_list.r",
     "varRefreshCmd": "cat(var_dic_list()) "
    }
   },
   "types_to_exclude": [
    "module",
    "function",
    "builtin_function_or_method",
    "instance",
    "_Feature"
   ],
   "window_display": false
  }
 },
 "nbformat": 4,
 "nbformat_minor": 4
}
