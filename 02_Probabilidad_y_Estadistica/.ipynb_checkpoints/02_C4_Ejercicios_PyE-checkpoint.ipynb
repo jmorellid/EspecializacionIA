{
 "cells": [
  {
   "cell_type": "markdown",
   "metadata": {},
   "source": [
    "# Probabilidad y Estadísitca\n",
    "\n",
    "## CLASE 4\n",
    "\n",
    "## Referencias\n",
    "\n",
    "- [Cheatsheet de Latex](https://www.caam.rice.edu/~heinken/latex/symbols.pdf)\n",
    "- [DRIVE](https://drive.google.com/drive/folders/1TDRvlwfSgLI39gHXgVhWlSaRJ-aTSaDE?usp=sharing)\n",
    "\n",
    "\n",
    "## Comentarios sobre el estado del documento\n",
    "\n"
   ]
  },
  {
   "cell_type": "markdown",
   "metadata": {},
   "source": [
    "## Importar librerías"
   ]
  },
  {
   "cell_type": "code",
   "execution_count": 3,
   "metadata": {},
   "outputs": [],
   "source": [
    "import numpy as np\n",
    "import matplotlib.pyplot as plt\n",
    "import os\n",
    "import seaborn as sns\n",
    "\n",
    "\n",
    "from scipy.stats import norm\n",
    "\n",
    "# MATPLOTLIB & SNS\n",
    "# from mpl_toolkits import mplot3d\n",
    "# from matplotlib import cm\n",
    "# from matplotlib_venn import venn2\n",
    "# import seaborn as sns\n",
    "\n",
    "# MATH & RANDOM\n",
    "# import math\n",
    "# import numpy.random as random\n",
    "# import scipy.stats as stats\n",
    "# random.seed(42)\n",
    "\n",
    "#PANDAS\n",
    "# import pandas as pd\n",
    "\n",
    "# %matplotlib inline"
   ]
  },
  {
   "cell_type": "markdown",
   "metadata": {},
   "source": [
    "# Ejercicio 1\n",
    "\n",
    "(a) Sea X una v.a. con media μ y varianza v\n",
    "\n",
    "(b) Sean Y1, . . . , Yn mediciones de la forma Yi = X + Wi\n",
    "\n",
    "(c) Sean Wi v.a. con media cero y varianza vi\n",
    "\n",
    "(d) Asumamos que X, W1, . . . , Wn son independientes\n",
    "\n",
    "(e) Demostrar que el estimador lineal de cuadrados m ́ınimos de X en\n",
    "base a las mediciones Y1, . . . , Yn es:\n",
    "\n",
    "(f) Xˆ =(μ/v)+Pn\n",
    "i=1(Yi /v)\n",
    "(1/v)+Pn\n",
    "i=1(1/v)\n",
    "\n",
    "(g) Simular para n = 10, n = 1000, v = 0.1, v = 100\n",
    "\n",
    "(h) Qu ́e conclusi ́on se puede sacar para valores de n y/o v grandes?\n"
   ]
  },
  {
   "cell_type": "markdown",
   "metadata": {},
   "source": [
    "$ J = 0.5 * E[(X- a_1y_1 - a_2y_2 - ... - a_n y_n -b)^2]$\n",
    "\n",
    "$X = \\sum a_i y_i + b $\n",
    "\n",
    "Los valores óptimos estarán dados por:\n",
    "$a_i^* = \\frac {(1/v_i)}{1/v + \\sum 1/v_i}$\n",
    "\n",
    "$b^* = \\frac{\\mu / v /}{(1/v + \\sum 1/v_i)}$\n",
    "\n",
    "$\\frac{dJ}{da_i} = 0$\n",
    "\n",
    "$\\frac{dJ}{db} = 0$\n",
    "\n",
    "\n",
    "$\\frac{dJ}{db}|_{a_i^*, b^*} = E[ ... ] =0$\n",
    "\n",
    "\n"
   ]
  },
  {
   "cell_type": "code",
   "execution_count": 100,
   "metadata": {},
   "outputs": [
    {
     "name": "stdout",
     "output_type": "stream",
     "text": [
      "el estimador de máxima verosimilitud es: 0.56 88\n"
     ]
    }
   ],
   "source": [
    "# Ejercicio 2\n",
    "\n",
    "'''(a) Se tira una moneda 100 veces, y salen 55 cecas.\n",
    "(b) Encontrar el estimador de m ́axima verosimilitud de la probabilidad de\n",
    "ceca p\n",
    "(c) Simular el experimento y encontrar por computadora el valor de la\n",
    "estimaci ́on de m ́axima verosimilitud de p'''\n",
    "\n",
    "\n",
    "#C\n",
    "\n",
    "\n",
    "SIZE = 1000\n",
    "r = 100\n",
    "p_values = np.arange(0, r)/r\n",
    "max_success = 0\n",
    "for p in p_values:\n",
    "    success_count = 0\n",
    "    for i in range(SIZE):\n",
    "        cecas = np.random.binomial(1, p, 100).sum()\n",
    "        if cecas == 55:\n",
    "            success_count += 1\n",
    "    if success_count > max_success:\n",
    "        max_success = success_count\n",
    "        p_success = p\n",
    "print('el estimador de máxima verosimilitud es:', p_success, max_success)"
   ]
  },
  {
   "cell_type": "markdown",
   "metadata": {},
   "source": [
    "Para calcular el ejercicio 2, debo plantear la fórmula para encontrar el estimador de máxima verosimilitud con las condiciones dadas en el ejercicio:\n",
    "\n",
    "$$ max_\\theta P(i) = \\prod P_{x_i|\\theta}(x_i|\\theta)  $$\n",
    "\n",
    "En este se que la distibución del experimento tendrá forma binomial que seguirá la forma:\n",
    "\n",
    "$$ P(X_i) = comb(n, x) p^x (1 - p)^{n-x} $$\n",
    "\n",
    "Al mimso tiempo, el enunciado solamente enuncia la condicion que salieron 55 veces ceca.. Una sola vez. La productoria en el estimador de máxima verosimilitud será de un término.\n",
    "\n",
    "$$ max_\\theta P(i) =    comb(100, 55) p^{55} (1 - p)^{45}  $$\n",
    "\n",
    "Debo encontrar el p que maximiza esa probabilidad. Por ello, derivo con respecto a theta e igualo a 0 para encontrar el máximo.\n",
    "\n",
    "$$ dP(i)/ d\\theta =    comb(100, 55) p^{55} (1 - p)^{45} =   comb(100, 55) (55 p^{54} (1 - p)^{45} - 45 p^{55} (1 - p)^{44}) $$\n",
    "\n",
    "Igualo a 0:\n",
    "\n",
    "$$ (55 p^{54} (1 - p)^{45} = 45 p^{55} (1 - p)^{44} $$\n",
    "\n",
    "Despejando, queda:\n",
    "\n",
    "$$ \\theta = \\frac{55/45}{1+55/45} = 0.55$$\n",
    "\n"
   ]
  },
  {
   "cell_type": "code",
   "execution_count": 213,
   "metadata": {},
   "outputs": [
    {
     "data": {
      "image/png": "[encoded data removed]",
      "text/plain": [
       "<Figure size 216x216 with 1 Axes>"
      ]
     },
     "metadata": {
      "needs_background": "light"
     },
     "output_type": "display_data"
    },
    {
     "data": {
      "image/png": "[encoded data removed]",
      "text/plain": [
       "<Figure size 216x216 with 1 Axes>"
      ]
     },
     "metadata": {
      "needs_background": "light"
     },
     "output_type": "display_data"
    },
    {
     "data": {
      "image/png": "[encoded data removed]",
      "text/plain": [
       "<Figure size 216x216 with 1 Axes>"
      ]
     },
     "metadata": {
      "needs_background": "light"
     },
     "output_type": "display_data"
    },
    {
     "data": {
      "image/png": "[encoded data removed]",
      "text/plain": [
       "<Figure size 216x216 with 1 Axes>"
      ]
     },
     "metadata": {
      "needs_background": "light"
     },
     "output_type": "display_data"
    },
    {
     "data": {
      "image/png": "[encoded data removed]",
      "text/plain": [
       "<Figure size 216x216 with 1 Axes>"
      ]
     },
     "metadata": {
      "needs_background": "light"
     },
     "output_type": "display_data"
    },
    {
     "data": {
      "image/png": "[encoded data removed]",
      "text/plain": [
       "<Figure size 216x216 with 1 Axes>"
      ]
     },
     "metadata": {
      "needs_background": "light"
     },
     "output_type": "display_data"
    },
    {
     "data": {
      "image/png": "[encoded data removed]",
      "text/plain": [
       "<Figure size 216x216 with 1 Axes>"
      ]
     },
     "metadata": {
      "needs_background": "light"
     },
     "output_type": "display_data"
    },
    {
     "data": {
      "image/png": "[encoded data removed]",
      "text/plain": [
       "<Figure size 216x216 with 1 Axes>"
      ]
     },
     "metadata": {
      "needs_background": "light"
     },
     "output_type": "display_data"
    },
    {
     "data": {
      "image/png": "[encoded data removed]",
      "text/plain": [
       "<Figure size 216x216 with 1 Axes>"
      ]
     },
     "metadata": {
      "needs_background": "light"
     },
     "output_type": "display_data"
    },
    {
     "data": {
      "image/png": "[encoded data removed]",
      "text/plain": [
       "<Figure size 216x216 with 1 Axes>"
      ]
     },
     "metadata": {
      "needs_background": "light"
     },
     "output_type": "display_data"
    },
    {
     "data": {
      "image/png": "[encoded data removed]",
      "text/plain": [
       "<Figure size 216x216 with 1 Axes>"
      ]
     },
     "metadata": {
      "needs_background": "light"
     },
     "output_type": "display_data"
    },
    {
     "data": {
      "image/png": "[encoded data removed]",
      "text/plain": [
       "<Figure size 216x216 with 1 Axes>"
      ]
     },
     "metadata": {
      "needs_background": "light"
     },
     "output_type": "display_data"
    },
    {
     "data": {
      "image/png": "[encoded data removed]",
      "text/plain": [
       "<Figure size 216x216 with 1 Axes>"
      ]
     },
     "metadata": {
      "needs_background": "light"
     },
     "output_type": "display_data"
    },
    {
     "data": {
      "image/png": "[encoded data removed]",
      "text/plain": [
       "<Figure size 216x216 with 1 Axes>"
      ]
     },
     "metadata": {
      "needs_background": "light"
     },
     "output_type": "display_data"
    },
    {
     "data": {
      "image/png": "[encoded data removed]",
      "text/plain": [
       "<Figure size 216x216 with 1 Axes>"
      ]
     },
     "metadata": {
      "needs_background": "light"
     },
     "output_type": "display_data"
    },
    {
     "data": {
      "image/png": "[encoded data removed]",
      "text/plain": [
       "<Figure size 216x216 with 1 Axes>"
      ]
     },
     "metadata": {
      "needs_background": "light"
     },
     "output_type": "display_data"
    },
    {
     "data": {
      "image/png": "[encoded data removed]",
      "text/plain": [
       "<Figure size 216x216 with 1 Axes>"
      ]
     },
     "metadata": {
      "needs_background": "light"
     },
     "output_type": "display_data"
    },
    {
     "data": {
      "image/png": "[encoded data removed]",
      "text/plain": [
       "<Figure size 216x216 with 1 Axes>"
      ]
     },
     "metadata": {
      "needs_background": "light"
     },
     "output_type": "display_data"
    },
    {
     "data": {
      "image/png": "[encoded data removed]",
      "text/plain": [
       "<Figure size 216x216 with 1 Axes>"
      ]
     },
     "metadata": {
      "needs_background": "light"
     },
     "output_type": "display_data"
    },
    {
     "data": {
      "text/plain": [
       "' \\nSe puede concluir\\n'"
      ]
     },
     "execution_count": 213,
     "metadata": {},
     "output_type": "execute_result"
    }
   ],
   "source": [
    "# Ejercicio 3\n",
    "\n",
    "\"\"\"\n",
    "Una v.a. continua X responde a un proceso Gaussiano de media cero\n",
    "y σ\n",
    "2 = 1\n",
    "(b) Simular varias realizaciones de X y estimar la pdf usando el m ́etodo\n",
    "del histograma\n",
    "(c) Variar la cantidad de bins y sacar conclusiones acerca de la calidad de\n",
    "estimaci ́on\n",
    "\"\"\"\n",
    "\n",
    "x = np.random.randn(1000)\n",
    "\n",
    "def pdf_hist(x, bins):\n",
    "    x_min = x.min()\n",
    "    x_max = x.max()\n",
    "    \n",
    "    pdfs = np.zeros(bins)\n",
    "    \n",
    "    dist = x_max - x_min\n",
    "\n",
    "    len_bin = dist / bins\n",
    "\n",
    "    for i in range(bins):\n",
    "        end = x_min + len_bin * (i + 1) if x_min + len_bin * (i + 1) < x_max else x_max\n",
    "        inbin = (x_min + len_bin * i <= x) & (x <= end)\n",
    "        pdfs[i] = sum(inbin)/x.shape[0]\n",
    "        \n",
    "\n",
    "    return pdfs\n",
    "\n",
    "size = 20\n",
    "\n",
    "for i in range(1, size):\n",
    "    h = pdf_hist(x, i)\n",
    "    plt.figure(figsize=[3,3])\n",
    "    plt.bar([*range(i)], h)\n",
    "\n",
    "    plt.show()\n",
    "\n",
    "    \n",
    "''' \n",
    "Se puede concluir que la calidad de la estimación se comporta de manera \"parabólica\", \n",
    "es decir, iniciando en 1, a mayor cantidad de bins mejora la calidad hasta llegar a un punto de inflexión,\n",
    "donde el aporte de la varianza al MSE sobrepasa a la reducción del bias y la calidad disminuye.\n",
    "'''"
   ]
  },
  {
   "cell_type": "code",
   "execution_count": 42,
   "metadata": {},
   "outputs": [
    {
     "data": {
      "image/png": "[encoded data removed]",
      "text/plain": [
       "<Figure size 432x288 with 1 Axes>"
      ]
     },
     "metadata": {
      "needs_background": "light"
     },
     "output_type": "display_data"
    }
   ],
   "source": [
    "# Ejercicio 4\n",
    "\n",
    "'''\n",
    "(a) Repetir el ejercicio 3 usando un estimador de kernel con una funci ́on\n",
    "Gaussiana\n",
    "(b) Comparar resultados entre ambos ejercicios\n",
    "\n",
    "'''\n",
    "\n",
    "M = 100\n",
    "h = 0.3\n",
    "n = 1000\n",
    "\n",
    "X = np.random.exponential(2,size=n)\n",
    "x_mean = 0\n",
    "\n",
    "x_min = 0\n",
    "x_max = 10\n",
    "\n",
    "kern = np.linspace(x_min, x_max, M + 1)\n",
    "\n",
    "K_fin = np.zeros(shape = kern.shape)\n",
    "\n",
    "for i in range(n):\n",
    "    K = norm.pdf((X[i] - kern)/h)\n",
    "\n",
    "    K_fin = K_fin + K\n",
    "    \n",
    "K_fin = K_fin/(M*h)\n",
    "\n",
    "plt.plot(K_fin)\n",
    "plt.show()\n",
    "\n",
    "\n"
   ]
  },
  {
   "cell_type": "code",
   "execution_count": 32,
   "metadata": {},
   "outputs": [
    {
     "data": {
      "text/plain": [
       "array([2.78425656e-100, 4.90630854e-071, 2.57931424e-050, 2.47436351e-044,\n",
       "       8.29728312e-086, 3.84430394e-033, 9.03906988e-010, 4.05089493e-002,\n",
       "       1.71807704e-072, 3.10313540e-031, 5.09518384e-068, 9.53326930e-025,\n",
       "       4.10130259e-015, 9.35796237e-002, 1.95745296e-015, 1.31540625e-047,\n",
       "       2.82401232e-032, 5.94804479e-027, 5.59635088e-037, 2.46116090e-060,\n",
       "       4.13566574e-035, 7.45155117e-055, 8.20360312e-049, 7.87162545e-004,\n",
       "       1.28673266e-001, 1.37581933e-017, 5.13440362e-031, 2.35000768e-001,\n",
       "       1.57086439e-002, 2.30557306e-066, 1.38387895e-094, 8.18961622e-024,\n",
       "       1.06703988e-002, 6.12577259e-018, 2.74880832e-081, 1.39595943e-030,\n",
       "       2.03268329e-037, 9.67682185e-134, 2.19693671e-012, 3.99770947e-124,\n",
       "       8.52795038e-064, 3.51734823e-043, 3.30010068e-109, 5.83541606e-002,\n",
       "       1.71658599e-048, 9.52044043e-054, 3.13002581e-058, 6.16725489e-031,\n",
       "       1.06150014e-021, 6.31879526e-041, 1.27927651e-029, 2.37710405e-055,\n",
       "       2.36982084e-098, 8.06581030e-075, 5.17089531e-010, 8.90742820e-095,\n",
       "       4.39365777e-003, 2.10407474e-173, 4.01489316e-006, 3.80444359e-009,\n",
       "       4.69514439e-011, 2.13837297e-010, 3.63376283e-014, 1.93506642e-015,\n",
       "       4.54826108e-018, 2.26108063e-021, 1.45631817e-103, 4.36054791e-087,\n",
       "       1.65637690e-111, 4.46530403e-116, 6.95822069e-014, 2.79988086e-037,\n",
       "       2.57857423e-052, 6.62583632e-106, 4.70602590e-071, 1.42528137e-029,\n",
       "       9.80617882e-075, 8.09897039e-006, 3.34682978e-064, 7.31154779e-045,\n",
       "       4.70062578e-022, 8.96373707e-006, 3.25098676e-038, 1.48718393e-024,\n",
       "       3.79963899e-020, 1.09298372e-057, 2.01998523e-011, 1.48496186e-009,\n",
       "       3.69476338e-007, 4.76093981e-035, 5.54766373e-050, 9.07402114e-113,\n",
       "       2.69544508e-029, 1.60279211e-172, 3.19044553e-032, 1.27037415e-111,\n",
       "       3.84068051e-027, 2.01803836e-019, 6.49158448e-048, 9.63711197e-052,\n",
       "       2.52115696e-004, 3.71046956e-007, 6.44835956e-044, 9.77110545e-002,\n",
       "       1.26281356e-126, 6.78340446e-049, 1.33612815e-060, 2.16180579e-008,\n",
       "       2.73502933e-024, 8.78052482e-182, 2.70538926e-093, 5.85030424e-047,\n",
       "       1.98498018e-079, 2.75386353e-005, 1.08056166e-025, 1.23277660e-023,\n",
       "       5.73597547e-016, 6.39558995e-026, 4.73505352e-004, 2.41219819e-043,\n",
       "       6.63071047e-074, 2.35238148e-008, 0.00000000e+000, 1.34374086e-054,\n",
       "       6.66425625e-101, 6.51448058e-026, 1.11935771e-026, 8.97007941e-081,\n",
       "       2.79958781e-037, 1.92610108e-036, 2.46095696e-052, 1.33026236e-018,\n",
       "       1.29346167e-016, 1.47411213e-015, 1.91550794e-097, 7.67748160e-008,\n",
       "       1.48593253e-014, 7.99965555e-014, 3.80475918e-057, 2.76221374e-026,\n",
       "       1.76587688e-031, 5.98383090e-041, 4.07187455e-019, 2.21576739e-020,\n",
       "       2.31440762e-027, 1.07514093e-036, 5.01798520e-082, 1.06662972e-034,\n",
       "       1.66666787e-055, 2.25002539e-018, 2.75835122e-025, 2.00419367e-019,\n",
       "       1.31924481e-056, 2.37704670e-100, 9.46718275e-008, 8.00186147e-100,\n",
       "       1.27962523e-063, 4.56493316e-001, 2.65059072e-006, 6.56223620e-108,\n",
       "       2.51720354e-095, 3.95350561e-045, 1.73648344e-024, 2.93827774e-009,\n",
       "       2.31281745e-096, 8.66024028e-032, 1.11064154e-005, 5.78658246e-006,\n",
       "       4.32312039e-041, 5.19916203e-128, 4.99032165e-028, 1.54569605e-031,\n",
       "       1.10405139e-001, 1.46781514e-005, 1.47878726e-008, 1.47943948e-052,\n",
       "       2.59758150e-101, 1.55340469e-072, 1.17069043e-121, 1.97707663e-042,\n",
       "       4.01138264e-055, 3.98993809e-072, 2.51773878e-065, 3.99893943e-130,\n",
       "       6.54399900e-025, 4.08382467e-056, 1.21993403e-007, 3.63668907e-001,\n",
       "       5.36476166e-022, 1.00221112e-061, 4.88169427e-255, 3.70438970e-040,\n",
       "       1.54045858e-021, 5.35676372e-013, 3.18456784e-060, 2.41254577e-160,\n",
       "       5.15807780e-013, 1.35631833e-009, 1.34274159e-074, 1.58521955e-053,\n",
       "       7.77742442e-008, 2.14645675e-022, 9.07816504e-029, 1.63394456e-012,\n",
       "       1.16521114e-003, 5.75354140e-019, 4.01567488e-024, 2.02283305e-042,\n",
       "       1.18283866e-003, 7.69786955e-003, 1.46978018e-141, 4.18486412e-008,\n",
       "       2.06382655e-004, 7.47022226e-143, 5.69722140e-156, 1.25709157e-034,\n",
       "       1.37875062e-006, 1.48452334e-067, 5.63246441e-011, 1.73584231e-015,\n",
       "       5.93622725e-003, 1.82618657e-018, 5.55787534e-001, 3.78256021e-008,\n",
       "       1.33639554e-043, 6.09036619e-056, 1.04853899e-002, 4.92628495e-095,\n",
       "       9.86853676e-009, 4.30623843e-055, 7.97842597e-005, 4.11912719e-012,\n",
       "       1.21919444e-018, 6.96586899e-008, 1.23208196e-045, 9.77823116e-070,\n",
       "       2.12434977e-011, 5.68313374e-066, 3.76258295e-079, 1.37296996e-053,\n",
       "       3.66510652e-004, 3.26773000e-077, 3.07591365e-083, 6.83254059e-097,\n",
       "       1.70072029e-012, 6.68587589e-009, 5.78330169e-035, 1.50804669e-007,\n",
       "       2.88018959e-074, 1.47832863e-051, 4.20790858e-003, 8.38497469e-026,\n",
       "       4.61622914e-039, 5.11094841e-062, 1.74870633e-046, 2.81986732e-001,\n",
       "       2.41619652e-031, 7.84321845e-068, 1.88847624e-254, 7.23867377e-016,\n",
       "       1.09864947e-014, 5.60368155e-001, 5.61309804e-021, 3.21719203e-049,\n",
       "       9.21604951e-058, 7.04709868e-113, 2.01425247e-112, 7.04965849e-020,\n",
       "       1.04789686e-004, 6.74230688e-023, 1.34794214e-011, 1.87158448e-065,\n",
       "       7.32972938e-206, 3.97481128e-012, 3.66970818e-021, 1.31342368e-079,\n",
       "       5.11457115e-018, 4.24525762e-010, 3.90418888e-032, 1.02053571e-075,\n",
       "       1.98595216e-067, 4.66917363e-132, 9.73386515e-011, 1.63730628e-141,\n",
       "       3.80561639e-097, 7.09517816e-025, 2.18259491e-014, 8.13100250e-062,\n",
       "       2.06049155e-007, 3.41934421e-008, 9.27547790e-051, 2.42245677e-007,\n",
       "       4.07303572e-004, 4.55545438e-083, 1.66536698e-006, 1.74527610e-010,\n",
       "       3.25754678e-007, 2.83051140e-045, 1.01971737e-037, 2.38500014e-066,\n",
       "       5.61469381e-043, 3.00823246e-007, 8.09356324e-094, 4.51137219e-055,\n",
       "       1.50023983e-001, 1.37696244e-075, 2.61585551e-030, 1.21866037e-074,\n",
       "       2.11492730e-084, 2.24738184e-032, 1.23543993e-006, 1.14092903e-031,\n",
       "       1.10841426e-057, 6.43103504e-017, 2.19690650e-049, 2.12981938e-001,\n",
       "       3.26042959e-006, 1.93984331e-005, 1.06287391e-061, 4.53218863e-041,\n",
       "       6.43070770e-097, 4.11552873e-014, 1.68841853e-111, 3.14665264e-001,\n",
       "       9.87406324e-024, 5.18775003e-004, 1.89588771e-012, 1.75335113e-060,\n",
       "       9.61644236e-028, 2.96629604e-023, 2.10932050e-023, 1.07695506e-034,\n",
       "       1.26710493e-018, 6.13335141e-002, 5.75098596e-008, 4.63950224e-037,\n",
       "       1.81925388e-013, 8.96674601e-017, 8.90896733e-046, 1.31826968e-031,\n",
       "       3.43508126e-095, 6.69244025e-046, 1.01205493e-014, 1.43604796e-024,\n",
       "       3.93910654e-128, 1.39367812e-057, 3.14010961e-052, 2.49744505e-074,\n",
       "       1.15904037e-097, 1.00178900e-068, 1.67990717e-006, 5.04005209e-003,\n",
       "       1.72077618e-006, 1.85205321e-026, 1.60155919e-009, 3.41520856e-038,\n",
       "       2.82402225e-028, 7.49385266e-046, 5.59776738e-211, 4.97804341e-001,\n",
       "       1.26443373e-013, 6.54674392e-043, 5.76083532e-033, 1.59366412e-008,\n",
       "       4.23068374e-040, 1.59274418e-013, 3.06776217e-014, 9.14945816e-045,\n",
       "       1.66529456e-017, 5.32089715e-051, 3.59849368e-020, 1.51469460e-032,\n",
       "       1.83077937e-078, 2.24532610e-030, 3.28373283e-024, 1.00756721e-018,\n",
       "       2.18328474e-020, 2.76006554e-020, 1.23969092e-031, 5.24876913e-097,\n",
       "       7.35181677e-003, 2.52918282e-007, 1.87524519e-025, 2.11405883e-016,\n",
       "       4.58690882e-005, 6.35855133e-155, 4.63739438e-031, 1.06428170e-007,\n",
       "       1.85570853e-004, 3.82227170e-006, 7.82851779e-021, 8.76311643e-009,\n",
       "       1.17797873e-007, 9.78177468e-005, 1.28595837e-126, 6.72733874e-119,\n",
       "       3.03987082e-028, 5.50430228e-032, 9.96872580e-081, 6.09831008e-021,\n",
       "       2.53608950e-049, 6.05874096e-032, 1.77929357e-056, 3.42826095e-040,\n",
       "       1.49566786e-009, 3.12111865e-028, 4.21513022e-041, 3.78076396e-142,\n",
       "       1.12979704e-047, 4.14266611e-040, 2.18258114e-031, 3.10187544e-001,\n",
       "       1.49571857e-006, 3.68793674e-071, 2.22780583e-150, 1.25296182e-014,\n",
       "       2.02595758e-062, 1.99561284e-091, 1.02637829e-030, 9.00643008e-021,\n",
       "       1.93497352e-030, 1.51753964e-047, 1.12953926e-040, 5.82524155e-056,\n",
       "       6.35395494e-002, 3.79347733e-067, 7.17832427e-046, 1.42432447e-003,\n",
       "       2.53504329e-037, 1.32733758e-022, 2.16330701e-047, 8.13801561e-045,\n",
       "       1.94150673e-042, 6.58695642e-110, 4.89615252e-074, 3.45189302e-026,\n",
       "       1.15602619e-008, 2.95933949e-017, 3.80530099e-032, 2.32639033e-106,\n",
       "       3.24373361e-028, 6.69892708e-155, 2.11122377e-002, 2.99496467e-009,\n",
       "       8.21508049e-002, 6.15480276e-034, 9.09759552e-054, 3.60031020e-151,\n",
       "       1.70389548e-028, 2.06967185e-004, 3.18646687e-093, 5.37780197e-088,\n",
       "       1.17526498e-052, 1.12675645e-020, 2.03596454e-001, 2.45115146e-016,\n",
       "       9.47814956e-004, 2.67131055e-008, 4.39930078e-067, 8.73886843e-078,\n",
       "       1.68888045e-027, 5.24924056e-023, 2.68273578e-043, 1.73093421e-021,\n",
       "       1.46752266e-022, 9.57770136e-057, 4.84960555e-029, 3.89846350e-038,\n",
       "       2.23235127e-031, 2.45026710e-002, 1.37187199e-026, 2.22305557e-019,\n",
       "       7.48391365e-037, 2.06786372e-069, 7.34610758e-038, 2.04521719e-020,\n",
       "       1.26410151e-019, 1.96397999e-006, 5.86393921e-047, 9.46871279e-194,\n",
       "       2.19311846e-034, 6.84986666e-023, 2.23443419e-058, 1.55537348e-083,\n",
       "       3.46870331e-008, 4.74273586e-009, 1.43552104e-166, 1.66533032e-032,\n",
       "       2.98540651e-020, 1.30693715e-016, 3.95415131e-063, 6.38479387e-031,\n",
       "       2.74800560e-030, 2.89522340e-018, 2.06910738e-013, 1.71566663e-023,\n",
       "       1.47871675e-004, 2.10354212e-016, 1.27514141e-026, 4.17249313e-063,\n",
       "       5.78711801e-066, 1.35176736e-005, 1.57911417e-018, 1.63543081e-062,\n",
       "       5.04916293e-045, 3.33605663e-058, 7.82060379e-023, 1.22621931e-025,\n",
       "       3.94839752e-017, 2.38904511e-076, 1.21135264e-039, 3.50988462e-101,\n",
       "       4.20416170e-054, 2.75680831e-116, 7.55276686e-149, 3.71925152e-151,\n",
       "       5.38790618e-056, 8.96162451e-014, 6.99828681e-021, 1.19640506e-002,\n",
       "       6.22629032e-064, 5.87158362e-026, 2.18377015e-321, 8.74626789e-022,\n",
       "       2.34427181e-024, 9.08386494e-045, 1.91028199e-054, 6.51339018e-002,\n",
       "       1.47860816e-016, 1.78326884e-018, 1.78709259e-027, 9.56281546e-049,\n",
       "       1.23816584e-150, 6.25256578e-035, 9.65146029e-023, 1.29787425e-188,\n",
       "       2.91194053e-011, 2.09493503e-087, 7.46761193e-078, 1.37554298e-068,\n",
       "       8.05747314e-003, 8.91773259e-010, 6.42262598e-023, 8.83733394e-061,\n",
       "       7.70821972e-061, 2.17031171e-012, 1.14658723e-109, 2.20564461e-011,\n",
       "       6.76061316e-038, 4.91236055e-073, 1.37453798e-068, 3.58535923e-073,\n",
       "       1.62691333e-175, 1.60297906e-078, 1.15038927e-001, 1.46533385e-003,\n",
       "       7.03005114e-008, 2.84753559e-044, 6.11813340e-023, 1.32669839e-002,\n",
       "       2.51621351e-041, 1.26811523e-147, 3.36273436e-001, 1.06704835e-018,\n",
       "       1.99199826e-053, 1.61915985e-093, 4.15078199e-019, 5.64894427e-026,\n",
       "       2.38519389e-003, 2.20977236e-006, 7.39257060e-177, 5.63269592e-036,\n",
       "       1.81013671e-072, 1.90459689e-054, 2.80777712e-043, 4.71145752e-006,\n",
       "       4.63874146e-005, 3.27044751e-038, 1.64113943e-039, 1.29901154e-004,\n",
       "       1.64015661e-027, 8.41099628e-121, 5.03370910e-087, 7.46615367e-016,\n",
       "       4.53764790e-003, 1.52955273e-019, 1.59289386e-011, 2.06765885e-021,\n",
       "       1.72413463e-068, 1.83684788e-098, 7.99904728e-028, 1.71140403e-012,\n",
       "       4.46077876e-066, 2.13781476e-075, 1.17968628e-028, 3.02978902e-064,\n",
       "       1.64771753e-240, 5.10798843e-049, 1.36301945e-008, 1.32481108e-018,\n",
       "       3.60375308e-036, 4.62125164e-046, 9.33412461e-024, 8.85911887e-016,\n",
       "       3.22395809e-006, 3.09534088e-004, 1.50612901e-050, 4.36380629e-006,\n",
       "       3.58120980e-065, 5.03876385e-004, 2.18119844e-009, 4.33086681e-055,\n",
       "       2.15882266e-008, 3.65086165e-005, 1.76802259e-049, 2.24498919e-023,\n",
       "       6.38145727e-041, 6.72727354e-019, 3.30026858e-056, 1.51759298e-038,\n",
       "       5.00613548e-177, 6.27080270e-011, 5.35857574e-009, 1.45308944e-008,\n",
       "       1.69339870e-006, 6.08702174e-003, 6.49184823e-052, 1.02041999e-103,\n",
       "       3.55155897e-001, 9.79880478e-124, 3.01620501e-072, 2.30124782e-136,\n",
       "       1.13242636e-069, 8.99338912e-033, 2.19403317e-004, 8.30848641e-008,\n",
       "       8.97178821e-023, 2.25312693e-030, 1.27996819e-067, 7.36875244e-040,\n",
       "       3.02806659e-011, 1.20616735e-134, 1.37254359e-298, 2.17638208e-009,\n",
       "       2.94414096e-025, 5.67890218e-012, 2.03029977e-020, 3.63534213e-001,\n",
       "       1.57136096e-079, 6.31745582e-014, 3.89798129e-249, 1.17620539e-020,\n",
       "       2.71767839e-097, 1.26583851e-009, 6.08866559e-002, 1.93318755e-006,\n",
       "       1.09376092e-026, 1.75532396e-047, 2.28335748e-008, 4.82768949e-032,\n",
       "       8.51232054e-015, 2.43816290e-043, 8.44507594e-024, 1.66217177e-012,\n",
       "       3.40412751e-026, 1.16134048e-053, 8.49819051e-118, 1.20383871e-024,\n",
       "       3.72266432e-027, 1.23460746e-043, 4.55909823e-069, 5.77695002e-064,\n",
       "       4.29365710e-037, 2.46849729e-270, 2.39363134e-024, 1.03398137e-019,\n",
       "       3.32625864e-023, 5.29966634e-013, 1.50499798e-096, 4.20096601e-013,\n",
       "       3.41369100e-006, 8.77681012e-016, 3.39644703e-074, 1.11167324e-121,\n",
       "       1.89814923e-098, 7.50228839e-124, 3.52500895e-148, 6.13025783e-021,\n",
       "       2.92259949e-021, 4.53110926e-012, 6.68470732e-052, 3.66211884e-049,\n",
       "       6.47896011e-022, 2.17841047e-040, 2.41891024e-017, 4.70394233e-017,\n",
       "       1.05326757e-061, 9.27817958e-009, 3.03900958e-036, 2.98104870e-034,\n",
       "       1.97190397e-110, 5.58037016e-155, 3.91485995e-006, 1.23562917e-163,\n",
       "       7.16122079e-005, 8.12116657e-005, 4.01776819e-085, 1.26439755e-063,\n",
       "       3.13346641e-288, 5.80516782e-008, 1.55246767e-034, 1.61397192e-060,\n",
       "       6.18831011e-002, 3.42154102e-031, 5.62982901e-009, 2.17515941e-001,\n",
       "       1.82346748e-225, 3.86585639e-049, 4.08425655e-005, 6.29056865e-142,\n",
       "       1.24162211e-013, 1.83496522e-116, 3.67516902e-017, 8.97806781e-032,\n",
       "       5.04393424e-007, 9.32136629e-023, 4.97845227e-018, 6.56508287e-010,\n",
       "       8.50685331e-039, 1.98876249e-061, 5.56767890e-027, 6.34768614e-016,\n",
       "       2.06584493e-072, 1.63556012e-039, 1.81233104e-102, 2.12801547e-092,\n",
       "       1.93462033e-007, 1.07336518e-081, 2.30720403e-015, 6.17901819e-005,\n",
       "       7.40297631e-022, 1.86587284e-032, 5.75365648e-012, 6.64918775e-098,\n",
       "       1.79069895e-025, 4.56777717e-032, 3.17806474e-026, 3.59802445e-090,\n",
       "       6.43459701e-001, 1.91727446e-025, 3.63041351e-034, 1.89485326e-090,\n",
       "       7.63991617e-056, 4.70305594e-025, 2.71929384e-059, 8.04057251e-078,\n",
       "       8.82592998e-035, 5.64975034e-036, 2.45084918e-012, 7.93744656e-008,\n",
       "       1.71892035e-069, 1.78782255e-032, 3.46252663e-024, 8.37808060e-021,\n",
       "       6.62771925e-041, 3.42847238e-021, 8.10874202e-026, 3.08570434e-028,\n",
       "       1.07788626e-004, 1.26604475e-063, 1.82472040e-090, 9.89293349e-021,\n",
       "       9.36830365e-202, 1.64467509e-048, 9.20076067e-056, 1.01480747e-013,\n",
       "       4.01496036e-002, 2.00494980e-004, 3.69749881e-006, 9.37828534e-005,\n",
       "       1.87876099e-013, 1.04959067e-041, 1.03426373e-097, 2.68355798e-063,\n",
       "       4.84683236e-020, 7.86126282e-020, 8.21861215e-023, 1.96777875e-001,\n",
       "       1.87998146e-192, 8.55892329e-011, 4.87057584e-111, 1.21998160e-025,\n",
       "       2.06427399e-024, 8.57110136e-020, 1.56427261e-027, 1.92153216e-025,\n",
       "       4.37856752e-120, 1.66939734e-052, 7.76147424e-138, 1.00342104e-018,\n",
       "       1.56754944e-015, 1.31255092e-056, 1.19107050e-021, 8.09058293e-017,\n",
       "       2.72846596e-002, 3.56280556e-008, 2.66108800e-028, 6.38873977e-065,\n",
       "       1.16973085e-080, 3.84276270e-012, 1.37528738e-004, 9.91690669e-190,\n",
       "       2.21616268e-002, 1.49873497e-006, 3.68943382e-025, 6.40646109e-006,\n",
       "       1.05859258e-025, 1.39236195e-132, 3.09682508e-043, 1.56739340e-037,\n",
       "       2.19713916e-186, 1.90000331e-055, 8.72051302e-100, 2.50223733e-056,\n",
       "       5.43125227e-024, 5.84180471e-106, 8.75963911e-063, 3.41876875e-042,\n",
       "       2.23462156e-026, 1.79096404e-029, 6.06422459e-009, 1.38788433e-002,\n",
       "       4.33254543e-002, 7.16143629e-004, 6.30726443e-040, 4.69570313e-020,\n",
       "       2.86240842e-042, 3.58145495e-115, 6.77191878e-042, 4.72151187e-066,\n",
       "       2.23600549e-034, 1.84898310e-002, 3.39906571e-029, 1.98563035e-002,\n",
       "       1.44415697e-103, 1.08030866e-014, 4.12470577e-036, 1.99322937e-070,\n",
       "       1.76929063e-039, 7.11652981e-031, 4.68539732e-007, 1.49300040e-006,\n",
       "       3.74446920e-024, 8.74793744e-011, 3.00334739e-081, 1.38556571e-075,\n",
       "       2.94819845e-076, 1.50444959e-065, 6.27979718e-019, 6.26944062e-005,\n",
       "       2.47479283e-024, 2.16119137e-006, 2.19830767e-035, 1.03599240e-005,\n",
       "       9.31700680e-021, 7.86869920e-019, 8.86076489e-020, 2.65284962e-084,\n",
       "       1.01578439e-003, 7.19966568e-008, 3.36649177e-110, 5.38216542e-050,\n",
       "       1.26476636e-005, 2.83693489e-021, 1.48715806e-005, 1.85828302e-026,\n",
       "       1.39375932e-005, 2.15558652e-117, 9.20268767e-017, 3.03332800e-054,\n",
       "       4.84702983e-035, 4.72361848e-103, 4.40800773e-052, 7.67418973e-031,\n",
       "       5.03317931e-055, 1.70132559e-011, 2.73490575e-027, 2.56688019e-001,\n",
       "       1.44590873e-064, 2.82827044e-264, 2.84720830e-001, 4.04160687e-045,\n",
       "       1.22773091e-048, 1.35877774e-144, 2.88773594e-044, 5.34298155e-012,\n",
       "       1.71220762e-023, 5.86522371e-027, 6.91204874e-009, 4.48555812e-091,\n",
       "       2.11255752e-025, 4.26892341e-011, 4.95330207e-044, 1.20628510e-069,\n",
       "       1.24058643e-012, 2.96705472e-075, 2.40716190e-002, 2.19200994e-202,\n",
       "       8.60743393e-003, 9.04816377e-155, 1.05117430e-042, 8.07494724e-070,\n",
       "       1.90069004e-050, 7.17624532e-002, 2.15121432e-130, 4.37196667e-005,\n",
       "       3.79466124e-005, 1.77213502e-038, 5.04495674e-020, 5.14857829e-001,\n",
       "       5.23890472e-266, 1.18991668e-049, 2.38932619e-012, 1.48916020e-156,\n",
       "       1.14739523e-051, 8.72872033e-020, 3.78182667e-008, 1.17112068e-012,\n",
       "       2.53213250e-064, 1.11067424e-115, 2.40202991e-076, 2.29126512e-022,\n",
       "       4.77398477e-010, 7.11229852e-026, 3.26803885e-032, 2.43111091e-029,\n",
       "       2.02009575e-012, 7.85764131e-024, 2.59498767e-071, 1.58385766e-113,\n",
       "       1.72368951e-011, 3.56325349e-039, 2.29998624e-008, 1.57503131e-005,\n",
       "       6.04409110e-004, 5.61801342e-033, 4.77534902e-019, 3.60417090e-024,\n",
       "       1.45749355e-032, 5.67248443e-011, 1.81782630e-042, 1.98599525e-152,\n",
       "       6.93213708e-022, 5.50999616e-239, 1.46553923e-062, 4.51550457e-003,\n",
       "       3.77046265e-025, 3.76197566e-021, 1.08787071e-004, 1.03878482e-020,\n",
       "       3.34776962e-006, 1.15464000e-024, 1.11470446e-067, 5.87717718e-009,\n",
       "       9.58905078e-029, 3.74687940e-162, 1.55124184e-070, 7.73248328e-001,\n",
       "       5.20862295e-087, 3.00836820e-014, 3.45867234e-010, 1.84215237e-021,\n",
       "       2.48671811e-096, 7.54828864e-047, 1.29253717e-108, 2.16210260e-019,\n",
       "       7.87385895e-114, 3.03699193e-029, 1.50593009e-034, 4.02965657e-132,\n",
       "       1.20297095e-159, 2.77503173e-003, 2.42702176e-048, 6.73220712e-066,\n",
       "       4.53716713e-044, 3.94786871e-104, 6.28388685e-062, 7.35917395e-025,\n",
       "       1.89607642e-038, 2.15109525e-081, 7.20415301e-062, 9.71074057e-094,\n",
       "       1.27715601e-041, 2.06569041e-048, 4.23402269e-003, 1.30636731e-007,\n",
       "       1.82456355e-002, 3.12134312e-013, 6.04357864e-111, 1.15672341e-018])"
      ]
     },
     "execution_count": 32,
     "metadata": {},
     "output_type": "execute_result"
    }
   ],
   "source": []
  },
  {
   "cell_type": "code",
   "execution_count": 38,
   "metadata": {},
   "outputs": [
    {
     "data": {
      "text/plain": [
       "array([2.78425656e-100, 4.90630854e-071, 2.57931424e-050, 2.47436351e-044,\n",
       "       8.29728312e-086, 3.84430394e-033, 9.03906988e-010, 4.05089493e-002,\n",
       "       1.71807704e-072, 3.10313540e-031, 5.09518384e-068, 9.53326930e-025,\n",
       "       4.10130259e-015, 9.35796237e-002, 1.95745296e-015, 1.31540625e-047,\n",
       "       2.82401232e-032, 5.94804479e-027, 5.59635088e-037, 2.46116090e-060,\n",
       "       4.13566574e-035, 7.45155117e-055, 8.20360312e-049, 7.87162545e-004,\n",
       "       1.28673266e-001, 1.37581933e-017, 5.13440362e-031, 2.35000768e-001,\n",
       "       1.57086439e-002, 2.30557306e-066, 1.38387895e-094, 8.18961622e-024,\n",
       "       1.06703988e-002, 6.12577259e-018, 2.74880832e-081, 1.39595943e-030,\n",
       "       2.03268329e-037, 9.67682185e-134, 2.19693671e-012, 3.99770947e-124,\n",
       "       8.52795038e-064, 3.51734823e-043, 3.30010068e-109, 5.83541606e-002,\n",
       "       1.71658599e-048, 9.52044043e-054, 3.13002581e-058, 6.16725489e-031,\n",
       "       1.06150014e-021, 6.31879526e-041, 1.27927651e-029, 2.37710405e-055,\n",
       "       2.36982084e-098, 8.06581030e-075, 5.17089531e-010, 8.90742820e-095,\n",
       "       4.39365777e-003, 2.10407474e-173, 4.01489316e-006, 3.80444359e-009,\n",
       "       4.69514439e-011, 2.13837297e-010, 3.63376283e-014, 1.93506642e-015,\n",
       "       4.54826108e-018, 2.26108063e-021, 1.45631817e-103, 4.36054791e-087,\n",
       "       1.65637690e-111, 4.46530403e-116, 6.95822069e-014, 2.79988086e-037,\n",
       "       2.57857423e-052, 6.62583632e-106, 4.70602590e-071, 1.42528137e-029,\n",
       "       9.80617882e-075, 8.09897039e-006, 3.34682978e-064, 7.31154779e-045,\n",
       "       4.70062578e-022, 8.96373707e-006, 3.25098676e-038, 1.48718393e-024,\n",
       "       3.79963899e-020, 1.09298372e-057, 2.01998523e-011, 1.48496186e-009,\n",
       "       3.69476338e-007, 4.76093981e-035, 5.54766373e-050, 9.07402114e-113,\n",
       "       2.69544508e-029, 1.60279211e-172, 3.19044553e-032, 1.27037415e-111,\n",
       "       3.84068051e-027, 2.01803836e-019, 6.49158448e-048, 9.63711197e-052,\n",
       "       2.52115696e-004, 3.71046956e-007, 6.44835956e-044, 9.77110545e-002,\n",
       "       1.26281356e-126, 6.78340446e-049, 1.33612815e-060, 2.16180579e-008,\n",
       "       2.73502933e-024, 8.78052482e-182, 2.70538926e-093, 5.85030424e-047,\n",
       "       1.98498018e-079, 2.75386353e-005, 1.08056166e-025, 1.23277660e-023,\n",
       "       5.73597547e-016, 6.39558995e-026, 4.73505352e-004, 2.41219819e-043,\n",
       "       6.63071047e-074, 2.35238148e-008, 0.00000000e+000, 1.34374086e-054,\n",
       "       6.66425625e-101, 6.51448058e-026, 1.11935771e-026, 8.97007941e-081,\n",
       "       2.79958781e-037, 1.92610108e-036, 2.46095696e-052, 1.33026236e-018,\n",
       "       1.29346167e-016, 1.47411213e-015, 1.91550794e-097, 7.67748160e-008,\n",
       "       1.48593253e-014, 7.99965555e-014, 3.80475918e-057, 2.76221374e-026,\n",
       "       1.76587688e-031, 5.98383090e-041, 4.07187455e-019, 2.21576739e-020,\n",
       "       2.31440762e-027, 1.07514093e-036, 5.01798520e-082, 1.06662972e-034,\n",
       "       1.66666787e-055, 2.25002539e-018, 2.75835122e-025, 2.00419367e-019,\n",
       "       1.31924481e-056, 2.37704670e-100, 9.46718275e-008, 8.00186147e-100,\n",
       "       1.27962523e-063, 4.56493316e-001, 2.65059072e-006, 6.56223620e-108,\n",
       "       2.51720354e-095, 3.95350561e-045, 1.73648344e-024, 2.93827774e-009,\n",
       "       2.31281745e-096, 8.66024028e-032, 1.11064154e-005, 5.78658246e-006,\n",
       "       4.32312039e-041, 5.19916203e-128, 4.99032165e-028, 1.54569605e-031,\n",
       "       1.10405139e-001, 1.46781514e-005, 1.47878726e-008, 1.47943948e-052,\n",
       "       2.59758150e-101, 1.55340469e-072, 1.17069043e-121, 1.97707663e-042,\n",
       "       4.01138264e-055, 3.98993809e-072, 2.51773878e-065, 3.99893943e-130,\n",
       "       6.54399900e-025, 4.08382467e-056, 1.21993403e-007, 3.63668907e-001,\n",
       "       5.36476166e-022, 1.00221112e-061, 4.88169427e-255, 3.70438970e-040,\n",
       "       1.54045858e-021, 5.35676372e-013, 3.18456784e-060, 2.41254577e-160,\n",
       "       5.15807780e-013, 1.35631833e-009, 1.34274159e-074, 1.58521955e-053,\n",
       "       7.77742442e-008, 2.14645675e-022, 9.07816504e-029, 1.63394456e-012,\n",
       "       1.16521114e-003, 5.75354140e-019, 4.01567488e-024, 2.02283305e-042,\n",
       "       1.18283866e-003, 7.69786955e-003, 1.46978018e-141, 4.18486412e-008,\n",
       "       2.06382655e-004, 7.47022226e-143, 5.69722140e-156, 1.25709157e-034,\n",
       "       1.37875062e-006, 1.48452334e-067, 5.63246441e-011, 1.73584231e-015,\n",
       "       5.93622725e-003, 1.82618657e-018, 5.55787534e-001, 3.78256021e-008,\n",
       "       1.33639554e-043, 6.09036619e-056, 1.04853899e-002, 4.92628495e-095,\n",
       "       9.86853676e-009, 4.30623843e-055, 7.97842597e-005, 4.11912719e-012,\n",
       "       1.21919444e-018, 6.96586899e-008, 1.23208196e-045, 9.77823116e-070,\n",
       "       2.12434977e-011, 5.68313374e-066, 3.76258295e-079, 1.37296996e-053,\n",
       "       3.66510652e-004, 3.26773000e-077, 3.07591365e-083, 6.83254059e-097,\n",
       "       1.70072029e-012, 6.68587589e-009, 5.78330169e-035, 1.50804669e-007,\n",
       "       2.88018959e-074, 1.47832863e-051, 4.20790858e-003, 8.38497469e-026,\n",
       "       4.61622914e-039, 5.11094841e-062, 1.74870633e-046, 2.81986732e-001,\n",
       "       2.41619652e-031, 7.84321845e-068, 1.88847624e-254, 7.23867377e-016,\n",
       "       1.09864947e-014, 5.60368155e-001, 5.61309804e-021, 3.21719203e-049,\n",
       "       9.21604951e-058, 7.04709868e-113, 2.01425247e-112, 7.04965849e-020,\n",
       "       1.04789686e-004, 6.74230688e-023, 1.34794214e-011, 1.87158448e-065,\n",
       "       7.32972938e-206, 3.97481128e-012, 3.66970818e-021, 1.31342368e-079,\n",
       "       5.11457115e-018, 4.24525762e-010, 3.90418888e-032, 1.02053571e-075,\n",
       "       1.98595216e-067, 4.66917363e-132, 9.73386515e-011, 1.63730628e-141,\n",
       "       3.80561639e-097, 7.09517816e-025, 2.18259491e-014, 8.13100250e-062,\n",
       "       2.06049155e-007, 3.41934421e-008, 9.27547790e-051, 2.42245677e-007,\n",
       "       4.07303572e-004, 4.55545438e-083, 1.66536698e-006, 1.74527610e-010,\n",
       "       3.25754678e-007, 2.83051140e-045, 1.01971737e-037, 2.38500014e-066,\n",
       "       5.61469381e-043, 3.00823246e-007, 8.09356324e-094, 4.51137219e-055,\n",
       "       1.50023983e-001, 1.37696244e-075, 2.61585551e-030, 1.21866037e-074,\n",
       "       2.11492730e-084, 2.24738184e-032, 1.23543993e-006, 1.14092903e-031,\n",
       "       1.10841426e-057, 6.43103504e-017, 2.19690650e-049, 2.12981938e-001,\n",
       "       3.26042959e-006, 1.93984331e-005, 1.06287391e-061, 4.53218863e-041,\n",
       "       6.43070770e-097, 4.11552873e-014, 1.68841853e-111, 3.14665264e-001,\n",
       "       9.87406324e-024, 5.18775003e-004, 1.89588771e-012, 1.75335113e-060,\n",
       "       9.61644236e-028, 2.96629604e-023, 2.10932050e-023, 1.07695506e-034,\n",
       "       1.26710493e-018, 6.13335141e-002, 5.75098596e-008, 4.63950224e-037,\n",
       "       1.81925388e-013, 8.96674601e-017, 8.90896733e-046, 1.31826968e-031,\n",
       "       3.43508126e-095, 6.69244025e-046, 1.01205493e-014, 1.43604796e-024,\n",
       "       3.93910654e-128, 1.39367812e-057, 3.14010961e-052, 2.49744505e-074,\n",
       "       1.15904037e-097, 1.00178900e-068, 1.67990717e-006, 5.04005209e-003,\n",
       "       1.72077618e-006, 1.85205321e-026, 1.60155919e-009, 3.41520856e-038,\n",
       "       2.82402225e-028, 7.49385266e-046, 5.59776738e-211, 4.97804341e-001,\n",
       "       1.26443373e-013, 6.54674392e-043, 5.76083532e-033, 1.59366412e-008,\n",
       "       4.23068374e-040, 1.59274418e-013, 3.06776217e-014, 9.14945816e-045,\n",
       "       1.66529456e-017, 5.32089715e-051, 3.59849368e-020, 1.51469460e-032,\n",
       "       1.83077937e-078, 2.24532610e-030, 3.28373283e-024, 1.00756721e-018,\n",
       "       2.18328474e-020, 2.76006554e-020, 1.23969092e-031, 5.24876913e-097,\n",
       "       7.35181677e-003, 2.52918282e-007, 1.87524519e-025, 2.11405883e-016,\n",
       "       4.58690882e-005, 6.35855133e-155, 4.63739438e-031, 1.06428170e-007,\n",
       "       1.85570853e-004, 3.82227170e-006, 7.82851779e-021, 8.76311643e-009,\n",
       "       1.17797873e-007, 9.78177468e-005, 1.28595837e-126, 6.72733874e-119,\n",
       "       3.03987082e-028, 5.50430228e-032, 9.96872580e-081, 6.09831008e-021,\n",
       "       2.53608950e-049, 6.05874096e-032, 1.77929357e-056, 3.42826095e-040,\n",
       "       1.49566786e-009, 3.12111865e-028, 4.21513022e-041, 3.78076396e-142,\n",
       "       1.12979704e-047, 4.14266611e-040, 2.18258114e-031, 3.10187544e-001,\n",
       "       1.49571857e-006, 3.68793674e-071, 2.22780583e-150, 1.25296182e-014,\n",
       "       2.02595758e-062, 1.99561284e-091, 1.02637829e-030, 9.00643008e-021,\n",
       "       1.93497352e-030, 1.51753964e-047, 1.12953926e-040, 5.82524155e-056,\n",
       "       6.35395494e-002, 3.79347733e-067, 7.17832427e-046, 1.42432447e-003,\n",
       "       2.53504329e-037, 1.32733758e-022, 2.16330701e-047, 8.13801561e-045,\n",
       "       1.94150673e-042, 6.58695642e-110, 4.89615252e-074, 3.45189302e-026,\n",
       "       1.15602619e-008, 2.95933949e-017, 3.80530099e-032, 2.32639033e-106,\n",
       "       3.24373361e-028, 6.69892708e-155, 2.11122377e-002, 2.99496467e-009,\n",
       "       8.21508049e-002, 6.15480276e-034, 9.09759552e-054, 3.60031020e-151,\n",
       "       1.70389548e-028, 2.06967185e-004, 3.18646687e-093, 5.37780197e-088,\n",
       "       1.17526498e-052, 1.12675645e-020, 2.03596454e-001, 2.45115146e-016,\n",
       "       9.47814956e-004, 2.67131055e-008, 4.39930078e-067, 8.73886843e-078,\n",
       "       1.68888045e-027, 5.24924056e-023, 2.68273578e-043, 1.73093421e-021,\n",
       "       1.46752266e-022, 9.57770136e-057, 4.84960555e-029, 3.89846350e-038,\n",
       "       2.23235127e-031, 2.45026710e-002, 1.37187199e-026, 2.22305557e-019,\n",
       "       7.48391365e-037, 2.06786372e-069, 7.34610758e-038, 2.04521719e-020,\n",
       "       1.26410151e-019, 1.96397999e-006, 5.86393921e-047, 9.46871279e-194,\n",
       "       2.19311846e-034, 6.84986666e-023, 2.23443419e-058, 1.55537348e-083,\n",
       "       3.46870331e-008, 4.74273586e-009, 1.43552104e-166, 1.66533032e-032,\n",
       "       2.98540651e-020, 1.30693715e-016, 3.95415131e-063, 6.38479387e-031,\n",
       "       2.74800560e-030, 2.89522340e-018, 2.06910738e-013, 1.71566663e-023,\n",
       "       1.47871675e-004, 2.10354212e-016, 1.27514141e-026, 4.17249313e-063,\n",
       "       5.78711801e-066, 1.35176736e-005, 1.57911417e-018, 1.63543081e-062,\n",
       "       5.04916293e-045, 3.33605663e-058, 7.82060379e-023, 1.22621931e-025,\n",
       "       3.94839752e-017, 2.38904511e-076, 1.21135264e-039, 3.50988462e-101,\n",
       "       4.20416170e-054, 2.75680831e-116, 7.55276686e-149, 3.71925152e-151,\n",
       "       5.38790618e-056, 8.96162451e-014, 6.99828681e-021, 1.19640506e-002,\n",
       "       6.22629032e-064, 5.87158362e-026, 2.18377015e-321, 8.74626789e-022,\n",
       "       2.34427181e-024, 9.08386494e-045, 1.91028199e-054, 6.51339018e-002,\n",
       "       1.47860816e-016, 1.78326884e-018, 1.78709259e-027, 9.56281546e-049,\n",
       "       1.23816584e-150, 6.25256578e-035, 9.65146029e-023, 1.29787425e-188,\n",
       "       2.91194053e-011, 2.09493503e-087, 7.46761193e-078, 1.37554298e-068,\n",
       "       8.05747314e-003, 8.91773259e-010, 6.42262598e-023, 8.83733394e-061,\n",
       "       7.70821972e-061, 2.17031171e-012, 1.14658723e-109, 2.20564461e-011,\n",
       "       6.76061316e-038, 4.91236055e-073, 1.37453798e-068, 3.58535923e-073,\n",
       "       1.62691333e-175, 1.60297906e-078, 1.15038927e-001, 1.46533385e-003,\n",
       "       7.03005114e-008, 2.84753559e-044, 6.11813340e-023, 1.32669839e-002,\n",
       "       2.51621351e-041, 1.26811523e-147, 3.36273436e-001, 1.06704835e-018,\n",
       "       1.99199826e-053, 1.61915985e-093, 4.15078199e-019, 5.64894427e-026,\n",
       "       2.38519389e-003, 2.20977236e-006, 7.39257060e-177, 5.63269592e-036,\n",
       "       1.81013671e-072, 1.90459689e-054, 2.80777712e-043, 4.71145752e-006,\n",
       "       4.63874146e-005, 3.27044751e-038, 1.64113943e-039, 1.29901154e-004,\n",
       "       1.64015661e-027, 8.41099628e-121, 5.03370910e-087, 7.46615367e-016,\n",
       "       4.53764790e-003, 1.52955273e-019, 1.59289386e-011, 2.06765885e-021,\n",
       "       1.72413463e-068, 1.83684788e-098, 7.99904728e-028, 1.71140403e-012,\n",
       "       4.46077876e-066, 2.13781476e-075, 1.17968628e-028, 3.02978902e-064,\n",
       "       1.64771753e-240, 5.10798843e-049, 1.36301945e-008, 1.32481108e-018,\n",
       "       3.60375308e-036, 4.62125164e-046, 9.33412461e-024, 8.85911887e-016,\n",
       "       3.22395809e-006, 3.09534088e-004, 1.50612901e-050, 4.36380629e-006,\n",
       "       3.58120980e-065, 5.03876385e-004, 2.18119844e-009, 4.33086681e-055,\n",
       "       2.15882266e-008, 3.65086165e-005, 1.76802259e-049, 2.24498919e-023,\n",
       "       6.38145727e-041, 6.72727354e-019, 3.30026858e-056, 1.51759298e-038,\n",
       "       5.00613548e-177, 6.27080270e-011, 5.35857574e-009, 1.45308944e-008,\n",
       "       1.69339870e-006, 6.08702174e-003, 6.49184823e-052, 1.02041999e-103,\n",
       "       3.55155897e-001, 9.79880478e-124, 3.01620501e-072, 2.30124782e-136,\n",
       "       1.13242636e-069, 8.99338912e-033, 2.19403317e-004, 8.30848641e-008,\n",
       "       8.97178821e-023, 2.25312693e-030, 1.27996819e-067, 7.36875244e-040,\n",
       "       3.02806659e-011, 1.20616735e-134, 1.37254359e-298, 2.17638208e-009,\n",
       "       2.94414096e-025, 5.67890218e-012, 2.03029977e-020, 3.63534213e-001,\n",
       "       1.57136096e-079, 6.31745582e-014, 3.89798129e-249, 1.17620539e-020,\n",
       "       2.71767839e-097, 1.26583851e-009, 6.08866559e-002, 1.93318755e-006,\n",
       "       1.09376092e-026, 1.75532396e-047, 2.28335748e-008, 4.82768949e-032,\n",
       "       8.51232054e-015, 2.43816290e-043, 8.44507594e-024, 1.66217177e-012,\n",
       "       3.40412751e-026, 1.16134048e-053, 8.49819051e-118, 1.20383871e-024,\n",
       "       3.72266432e-027, 1.23460746e-043, 4.55909823e-069, 5.77695002e-064,\n",
       "       4.29365710e-037, 2.46849729e-270, 2.39363134e-024, 1.03398137e-019,\n",
       "       3.32625864e-023, 5.29966634e-013, 1.50499798e-096, 4.20096601e-013,\n",
       "       3.41369100e-006, 8.77681012e-016, 3.39644703e-074, 1.11167324e-121,\n",
       "       1.89814923e-098, 7.50228839e-124, 3.52500895e-148, 6.13025783e-021,\n",
       "       2.92259949e-021, 4.53110926e-012, 6.68470732e-052, 3.66211884e-049,\n",
       "       6.47896011e-022, 2.17841047e-040, 2.41891024e-017, 4.70394233e-017,\n",
       "       1.05326757e-061, 9.27817958e-009, 3.03900958e-036, 2.98104870e-034,\n",
       "       1.97190397e-110, 5.58037016e-155, 3.91485995e-006, 1.23562917e-163,\n",
       "       7.16122079e-005, 8.12116657e-005, 4.01776819e-085, 1.26439755e-063,\n",
       "       3.13346641e-288, 5.80516782e-008, 1.55246767e-034, 1.61397192e-060,\n",
       "       6.18831011e-002, 3.42154102e-031, 5.62982901e-009, 2.17515941e-001,\n",
       "       1.82346748e-225, 3.86585639e-049, 4.08425655e-005, 6.29056865e-142,\n",
       "       1.24162211e-013, 1.83496522e-116, 3.67516902e-017, 8.97806781e-032,\n",
       "       5.04393424e-007, 9.32136629e-023, 4.97845227e-018, 6.56508287e-010,\n",
       "       8.50685331e-039, 1.98876249e-061, 5.56767890e-027, 6.34768614e-016,\n",
       "       2.06584493e-072, 1.63556012e-039, 1.81233104e-102, 2.12801547e-092,\n",
       "       1.93462033e-007, 1.07336518e-081, 2.30720403e-015, 6.17901819e-005,\n",
       "       7.40297631e-022, 1.86587284e-032, 5.75365648e-012, 6.64918775e-098,\n",
       "       1.79069895e-025, 4.56777717e-032, 3.17806474e-026, 3.59802445e-090,\n",
       "       6.43459701e-001, 1.91727446e-025, 3.63041351e-034, 1.89485326e-090,\n",
       "       7.63991617e-056, 4.70305594e-025, 2.71929384e-059, 8.04057251e-078,\n",
       "       8.82592998e-035, 5.64975034e-036, 2.45084918e-012, 7.93744656e-008,\n",
       "       1.71892035e-069, 1.78782255e-032, 3.46252663e-024, 8.37808060e-021,\n",
       "       6.62771925e-041, 3.42847238e-021, 8.10874202e-026, 3.08570434e-028,\n",
       "       1.07788626e-004, 1.26604475e-063, 1.82472040e-090, 9.89293349e-021,\n",
       "       9.36830365e-202, 1.64467509e-048, 9.20076067e-056, 1.01480747e-013,\n",
       "       4.01496036e-002, 2.00494980e-004, 3.69749881e-006, 9.37828534e-005,\n",
       "       1.87876099e-013, 1.04959067e-041, 1.03426373e-097, 2.68355798e-063,\n",
       "       4.84683236e-020, 7.86126282e-020, 8.21861215e-023, 1.96777875e-001,\n",
       "       1.87998146e-192, 8.55892329e-011, 4.87057584e-111, 1.21998160e-025,\n",
       "       2.06427399e-024, 8.57110136e-020, 1.56427261e-027, 1.92153216e-025,\n",
       "       4.37856752e-120, 1.66939734e-052, 7.76147424e-138, 1.00342104e-018,\n",
       "       1.56754944e-015, 1.31255092e-056, 1.19107050e-021, 8.09058293e-017,\n",
       "       2.72846596e-002, 3.56280556e-008, 2.66108800e-028, 6.38873977e-065,\n",
       "       1.16973085e-080, 3.84276270e-012, 1.37528738e-004, 9.91690669e-190,\n",
       "       2.21616268e-002, 1.49873497e-006, 3.68943382e-025, 6.40646109e-006,\n",
       "       1.05859258e-025, 1.39236195e-132, 3.09682508e-043, 1.56739340e-037,\n",
       "       2.19713916e-186, 1.90000331e-055, 8.72051302e-100, 2.50223733e-056,\n",
       "       5.43125227e-024, 5.84180471e-106, 8.75963911e-063, 3.41876875e-042,\n",
       "       2.23462156e-026, 1.79096404e-029, 6.06422459e-009, 1.38788433e-002,\n",
       "       4.33254543e-002, 7.16143629e-004, 6.30726443e-040, 4.69570313e-020,\n",
       "       2.86240842e-042, 3.58145495e-115, 6.77191878e-042, 4.72151187e-066,\n",
       "       2.23600549e-034, 1.84898310e-002, 3.39906571e-029, 1.98563035e-002,\n",
       "       1.44415697e-103, 1.08030866e-014, 4.12470577e-036, 1.99322937e-070,\n",
       "       1.76929063e-039, 7.11652981e-031, 4.68539732e-007, 1.49300040e-006,\n",
       "       3.74446920e-024, 8.74793744e-011, 3.00334739e-081, 1.38556571e-075,\n",
       "       2.94819845e-076, 1.50444959e-065, 6.27979718e-019, 6.26944062e-005,\n",
       "       2.47479283e-024, 2.16119137e-006, 2.19830767e-035, 1.03599240e-005,\n",
       "       9.31700680e-021, 7.86869920e-019, 8.86076489e-020, 2.65284962e-084,\n",
       "       1.01578439e-003, 7.19966568e-008, 3.36649177e-110, 5.38216542e-050,\n",
       "       1.26476636e-005, 2.83693489e-021, 1.48715806e-005, 1.85828302e-026,\n",
       "       1.39375932e-005, 2.15558652e-117, 9.20268767e-017, 3.03332800e-054,\n",
       "       4.84702983e-035, 4.72361848e-103, 4.40800773e-052, 7.67418973e-031,\n",
       "       5.03317931e-055, 1.70132559e-011, 2.73490575e-027, 2.56688019e-001,\n",
       "       1.44590873e-064, 2.82827044e-264, 2.84720830e-001, 4.04160687e-045,\n",
       "       1.22773091e-048, 1.35877774e-144, 2.88773594e-044, 5.34298155e-012,\n",
       "       1.71220762e-023, 5.86522371e-027, 6.91204874e-009, 4.48555812e-091,\n",
       "       2.11255752e-025, 4.26892341e-011, 4.95330207e-044, 1.20628510e-069,\n",
       "       1.24058643e-012, 2.96705472e-075, 2.40716190e-002, 2.19200994e-202,\n",
       "       8.60743393e-003, 9.04816377e-155, 1.05117430e-042, 8.07494724e-070,\n",
       "       1.90069004e-050, 7.17624532e-002, 2.15121432e-130, 4.37196667e-005,\n",
       "       3.79466124e-005, 1.77213502e-038, 5.04495674e-020, 5.14857829e-001,\n",
       "       5.23890472e-266, 1.18991668e-049, 2.38932619e-012, 1.48916020e-156,\n",
       "       1.14739523e-051, 8.72872033e-020, 3.78182667e-008, 1.17112068e-012,\n",
       "       2.53213250e-064, 1.11067424e-115, 2.40202991e-076, 2.29126512e-022,\n",
       "       4.77398477e-010, 7.11229852e-026, 3.26803885e-032, 2.43111091e-029,\n",
       "       2.02009575e-012, 7.85764131e-024, 2.59498767e-071, 1.58385766e-113,\n",
       "       1.72368951e-011, 3.56325349e-039, 2.29998624e-008, 1.57503131e-005,\n",
       "       6.04409110e-004, 5.61801342e-033, 4.77534902e-019, 3.60417090e-024,\n",
       "       1.45749355e-032, 5.67248443e-011, 1.81782630e-042, 1.98599525e-152,\n",
       "       6.93213708e-022, 5.50999616e-239, 1.46553923e-062, 4.51550457e-003,\n",
       "       3.77046265e-025, 3.76197566e-021, 1.08787071e-004, 1.03878482e-020,\n",
       "       3.34776962e-006, 1.15464000e-024, 1.11470446e-067, 5.87717718e-009,\n",
       "       9.58905078e-029, 3.74687940e-162, 1.55124184e-070, 7.73248328e-001,\n",
       "       5.20862295e-087, 3.00836820e-014, 3.45867234e-010, 1.84215237e-021,\n",
       "       2.48671811e-096, 7.54828864e-047, 1.29253717e-108, 2.16210260e-019,\n",
       "       7.87385895e-114, 3.03699193e-029, 1.50593009e-034, 4.02965657e-132,\n",
       "       1.20297095e-159, 2.77503173e-003, 2.42702176e-048, 6.73220712e-066,\n",
       "       4.53716713e-044, 3.94786871e-104, 6.28388685e-062, 7.35917395e-025,\n",
       "       1.89607642e-038, 2.15109525e-081, 7.20415301e-062, 9.71074057e-094,\n",
       "       1.27715601e-041, 2.06569041e-048, 4.23402269e-003, 1.30636731e-007,\n",
       "       1.82456355e-002, 3.12134312e-013, 6.04357864e-111, 1.15672341e-018])"
      ]
     },
     "execution_count": 38,
     "metadata": {},
     "output_type": "execute_result"
    }
   ],
   "source": [
    "norm.pdf((X[1] - kern)/h)\n",
    "X"
   ]
  },
  {
   "cell_type": "code",
   "execution_count": null,
   "metadata": {},
   "outputs": [],
   "source": []
  }
 ],
 "metadata": {
  "kernelspec": {
   "display_name": "Python 3",
   "language": "python",
   "name": "python3"
  },
  "language_info": {
   "codemirror_mode": {
    "name": "ipython",
    "version": 3
   },
   "file_extension": ".py",
   "mimetype": "text/x-python",
   "name": "python",
   "nbconvert_exporter": "python",
   "pygments_lexer": "ipython3",
   "version": "3.7.6"
  },
  "toc": {
   "base_numbering": 1,
   "nav_menu": {},
   "number_sections": true,
   "sideBar": true,
   "skip_h1_title": false,
   "title_cell": "Table of Contents",
   "title_sidebar": "Contents",
   "toc_cell": false,
   "toc_position": {},
   "toc_section_display": true,
   "toc_window_display": false
  },
  "varInspector": {
   "cols": {
    "lenName": 16,
    "lenType": 16,
    "lenVar": 40
   },
   "kernels_config": {
    "python": {
     "delete_cmd_postfix": "",
     "delete_cmd_prefix": "del ",
     "library": "var_list.py",
     "varRefreshCmd": "print(var_dic_list())"
    },
    "r": {
     "delete_cmd_postfix": ") ",
     "delete_cmd_prefix": "rm(",
     "library": "var_list.r",
     "varRefreshCmd": "cat(var_dic_list()) "
    }
   },
   "types_to_exclude": [
    "module",
    "function",
    "builtin_function_or_method",
    "instance",
    "_Feature"
   ],
   "window_display": false
  }
 },
 "nbformat": 4,
 "nbformat_minor": 4
}
