{
 "cells": [
  {
   "cell_type": "markdown",
   "metadata": {},
   "source": [
    "# Probabilidad y Estadística para Inteligencia Artificial\n",
    "\n",
    "## Examen Final\n",
    "\n",
    "## Referencias\n",
    "\n",
    "- [Cheatsheet de Latex](https://www.caam.rice.edu/~heinken/latex/symbols.pdf)\n",
    "\n",
    "## Comentarios sobre el estado del documento\n",
    "\n"
   ]
  },
  {
   "cell_type": "markdown",
   "metadata": {},
   "source": [
    "## Importar librerías"
   ]
  },
  {
   "cell_type": "code",
   "execution_count": 4,
   "metadata": {},
   "outputs": [],
   "source": [
    "import numpy as np\n",
    "import matplotlib.pyplot as plt\n",
    "import os\n",
    "\n",
    "import seaborn as sns\n",
    "import itertools\n",
    "\n",
    "import scipy.stats as stats\n",
    "np.random.seed(42)\n",
    "\n",
    "%matplotlib inline"
   ]
  },
  {
   "cell_type": "markdown",
   "metadata": {},
   "source": [
    "## Enunciados de los Problemas\n",
    "\n",
    "### Ejercicio 1.\n",
    "Una máquina que produce fósforos tiene una proporción de defecto aleatoria de 1%. \n",
    "(a) Encontrar la máxima cantidad de fósforos, N, que se pueden ensamblar en una misma caja de manera tal que la probabilidad de tener uno o más fósforos defectuosos sea menor a 0,5. \n",
    "(b) Encontrar el valor esperado y el desv ́ıo estándar de la cantidad de fósforos defectuosos para el N calculado en el punto (a). \n",
    "(c) Simular el experimento y verificar los resultados obtenidos en los puntos (a) y (b). Comparar con los resultados teóricos esperados. \n",
    "\n",
    "#### Resolución\n",
    "\n",
    "p = 0.01\n",
    "\n",
    "Asumo que la producción de cáda fósforo tiene una probabilidad estimada $\\hat p$ y cada fósforo se tendrá una distribución iid.\n",
    "\n",
    "Consecuentemente, el proceso industrial estará caracterizado por una binomial de parámetros $\\hat p$ = 0.01 de fallar. La distribución binomial tiene la siguiente forma:\n",
    "\n",
    "${\\displaystyle f(k,n,\\hat p)=\\Pr(k;n,\\hat p)=\\Pr(X=k)={\\binom {n}{k}}\\hat p^{k}(1-\\hat p)^{n-k}}$\n",
    "\n",
    "Por otro lado, teniendo en cuenta que con n >>> 0, la binomial tiende a una normal y según el TCL, puedo asumir que la distribución se comportará como una normal de parámetros $\\mu = np$, $\\sigma = \\sqrt{\\frac{\\hat p.(1-\\hat p)}{n}}$. Esto podría simplificar las cuentas para hallar el N y evitará que tengamos que acudir a un método numérico. Sin embargo, como el valor de N no será >>> 0, no optaremos por la resolución a través del TCL. Por ello, recurrimos a un método iterativo para hallar el N que satisface la condición propuesta por a.\n",
    "\n",
    "a) \n",
    "\n",
    "El ejericio pide que la cantidad de fósforos por caja sea la correspondiente para que la probabilidad de que haya fósforos defectuosos sea del 50%. Lo que es lo mismo, que haya una probabilidad de 0.5 de que no haya fósforos defectuosos. Para hallar N, debo encontrar la binomial cuya pmf evaluada en 0 arrojará un 50% de probabilidad.\n",
    "\n",
    "${\\displaystyle f(k,n,\\hat p)=\\Pr(0;n,0.01)=\\Pr(X=0)={\\binom {n}{0}}0.01^{0}(1-0.01)^{n}} = 0.5 $\n",
    "\n",
    "Resolviendo la ecuación, arroja:\n",
    "\n",
    "$n = ln(99)/ln(0.5) = 68.9 => n = 68 $\n",
    "\n",
    "Confirmamos el resultado utilizando la binomial de parámetros n = 68 y p = 0.01. \n",
    "\n",
    "b)\n",
    "La media será la media y desvío característicos de la binomial serán:\n",
    "$\\mu = n.p = 68 . 0.01 = 0.68; \\sigma =  \\sqrt{\\frac{p.(1-p)}{n}} =  \\sqrt{0.01.(0.99)*68} = 0.82  $\n",
    "\n",
    "c) Las simulaciones arrojan resultados consistentes (VER ABAJO)"
   ]
  },
  {
   "cell_type": "code",
   "execution_count": 5,
   "metadata": {},
   "outputs": [
    {
     "name": "stdout",
     "output_type": "stream",
     "text": [
      "A. La cantidad de fósforos n será de 69.0\n",
      "La probabilidad de que haya 1 o más fósforos será de 0.495\n",
      "\n",
      "\n",
      "B. El desvío estándar será de:0.82 \n",
      "\n",
      "\n",
      "C. RESULTADO SIMULACIÓN \n",
      " La simulación del experimento arroja una probabilidad de 0.4955 de que haya más de 1 fósforo con fallas\n",
      " La media de la cantidad de fallas es 0.680125 y la desviación estandar es de 0.82 \n"
     ]
    }
   ],
   "source": [
    "print(f'A. La cantidad de fósforos n será de {np.log(0.5)/np.log(0.99):.3}')\n",
    "\n",
    "bino = stats.binom(68, 0.01)\n",
    "\n",
    "print(f'La probabilidad de que haya 1 o más fósforos será de {1 - bino.pmf(0):.3}\\n\\n')\n",
    "\n",
    "print(f'B. El desvío estándar será de:{(0.01*0.99*68)**0.5:.3} \\n\\n')\n",
    "\n",
    "##################################\n",
    "######### SIMULACIÓN #############\n",
    "##################################\n",
    "\n",
    "N_EXPERIMENTS = 10000\n",
    "N_matchboxes = 100\n",
    "prob_array = []\n",
    "media_fallas = []\n",
    "for i in range(N_EXPERIMENTS):\n",
    "    fail_matches_in_box = np.random.random([N_matchboxes, 68]) <= 0.01\n",
    "    amount_fails = np.sum(fail_matches_in_box, axis=1)\n",
    "    sum_boxes_w_fail = np.sum(amount_fails > 0)\n",
    "    prob = sum_boxes_w_fail / N_matchboxes\n",
    "    media_fallas.append(amount_fails)\n",
    "    prob_array.append(prob)\n",
    "\n",
    "print(f'C. RESULTADO SIMULACIÓN \\n La simulación del experimento arroja una probabilidad de {np.mean(prob_array):.4} de que haya más de 1 fósforo con fallas\\n \\\n",
    "La media de la cantidad de fallas es {np.mean(media_fallas)} y la desviación estandar es de {np.var(media_fallas)**0.5:.2} ')\n"
   ]
  },
  {
   "cell_type": "markdown",
   "metadata": {},
   "source": [
    "### Ejercicio 2. \n",
    "Sea X una variable aleatoria con función de densidad de probabilidad (pdf) fX(x) = kx, si 0 ≤ x ≤ 3, \n",
    "y fX(x) = 0 si no. \n",
    "(a) Encontrar el valor de k. \n",
    "(b) Encontrar x1 tal que P(X ≤ x1)=0,1. \n",
    "(c) Simular la variable aleatoria X usando el método de la transformada inversa. \n",
    "(d) A partir de la variable X generada, estimar – mediante simulaciones – la pdf de X usando método de densidad de kernel con función de kernel Gaussiana. \n",
    "\n",
    "#### Resolución\n",
    "a)\n",
    "Toda función de densidad de probabilidad debe integrar 1 de -inf a +inf. Utilizamos esta propiedad para determinar k.\n",
    "\n",
    "$\\int_{-\\infty}^\\infty f(x) dx = \\int_{0}^3 k.x dx = \\frac{k.x^2}/2 |^3_0 = \\frac{k.3^2}/2 = 1 $\n",
    "\n",
    "Resolviendo la ecuación, k queda igual a 2/9.\n",
    "\n",
    "$f(x) = 2x/9 $ para todo x en 0-3.\n",
    "\n",
    "b) \n",
    "Para hallar x1 tal que P(X <= x1 ) = 0,1, debo encotnrar la $F^{-1}(X)$. \n",
    "\n",
    "Para ello, primero calculo la función de distribución:\n",
    "\n",
    "\n",
    "$F(X = x) = \\int_{-\\infty}^\\infty f(x) dx = \\int_{0}^x 2.x/9 dx = \\frac{2.x^2}{9} |^x_0 = \\frac{x^2}{9}$\n",
    "\n",
    "La función $F^{-1}(X)$ estará dada entonces por:\n",
    "\n",
    "De -inf a 0, $F^-1(X < 0) = 0$, de 0 a 3 quedará  $F^-1(X = x) = \\sqrt{9.F(X = x)} $ y $F^-1(X > 3) = 1$.\n",
    "\n",
    "Consecuentemente, reemplazando en la expresión, P(X ≤ x1)=0,1 estará dada por x1 = 0.949.\n",
    "\n",
    "c) Simulo la V.A. con el método de la transformada inversa. \n",
    "\n",
    "VER ABAJO\n"
   ]
  },
  {
   "cell_type": "code",
   "execution_count": 6,
   "metadata": {},
   "outputs": [
    {
     "data": {
      "image/png": "[encoded data removed]",
      "text/plain": [
       "<Figure size 432x288 with 1 Axes>"
      ]
     },
     "metadata": {
      "needs_background": "light"
     },
     "output_type": "display_data"
    },
    {
     "data": {
      "image/png": "[encoded data removed]",
      "text/plain": [
       "<Figure size 432x288 with 1 Axes>"
      ]
     },
     "metadata": {
      "needs_background": "light"
     },
     "output_type": "display_data"
    }
   ],
   "source": [
    "# C.\n",
    "\n",
    "##################################\n",
    "######### SIMULACIÓN #############\n",
    "##################################\n",
    "\n",
    "SIZE = 10000\n",
    "U = np.random.random(SIZE)\n",
    "\n",
    "X = (9 * U)**0.5\n",
    "\n",
    "sns.distplot(X)\n",
    "plt.show()\n",
    "\n",
    "# Estimación de Kernel GAUSIANA!\n",
    "M = 1000\n",
    "h = 0.25\n",
    "n = 1000\n",
    "x_mean = 0\n",
    "\n",
    "x_min = 0\n",
    "x_max = 4\n",
    "\n",
    "kern = np.linspace(x_min, x_max, M + 1)\n",
    "\n",
    "K_fin = np.zeros(shape = kern.shape)\n",
    "\n",
    "for i in range(n):\n",
    "    K = stats.norm(loc=X[i], scale=h).pdf((kern))\n",
    "    K_fin = K_fin + K\n",
    "K_fin = K_fin/(n)\n",
    "\n",
    "plt.plot(kern, K_fin)\n",
    "plt.plot(kern[:800], 2 * kern[:800] /9)\n",
    "plt.show()"
   ]
  },
  {
   "cell_type": "markdown",
   "metadata": {},
   "source": [
    "\n",
    "### Ejercicio 3.\n",
    "Sea X1,X2,...,X10 una muestra aleatoria de una población con distribución normal con media μ y desvıo estándar 4. Sea $\\hat X$ la media muestral. Se mide $\\hat X$ = 48. Se tiene la hipótesis nula H0 : μ = 45, y la hipótesis alternativa H1 : μ = 45. \n",
    "(a) Encontrar un intervalo de confianza del 95% de μ. \n",
    "(b) Justificar si hay suficiente evidencia para rechazar la hipótesis nula con un 5% de significancia. \n",
    "(c) Simular el experimento y verificar los resultados obtenidos en los puntos (a) y (b). \n",
    "\n",
    "#### Resolución\n",
    "\n",
    "$\\mu = \\mu ; \\hat X = 48$ \n",
    "\n",
    "$\\sigma = 4 $ $D(\\hat X) = \\frac{\\sigma}{\\sqrt n} = 1.265$\n",
    "\n",
    "$ N = 10 $\n",
    "\n",
    "H0: $\\mu = 45 $\n",
    "\n",
    "H1: $\\mu \\neq 45 $\n",
    "\n",
    "**a.** Para encontrar un intervalo de confianza, del 95% de $\\mu$ debo utilizar la expresión: \n",
    "\n",
    "$ 0.95 = P(\\mu_1 < \\hat X < \\mu_2)  $\n",
    "\n",
    "Para hallar los mu que acotarán el intervalo de confianza, normailizo la experesión anterior.\n",
    "\n",
    "$ P(\\mu_1 < \\hat X < \\mu_2) =  P(Z_{\\alpha/2} < \\frac{(\\hat x - \\mu)*\\sqrt n}{\\sigma} < Z_{1 - \\alpha/2}) =\n",
    "P( \\hat x + \\frac{Z_{\\alpha/2}*\\sigma}{\\sqrt n} < \\mu < \\hat x + \\frac{Z_{1 - \\alpha/2}*\\sigma}{\\sqrt n}) $\n",
    "\n",
    "Reemplazando:\n",
    "\n",
    "$P( \\hat x + \\frac{Z_{\\alpha/2}*\\sigma}{\\sqrt n} < \\mu < \\hat x + \\frac{Z_{1 - \\alpha/2}*\\sigma}{\\sqrt n}) = 48 - 1.96 * 1.265 < \\mu < 48 + 1.96 * 1.265 => 48 - 1.96 * 1.265 < \\mu < 48 + 1.96 * 1.265 => 45.5 < \\mu < 50.5  $\n",
    "\n",
    "El intervalo de confianza del 95% es de 45.5 < $\\mu$ < 50.5 .\n",
    "\n",
    "**b.** Para evaluar si es razonable rechazar la hipótesis nula, se supone que la H0 es cierta y se analiza si la media muestral hallada se encuentra por fuera del 95% de significancia. De ser así, permitiría suponer que hay información suficiente para rechazar la H0.\n",
    "\n",
    "Condición de rechazo será $\\hat X > X_{critico}$\n",
    "\n",
    "Para encontrar el valor de $X_{crítico} =  \\hat X + \\frac{Z_{95\\%}*\\sigma}{\\sqrt n} = 47.1 $\n",
    "\n",
    "Dado que 47.1 < 48, se deduce que hay un nivel de significancia mayor al 95% y consiguientemente, hay información suficiente para rechazar la hipótesis nula. Se cumple con la condición de $\\hat X > X_{critico}$ y podemos afirmar que la media será distinta a 45 con más de un 95% de certeza.\n",
    "\n",
    "**c.** SIMULACIÓN, VER ABAJO\n",
    "\n"
   ]
  },
  {
   "cell_type": "code",
   "execution_count": 17,
   "metadata": {},
   "outputs": [
    {
     "name": "stdout",
     "output_type": "stream",
     "text": [
      "El mu_0.025 es de: 45.5 y el mu_0.975 es de: 50.5\n",
      "Valor de mu_95%: 47.1\n",
      "\n",
      "\n",
      " ##### SIMULACIÓN ####### \n",
      "\n",
      "La proporción de muestras dentro del intervalo de confianza \n",
      "del 95% encontrado son: 0.95. \n",
      "Dado que el valor es muy cercano a 95%, podemos afirmar que la \n",
      "simulación y los resultados analíticos son congruentes.\n",
      "\n",
      "El nivel de significancia simulado tomando mu = 45 y \n",
      "teniendo una media muestral de 48 es de: 0.0088  \n",
      "Se puede concluir que el nivel de significancia es suficiente \n",
      "para rechazar la hipótesis nula.\n"
     ]
    }
   ],
   "source": [
    "print(f'El mu_0.025 es de: {stats.norm.interval(.95)[0] * 4/10**0.5 +48:.3} y el mu_0.975 es de: {stats.norm.interval(.95)[1] * 4/ 10**0.5 +48:.3}')\n",
    "print(f'Valor de mu_95%: {stats.norm.interval(.90)[1] *4/ 10**0.5 + 45:.3}')\n",
    "\n",
    "##################################\n",
    "######### SIMULACIÓN #############\n",
    "##################################\n",
    "\n",
    "X_1 = stats.norm.interval(.95)[0] * 4/10**0.5 +48\n",
    "X_2 = stats.norm.interval(.95)[1] * 4/10**0.5 +48\n",
    "\n",
    "proporcion_dentro_intervalo = []\n",
    "proporcion_mayor_48 = []\n",
    "for i in range(N_EXPERIMENTS):\n",
    "    muestras = np.random.normal(48, 4/10**0.5, size=10)\n",
    "    mask_95 = np.logical_and((X_1 < muestras), (muestras < X_2))\n",
    "    proporcion_dentro_intervalo.append(np.sum(mask_95) / len(mask_95))\n",
    "       \n",
    "    muestras = np.random.normal(45, 4/10**0.5, size=10)\n",
    "    mask_mayor_48 = (muestras > 48)\n",
    "    proporcion_mayor_48.append(np.sum(mask_mayor_48) / len(mask_mayor_48))\n",
    "\n",
    "print('\\n\\n ##### SIMULACIÓN ####### \\n')\n",
    "    \n",
    "print(f'La proporción de muestras dentro del intervalo de confianza \\n\\\n",
    "del 95% encontrado son: {np.mean(proporcion_dentro_intervalo):.3}. \\n\\\n",
    "Dado que el valor es muy cercano a 95%, podemos afirmar que la \\n\\\n",
    "simulación y los resultados analíticos son congruentes.\\n')\n",
    "\n",
    "print(f'El nivel de significancia simulado tomando mu = 45 y \\n\\\n",
    "teniendo una media muestral de 48 es de: {np.mean(proporcion_mayor_48):.3}  \\n\\\n",
    "Se puede concluir que el nivel de significancia es suficiente \\n\\\n",
    "para rechazar la hipótesis nula.')"
   ]
  },
  {
   "cell_type": "code",
   "execution_count": null,
   "metadata": {},
   "outputs": [],
   "source": [
    "X_2"
   ]
  },
  {
   "cell_type": "code",
   "execution_count": null,
   "metadata": {},
   "outputs": [],
   "source": []
  },
  {
   "cell_type": "code",
   "execution_count": null,
   "metadata": {},
   "outputs": [],
   "source": []
  }
 ],
 "metadata": {
  "kernelspec": {
   "display_name": "Python 3",
   "language": "python",
   "name": "python3"
  },
  "language_info": {
   "codemirror_mode": {
    "name": "ipython",
    "version": 3
   },
   "file_extension": ".py",
   "mimetype": "text/x-python",
   "name": "python",
   "nbconvert_exporter": "python",
   "pygments_lexer": "ipython3",
   "version": "3.7.6"
  },
  "toc": {
   "base_numbering": 1,
   "nav_menu": {},
   "number_sections": true,
   "sideBar": true,
   "skip_h1_title": false,
   "title_cell": "Table of Contents",
   "title_sidebar": "Contents",
   "toc_cell": false,
   "toc_position": {},
   "toc_section_display": true,
   "toc_window_display": false
  },
  "varInspector": {
   "cols": {
    "lenName": 16,
    "lenType": 16,
    "lenVar": 40
   },
   "kernels_config": {
    "python": {
     "delete_cmd_postfix": "",
     "delete_cmd_prefix": "del ",
     "library": "var_list.py",
     "varRefreshCmd": "print(var_dic_list())"
    },
    "r": {
     "delete_cmd_postfix": ") ",
     "delete_cmd_prefix": "rm(",
     "library": "var_list.r",
     "varRefreshCmd": "cat(var_dic_list()) "
    }
   },
   "types_to_exclude": [
    "module",
    "function",
    "builtin_function_or_method",
    "instance",
    "_Feature"
   ],
   "window_display": false
  }
 },
 "nbformat": 4,
 "nbformat_minor": 4
}
