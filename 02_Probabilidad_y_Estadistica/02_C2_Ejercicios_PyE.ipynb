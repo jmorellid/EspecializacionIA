{
 "cells": [
  {
   "cell_type": "markdown",
   "metadata": {},
   "source": [
    "# Probabilidad y Estadística\n",
    "\n",
    "## CLASE 2: Ejercicios\n",
    "\n",
    "## Referencias\n",
    "\n",
    "- [Cheatsheet de Latex](https://www.caam.rice.edu/~heinken/latex/symbols.pdf)\n",
    "- [DRIVE](https://drive.google.com/drive/folders/1TDRvlwfSgLI39gHXgVhWlSaRJ-aTSaDE?usp=sharing)\n",
    "\n",
    "## Comentarios sobre el estado del documento\n",
    "\n"
   ]
  },
  {
   "cell_type": "markdown",
   "metadata": {},
   "source": [
    "## Importar librerías"
   ]
  },
  {
   "cell_type": "code",
   "execution_count": 2,
   "metadata": {},
   "outputs": [],
   "source": [
    "import numpy as np\n",
    "import matplotlib.pyplot as plt\n",
    "import os\n",
    "\n",
    "\n",
    "from mpl_toolkits import mplot3d\n",
    "from matplotlib import cm\n",
    "from matplotlib_venn import venn2\n",
    "import math\n",
    "import numpy.random as random\n",
    "import scipy.stats as stats\n",
    "random.seed(42)\n",
    "\n",
    "%matplotlib inline\n",
    "# import pandas as pd\n",
    "# import seaborn as sns"
   ]
  },
  {
   "cell_type": "markdown",
   "metadata": {},
   "source": [
    "## Ejercicios"
   ]
  },
  {
   "cell_type": "code",
   "execution_count": 1,
   "metadata": {},
   "outputs": [],
   "source": [
    "# Ejercicio 1\n",
    "\n",
    "\"\"\"\n",
    "Sean X, Y dos v.a. distribuidas normalmente, con distribucion\n",
    "conjunta normal bivariable fXY . Demostrar que X, Y son\n",
    "independientes si y s ́olo si son v.a. descorrelacionadas (pista: usar\n",
    "ρ = 0 en fXY )\n",
    "\"\"\"\n"
   ]
  },
  {
   "cell_type": "markdown",
   "metadata": {},
   "source": [
    "En los ejercicios de la clase 1 mostramos cómo se llega a la función de densidad conjunta de dos normales estándares. Allí notamos que, de ser independientes las V.A., la expresión de su función de densidad será:\n",
    "\n",
    "$(2) f_x(x) = \\frac{1}{σ_x\\sqrt{2π}} . e^{− \\frac{1}{2σ^2}(x − µ_x)^2}$\n",
    "\n",
    "$(3) f_y(y) = \\frac{1}{σ_y\\sqrt{2π}} . e^{− \\frac{1}{2σ^2}(y − µ_y)^2}$\n",
    "\n",
    "por $(1), (2) y (3): f_{x,y}(x, y) = \n",
    "\\frac{1}{σ_x\\sqrt{2π}} . e^{− \\frac{1}{2σ_x^2}(x − µ_x)^2} * \n",
    "\\frac{1}{σ_y\\sqrt{2π}} . e^{− \\frac{1}{2σ_y^2}(y − µ_y)^2} $\n",
    "\n",
    "Reordenando:\n",
    "\n",
    " $f_{x,y}(x, y) = \n",
    "\\frac{1}{σ_x.σ_y2π} . e^{− \\frac{1}{2σ_x^2}(x − µ_x)^2− \\frac{1}{2σ_y^2}(y − µ_y)^2} $\n",
    "\n",
    "\n",
    "$ Z_{XY} = \\frac{(x-\\mu_x)}{σ_x} $\n",
    "\n",
    "\n",
    " $f_{x,y}(x, y) = \n",
    "\\frac{1}{σ_x.σ_y2π} . e^{− \\frac{1}{2}(Z_x^2− Z_y^2)} $\n",
    "\n",
    "Teniendo esto en cuenta, tomamos la expresión de la distribución conjunta bivariable:\n",
    "\n",
    "$\n",
    "f_{XY} (x, y) = \\frac{1}\n",
    "{2πσ_X σ_Y \\sqrt{1−ρ_{XY}^2}}\n",
    "e^{-\\frac{1}{2(1−ρ^2_{XY})}(z_x^2 − 2ρ_{XY} z_X z_Y +z^2_Y)}\n",
    "$\n",
    "\n",
    "y que:\n",
    "\n",
    "$ ρ_{XY} = \\frac{Cov_{XY}}{σ_x.σ_y} $\n",
    "\n",
    "Si tomo ρ = 0:\n",
    "\n",
    "$\n",
    "f_{XY} (x, y) = \\frac{1}\n",
    "{2πσ_X σ_Y}\n",
    "e^{-\\frac{1}{2}(z_x^2+z^2_Y)}\n",
    "$\n",
    "\n",
    "Habiendo tomado el coeficiente de pearson igual a 0, se representa que la covarianza entre las variables x e y será 0. Es decir, que no hay correlación entre las variables X e Y. Esto permite eliminar los términos dentro de la función de densidad bivariable que corresponden a la información que comparten ambas distribuciones.\n"
   ]
  },
  {
   "cell_type": "code",
   "execution_count": null,
   "metadata": {},
   "outputs": [],
   "source": []
  }
 ],
 "metadata": {
  "kernelspec": {
   "display_name": "Python 3",
   "language": "python",
   "name": "python3"
  },
  "language_info": {
   "codemirror_mode": {
    "name": "ipython",
    "version": 3
   },
   "file_extension": ".py",
   "mimetype": "text/x-python",
   "name": "python",
   "nbconvert_exporter": "python",
   "pygments_lexer": "ipython3",
   "version": "3.7.6"
  },
  "toc": {
   "base_numbering": 1,
   "nav_menu": {},
   "number_sections": true,
   "sideBar": true,
   "skip_h1_title": false,
   "title_cell": "Table of Contents",
   "title_sidebar": "Contents",
   "toc_cell": false,
   "toc_position": {},
   "toc_section_display": true,
   "toc_window_display": false
  },
  "varInspector": {
   "cols": {
    "lenName": 16,
    "lenType": 16,
    "lenVar": 40
   },
   "kernels_config": {
    "python": {
     "delete_cmd_postfix": "",
     "delete_cmd_prefix": "del ",
     "library": "var_list.py",
     "varRefreshCmd": "print(var_dic_list())"
    },
    "r": {
     "delete_cmd_postfix": ") ",
     "delete_cmd_prefix": "rm(",
     "library": "var_list.r",
     "varRefreshCmd": "cat(var_dic_list()) "
    }
   },
   "types_to_exclude": [
    "module",
    "function",
    "builtin_function_or_method",
    "instance",
    "_Feature"
   ],
   "window_display": false
  }
 },
 "nbformat": 4,
 "nbformat_minor": 4
}
