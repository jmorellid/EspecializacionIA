{
 "cells": [
  {
   "cell_type": "markdown",
   "metadata": {},
   "source": [
    "# Probabilidad y Estadísitca\n",
    "\n",
    "## CLASE 3\n",
    "\n",
    "## Referencias\n",
    "\n",
    "- [Cheatsheet de Latex](https://www.caam.rice.edu/~heinken/latex/symbols.pdf)\n",
    "- [DRIVE](https://drive.google.com/drive/folders/1TDRvlwfSgLI39gHXgVhWlSaRJ-aTSaDE?usp=sharing)\n",
    "\n",
    "\n",
    "## Comentarios sobre el estado del documento\n",
    "\n"
   ]
  },
  {
   "cell_type": "markdown",
   "metadata": {},
   "source": [
    "## Importar librerías"
   ]
  },
  {
   "cell_type": "code",
   "execution_count": 1,
   "metadata": {},
   "outputs": [],
   "source": [
    "import numpy as np\n",
    "import matplotlib.pyplot as plt\n",
    "import os\n",
    "\n",
    "# MATPLOTLIB & SNS\n",
    "# from mpl_toolkits import mplot3d\n",
    "# from matplotlib import cm\n",
    "# from matplotlib_venn import venn2\n",
    "# import seaborn as sns\n",
    "\n",
    "# MATH & RANDOM\n",
    "# import math\n",
    "# import numpy.random as random\n",
    "# import scipy.stats as stats\n",
    "# random.seed(42)\n",
    "\n",
    "#PANDAS\n",
    "# import pandas as pd\n",
    "\n",
    "# %matplotlib inline"
   ]
  },
  {
   "cell_type": "code",
   "execution_count": 180,
   "metadata": {},
   "outputs": [
    {
     "name": "stdout",
     "output_type": "stream",
     "text": [
      "0.2667821868791088\n"
     ]
    }
   ],
   "source": [
    "# Ejercicio 1\n",
    "\n",
    "'''(a) Juan y Pedro juegan un juego de dados en el cual el que tira el dado\n",
    "m ́as alto gana. Si ambos tiran el mismo n ́umero, tiran de nuevo hasta\n",
    "que uno gane. Juan gan ́o. Encontrar la probabilidad de que haya\n",
    "ganado con un 5. (Pista: listar todos los pares de tiradas de Juan y\n",
    "Pedro en las que Juan gana, y encontrar en cu ́ales gana con un 5)\n",
    "(b) Simular un dado y encontrar una estimaci ́on de la probabilidad\n",
    "anterior.'''\n",
    "\n",
    "# A.\n",
    "# B = Juán Ganó\n",
    "# A = Probabilidad de que haya ganado con 5\n",
    "# \n",
    "#  P(A|B) = P(B int A)/ P(B) \n",
    "#\n",
    "# P(B int A) = Probailidad de que ganó con 5 (del total)\n",
    "\"\"\" la cantidad de combinaciones totales es 6^2 = 36. Sin embargo, 6 de ellas llevan a la \n",
    "repetición del experimento (1-1, 1-1, 2-2, 2-2, 3-3, ...). Se sacan del de las posibilidades y quedan 30.\n",
    "\n",
    "La cantidad de jugadas que ganan con 5 (indistintamente de quién se trate) es de cualquier combinación\n",
    "entre 5 y un número menor (4,3,2,1) por cada uno de los dados (8 combninaciones en total). Sin embargo,\n",
    "nos interesan sólamente las tiradas de Juan => 4/30\n",
    "\n",
    "P(A) = Probabilidad de que juan gane. Como estamos hablando de una jugada simétrica, se deduce (sin necesidad\n",
    "de hacer cuentas) que las probabilidades de que juan gane es 1/2.\n",
    "\n",
    "P(B|A) =  P(B int A)/ P(B) = 4/30 / 1/2 = 8/30 = 0.26\n",
    "\"\"\"\n",
    "\n",
    "#B. simulación\n",
    "SIZE = 1000000\n",
    "john_peter_game = np.vstack([np.random.randint(1,7, size=SIZE), np.random.randint(1,7, size=SIZE)]).T\n",
    "\n",
    "peter_wins_mask = john_peter_game[:, 0] > john_peter_game[:,1]\n",
    "peter_wins = john_peter_game[peter_wins_mask]\n",
    "peter_wins_w5_mask = peter_wins[:,0] == 5\n",
    "\n",
    "P_peter_5 = peter_wins_w5_mask.sum() / peter_wins_mask.sum()\n",
    "print(P_peter_5)"
   ]
  },
  {
   "cell_type": "code",
   "execution_count": null,
   "metadata": {},
   "outputs": [],
   "source": [
    "# Ejercicio 2\n",
    "\n",
    "'''Sea la longitud de una vara L. Supongamos que optamos por cortar\n",
    "la vara en un lugar elegido uniformemente al azar Y . Nos quedamos\n",
    "con la parte de vara de longitud entre [0, Y ]. Luego nuevamente\n",
    "decidimos partir la porci ́on restante en un lugar aleatoriamente\n",
    "elegido uniformemente, y llamamos a la longitud resultante X (Pista:\n",
    "usar la ley de esperanzas iteradas).\n",
    "(b) Encontrar la expresi ́on de E[X] en funci ́on de L.\n",
    "(c) Encontrar la expresi ́on de var[X] en funci ́on de L.\n",
    "(d) Simular el proceso con N = 1000 ensayos y encontrar la media y\n",
    "varianza muestral de X.'''\n",
    "\n"
   ]
  },
  {
   "cell_type": "markdown",
   "metadata": {},
   "source": [
    "X = corte de bara L a altura X\n",
    "\n",
    "Y = Corte barra X en y\n",
    "\n",
    "$$E[X] = E[E[X|Y]] = \\iint^{1,1}_{0,0} xy L dx dy  = \\int^1_0 \\frac{L}{2} = L\\frac{1}{4} $$\n",
    "\n",
    "b. Encontrar la varianza:\n",
    "\n",
    "$$ Var(X) = var[E[X|Y ]] + E[var[X|Y ]] $$\n",
    "\n",
    "Por otro lado,\n",
    "\n",
    "$$ var[E[X|Y ]] = E[E[X|Y ]^2] - E[E[X|Y ]]^2 $$\n",
    "\n",
    "y\n",
    "\n",
    "$$ E[var[X|Y ]] = E[E^2[X|Y]] - E[E[X|Y]^2] $$\n",
    "\n",
    "SUMANDO!\n",
    "\n",
    "$$ Var(X) = E[E^2[X|Y]] - E[E[X|Y ]]^2 $$\n",
    "\n",
    "$$ Var(X) = E[E^2[X|Y]] - (L\\frac{1}{4})^2 $$\n",
    "\n",
    "$$ E[E^2[X|Y]] = \\iint^{1,1}_{0,0} x^2y L dx dy  = \\int^1_0 \\frac{Ly}{3} = L\\frac{1}{6} $$\n",
    "\n",
    "FInalmente se obtiene:\n",
    "\n",
    "$$ Var(X) = L\\frac{1}{6} - L^2\\frac{1}{16} = 0.104$$ (para L=1)\n",
    "\n",
    "\n",
    "\n"
   ]
  },
  {
   "cell_type": "code",
   "execution_count": 226,
   "metadata": {},
   "outputs": [
    {
     "name": "stdout",
     "output_type": "stream",
     "text": [
      "[[1.49308474 0.0323286 ]\n",
      " [0.88897316 0.75575256]\n",
      " [0.26957892 0.17021277]\n",
      " ...\n",
      " [1.80897268 0.0914105 ]\n",
      " [1.52647263 1.16094374]\n",
      " [0.7365859  0.14740163]]\n",
      "the simulated mean is [0.99925276 0.49966269]\n",
      "the simulated variance is 0.6223825289091165 the real variance is 0.08333333333333331\n"
     ]
    }
   ],
   "source": [
    "a = np.random.random(SIZE)\n",
    "length = 2\n",
    "length_Experiment = np.vstack([length * a, length * a * np.random.random(SIZE)]).T\n",
    "\n",
    "\n",
    "print(length_Experiment)\n",
    "\n",
    "print('the simulated mean is', length_Experiment.mean(axis=0))\n",
    "print('the simulated variance is', final_length.std()**2, 'the real variance is', length *1/6 - length**2 * 1/16)\n",
    "\n",
    "#ME da una diferencia que no comprendo porqué está!!"
   ]
  },
  {
   "cell_type": "code",
   "execution_count": null,
   "metadata": {},
   "outputs": [],
   "source": [
    "# Ejercicio 3\n",
    "\n",
    "'''Sean X, Y v.a. U[0, 1] independientes. Definamos Z = X + Y .\n",
    "Encontrar E[Z|X], E[X|Z], E[XZ|X], E[XZ|Z].\n",
    "(b) Simular y estimar dichas esperanzas.'''\n",
    "\n",
    "\"\"\"\n",
    "- E[Z|X] = E[X + Y | X] = E[X|X] + E[Y|X] = X + 1/2 (por ser independientes)\n",
    "\n",
    "- E[X|Z] = E[X|X + Y] = como X es independiente de Y = E[X|X] = X\n",
    "\n",
    "- E[XZ | X] = E[X^2 + XY| X] = E[X^2| X] + E[XY| X]  Como las varaibles aleatorias son indep E[XY] = E[X]E[Y]\n",
    "  E[X|X]E[X|X] + E[X|X]E[Y|X] = X^2 + X/2\n",
    "\n",
    "- E[XZ | Z] = E[X|Z]E[Z|Z] = Z.E[X|X + Y]  (como X es indep de Y) = Z.E[X|X] = ZX = YX + X^2 \n",
    "\n",
    "\n",
    "\"\"\""
   ]
  },
  {
   "cell_type": "code",
   "execution_count": 254,
   "metadata": {},
   "outputs": [
    {
     "data": {
      "text/plain": [
       "1.3245197352502274"
      ]
     },
     "execution_count": 254,
     "metadata": {},
     "output_type": "execute_result"
    }
   ],
   "source": [
    "# Ejercicio 4\n",
    "\n",
    "'''(a) Sea un proceso AWGN y(n) = 2 + w(n) donde w(n) ∼ N (0, 1)\n",
    "(b) Estimar la media y varianza de y(n) usando los siguientes estimadores:\n",
    "(c) y ̄ = media\n",
    "(d) sn = varianza n\n",
    "(e) sn−1 = varianza n-1\n",
    "(f) Calcular la esperanza de cada estimador\n",
    "(g) Simular con N = 10 y N = 10000\n",
    "(h) Interpretar los valores de sn,sn−1 en cada caso. ¿Cu ́al es mejor de los\n",
    "dos?'''\n",
    "\n",
    "\"\"\"\n",
    "como w(n) es una normal con parámetros mu = 0 y sigma=1, y 2 es una constante, la distribución \n",
    "se correrá en 2 unidades hacia los positivos. Esto se traduce a una normal de parametros mu=2, sigma=1.\n",
    "media=2\n",
    "varianza=1\n",
    "\n",
    "\n",
    "\"\"\"\n",
    "\n"
   ]
  }
 ],
 "metadata": {
  "kernelspec": {
   "display_name": "Python 3",
   "language": "python",
   "name": "python3"
  },
  "language_info": {
   "codemirror_mode": {
    "name": "ipython",
    "version": 3
   },
   "file_extension": ".py",
   "mimetype": "text/x-python",
   "name": "python",
   "nbconvert_exporter": "python",
   "pygments_lexer": "ipython3",
   "version": "3.7.6"
  },
  "toc": {
   "base_numbering": 1,
   "nav_menu": {},
   "number_sections": true,
   "sideBar": true,
   "skip_h1_title": false,
   "title_cell": "Table of Contents",
   "title_sidebar": "Contents",
   "toc_cell": false,
   "toc_position": {},
   "toc_section_display": true,
   "toc_window_display": false
  },
  "varInspector": {
   "cols": {
    "lenName": 16,
    "lenType": 16,
    "lenVar": 40
   },
   "kernels_config": {
    "python": {
     "delete_cmd_postfix": "",
     "delete_cmd_prefix": "del ",
     "library": "var_list.py",
     "varRefreshCmd": "print(var_dic_list())"
    },
    "r": {
     "delete_cmd_postfix": ") ",
     "delete_cmd_prefix": "rm(",
     "library": "var_list.r",
     "varRefreshCmd": "cat(var_dic_list()) "
    }
   },
   "types_to_exclude": [
    "module",
    "function",
    "builtin_function_or_method",
    "instance",
    "_Feature"
   ],
   "window_display": false
  }
 },
 "nbformat": 4,
 "nbformat_minor": 4
}
