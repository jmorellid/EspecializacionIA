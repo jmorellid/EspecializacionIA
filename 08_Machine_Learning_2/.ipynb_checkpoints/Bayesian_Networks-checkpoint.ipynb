{
 "cells": [
  {
   "cell_type": "markdown",
   "metadata": {},
   "source": [
    "# MAchine Learning 2: Bayesian Networks\n",
    "\n",
    "## CLASE 2\n",
    "\n",
    "## Referencias\n",
    "\n",
    "- [Cheatsheet de Latex](https://www.caam.rice.edu/~heinken/latex/symbols.pdf)\n",
    "- [DRIVE](https://drive.google.com/drive/folders/1TDRvlwfSgLI39gHXgVhWlSaRJ-aTSaDE?usp=sharing)\n",
    "\n",
    "\n",
    "## Comentarios sobre el estado del documento\n",
    "\n"
   ]
  },
  {
   "cell_type": "markdown",
   "metadata": {},
   "source": [
    "## Importar librerías"
   ]
  },
  {
   "cell_type": "code",
   "execution_count": 3,
   "metadata": {},
   "outputs": [],
   "source": [
    "import numpy as np\n",
    "import pandas as pd\n",
    "import matplotlib.pyplot as plt\n",
    "import os\n",
    "\n",
    "from scipy import special\n",
    "\n",
    "from pomegranate import *\n",
    "import math\n",
    "\n",
    "%matplotlib inline"
   ]
  },
  {
   "cell_type": "code",
   "execution_count": 4,
   "metadata": {},
   "outputs": [
    {
     "name": "stdout",
     "output_type": "stream",
     "text": [
      "The soluition of exercise 1.a is 0.375\n",
      "The soluition of exercise 1.b is 0.12013435363769531\n",
      "The soluition of exercise 1.c is 0.9987106323242188\n"
     ]
    }
   ],
   "source": [
    "# Exercise 6.7.1 MIT BOOK\n",
    "\n",
    "# Three people flip a fair coin. What is the probability that exactly two of them will get heads?\n",
    "\n",
    "H = 0.5\n",
    "T = 0.5\n",
    "\n",
    "P_1_2H_3 = special.comb(3, 2) * H**2 * T**1\n",
    "\n",
    "print(f'The soluition of exercise 1.a is {P_1_2H_3}')\n",
    "\n",
    "n = 20\n",
    "k = 8\n",
    "\n",
    "P_20_8h = special.comb(n, k) * H**k * T**(n-k)\n",
    "\n",
    "print(f'The soluition of exercise 1.b is {P_20_8h}')\n",
    "\n",
    "\n",
    "n = 20\n",
    "k = 4\n",
    "\n",
    "P_20_m3h = 0\n",
    "\n",
    "for i in range(n-k):\n",
    "    \n",
    "    P_20_m3h += special.comb(n, i+k) * H**k * T**(n-k)\n",
    "\n",
    "print(f'The soluition of exercise 1.c is {P_20_m3h}')"
   ]
  },
  {
   "cell_type": "code",
   "execution_count": 5,
   "metadata": {},
   "outputs": [],
   "source": [
    "# 2.The table below gives details of symptoms that patients presented and whether\n",
    "# they were suffering from meningitis.\n",
    "\n",
    "# Using this dataset calculate the following probabilities:\n",
    "# a. P(VOMITING = true)\n",
    "# b. P(HEADACHE = false)\n",
    "# c. P(HEADACHE = true, VOMITING = false)\n",
    "# d. P(VOMITING = false | HEADACHE = true)\n",
    "# e. P(MENINGITIS | FEVER = true, VOMITING = false)\n",
    "\n",
    "\n",
    "Dataset = '''ID HEADACHE FEVER VOMITING MENINGITIS\n",
    "1 true true false false\n",
    "2 false true false false\n",
    "3 true false true false\n",
    "4 true false true false\n",
    "5 false true false true\n",
    "6 true false true false\n",
    "7 true false true false\n",
    "8 true false true true\n",
    "9 false true false false\n",
    "10 true false true true'''\n",
    "\n",
    "Dataset = Dataset.split('\\n')\n",
    "\n",
    "\n",
    "for i, row in enumerate(Dataset):\n",
    "    Dataset[i] = row.split(' ')\n",
    "    \n",
    "\n",
    "df = pd.DataFrame(Dataset[1:], columns=Dataset[0]).set_index('ID').applymap(lambda x: 1 if x == 'true' else 0)"
   ]
  },
  {
   "cell_type": "code",
   "execution_count": 6,
   "metadata": {},
   "outputs": [
    {
     "name": "stdout",
     "output_type": "stream",
     "text": [
      "a. P(VOMITING = true) =  0.6\n",
      "b. P(HEADACHE = false) = 0.3\n",
      "c. P(HEADACHE = true, VOMITING = false) = 0.1\n",
      "d. P(VOMITING = false | HEADACHE = true) = 0.14285714285714285\n",
      "e. P(MENINGITIS | FEVER = true, VOMITING = false) = 0.75\n"
     ]
    }
   ],
   "source": [
    "p_vomiting = df.VOMITING.sum() / df.VOMITING.count()\n",
    "p_Nheadache = (df.HEADACHE.count() - df.HEADACHE.sum()) / df.HEADACHE.count()\n",
    "p_headache_Nvomiting = ((df.HEADACHE == 1) & (df.VOMITING == 0)).sum() / df.HEADACHE.count()\n",
    "\n",
    "p_Nvomiting_headache = (df[df.HEADACHE== 1].VOMITING == 0).sum() / (df.HEADACHE== 1).sum()\n",
    "p_meningitis_fever_Nvomiting = (df[(df.FEVER == 1) & (df.VOMITING == 0)].MENINGITIS == 0).sum() / ((df.FEVER == 1) & (df.VOMITING == 0)).sum()\n",
    "\n",
    "print(f'''a. P(VOMITING = true) =  {p_vomiting}\n",
    "b. P(HEADACHE = false) = {p_Nheadache}\n",
    "c. P(HEADACHE = true, VOMITING = false) = {p_headache_Nvomiting}\n",
    "d. P(VOMITING = false | HEADACHE = true) = {p_Nvomiting_headache}\n",
    "e. P(MENINGITIS | FEVER = true, VOMITING = false) = {p_meningitis_fever_Nvomiting}''')"
   ]
  },
  {
   "cell_type": "code",
   "execution_count": 7,
   "metadata": {},
   "outputs": [
    {
     "data": {
      "text/plain": [
       "{('SS_IN', 'ok'): (189.0, 39.331920878594275),\n",
       " ('SED_IN', 'ok'): (3.125, 0.21650635094610965),\n",
       " ('COND_IN', 'ok'): (1860.5, 321.64382475029737),\n",
       " ('SS_OUT', 'ok'): (18.0, 5.244044240850758),\n",
       " ('SED_OUT', 'ok'): (0.054000000000000006, 0.08435342316705352),\n",
       " ('COND_OUT', 'ok'): (2036.0, 460.89098494112466),\n",
       " ('SS_IN', 'settler'): (200.8, 49.30882273995192),\n",
       " ('SED_IN', 'settler'): (4.4, 1.5937377450509227),\n",
       " ('COND_IN', 'settler'): (1251.2, 103.97191928593027),\n",
       " ('SS_OUT', 'settler'): (98.0, 20.9093280618962),\n",
       " ('SED_OUT', 'settler'): (1.018, 1.365465488395807),\n",
       " ('COND_OUT', 'settler'): (1372.0, 127.52568368763995),\n",
       " ('SS_IN', 'solids'): (1301.0, 420.4033777219208),\n",
       " ('SED_IN', 'solids'): (32.5, 10.35615758860399),\n",
       " ('COND_IN', 'solids'): (1621.0, 392.34232501732464),\n",
       " ('SS_OUT', 'solids'): (49.1, 32.697553425294686),\n",
       " ('SED_OUT', 'solids'): (1293.0, 373.214415584393),\n",
       " ('COND_OUT', 'solids'): (832.85, 829.9227388739267)}"
      ]
     },
     "execution_count": 7,
     "metadata": {},
     "output_type": "execute_result"
    }
   ],
   "source": [
    "# Create a naive Bayes model that uses probability density functions to model the\n",
    "# descriptive features in this dataset (assume that all the descriptive features are\n",
    "# normally distributed).\n",
    "# b. What prediction will the naive Bayes model return for the following query?\n",
    "# SS-IN = 222, SED-IN = 4.5, COND-IN = 1,518, SS-OUT = 74 SED-OUT = 0.25, COND-OUT =\n",
    "# 1,642\n",
    "\n",
    "\n",
    "\n",
    "from scipy import stats\n",
    "\n",
    "Dataset_2 = \"\"\"ID SS-IN SED-IN COND-IN SS-OUT SED-OUT COND-OUT STATUS\n",
    "1 168 3 1,814 15 0.001 1,879 ok\n",
    "2 156 3 1,358 14 0.01 1,425 ok\n",
    "3 176 3.5 2,200 16 0.005 2,140 ok\n",
    "4 256 3 2,070 27 0.2 2,700 ok\n",
    "5 230 5 1,410 131 3.5 1,575 settler\n",
    "6 116 3 1,238 104 0.06 1,221 settler\n",
    "7 242 7 1,315 104 0.01 1,434 settler\n",
    "8 242 4.5 1,183 78 0.02 1,374 settler\n",
    "9 174 2.5 1,110 73 1.5 1,256 settler\n",
    "10 1,004 35 1,218 81 1,172 33.3 solids\n",
    "11 1,228 46 1,889 82.4 1,932 43.1 solids\n",
    "12 964 17 2,120 20 1,030 1,966 solids\n",
    "13 2,008 32 1,257 13 1,038 1,289 solids\"\"\"\n",
    "\n",
    "\n",
    "Dataset_2 = Dataset_2.split('\\n')\n",
    "\n",
    "\n",
    "for i, row in enumerate(Dataset_2):\n",
    "    Dataset_2[i] = row.replace('-', '_').split(' ')\n",
    "    \n",
    "\n",
    "df = pd.DataFrame(Dataset_2[1:], columns=Dataset_2[0]).set_index('ID')\n",
    "\n",
    "df.iloc[:,:-1] = df.iloc[:,:-1].applymap(lambda x: x.replace(',', '')).apply(pd.to_numeric)\n",
    "\n",
    "normal_parameters = {}\n",
    "\n",
    "for status in df.STATUS.unique():\n",
    "    for col in df.columns[:-1]:\n",
    "        data = df[df['STATUS'] == status][col].values.flatten().astype('float64')\n",
    "        normal_parameters[(col, status)] = stats.norm.fit(data)\n",
    "\n",
    "status_proba = df.STATUS.value_counts(normalize=True)\n",
    "        \n",
    "normal_parameters"
   ]
  },
  {
   "cell_type": "code",
   "execution_count": 8,
   "metadata": {},
   "outputs": [],
   "source": [
    "query = [222,  4.5, 1518, 74, 0.25, 1642]\n",
    "\n",
    "rankings = []\n",
    "for i, status in enumerate(df.STATUS.unique()):\n",
    "    ranking = 1\n",
    "    for j, col in enumerate(df.columns[:-1]):\n",
    "        ranking *= stats.norm.pdf(query[j], loc = normal_parameters[col, status][0], scale = normal_parameters[col, status][1] )\n",
    "    ranking *= status_proba[i]\n",
    "    rankings.append(ranking)"
   ]
  },
  {
   "cell_type": "code",
   "execution_count": 9,
   "metadata": {},
   "outputs": [
    {
     "name": "stdout",
     "output_type": "stream",
     "text": [
      "1\n"
     ]
    },
    {
     "data": {
      "text/plain": [
       "[1.5575582810003475e-44, 6.623330286724616e-14, 7.67538782085606e-23]"
      ]
     },
     "execution_count": 9,
     "metadata": {},
     "output_type": "execute_result"
    }
   ],
   "source": [
    "print(np.argmax(rankings))\n",
    "\n",
    "rankings"
   ]
  },
  {
   "cell_type": "code",
   "execution_count": 10,
   "metadata": {},
   "outputs": [
    {
     "data": {
      "text/plain": [
       "<matplotlib.axes._axes.Axes at 0x29c146a78c8>"
      ]
     },
     "execution_count": 10,
     "metadata": {},
     "output_type": "execute_result"
    },
    {
     "data": {
      "image/png": "[encoded data removed]",
      "text/plain": [
       "<Figure size 501.969x318.898 with 1 Axes>"
      ]
     },
     "metadata": {},
     "output_type": "display_data"
    }
   ],
   "source": [
    "# 4. The following is a description of the causal relationship between storms, the\n",
    "# behavior of burglars and cats, and house alarms:\n",
    "# Stormy nights are rare. Burglary is also rare, and if it is a stormy night, burglars are\n",
    "# likely to stay at home (burglars don’t like going out in storms). Cats don’t like storms\n",
    "# either, and if there is a storm, they like to go inside. The alarm on your house is\n",
    "# designed to be triggered if a burglar breaks into your house, but sometimes it can be\n",
    "# set off by your cat coming into the house, and sometimes it might not be triggered\n",
    "# even if a burglar breaks in (it could be faulty or the burglar might be very good).\n",
    "\n",
    "# a. Define the topology of a Bayesian network that encodes these causal relationships.\n",
    "\n",
    "import daft\n",
    "from matplotlib import rc\n",
    "from pomegranate import *\n",
    "\n",
    "ff = \"comic sans ms\"\n",
    "\n",
    "rc(\"font\", family=ff, size=12)\n",
    "rc(\"text\", usetex=False)\n",
    "\n",
    "bayesian_network = daft.PGM(aspect=2.1, dpi=150)\n",
    "\n",
    "bayesian_network.add_node('cat', r'cat', x=-1, y=0)\n",
    "bayesian_network.add_node('burglar', r'burglar', x=2, y=0)\n",
    "bayesian_network.add_node('storm', r'storm', x=0, y=1)\n",
    "bayesian_network.add_node('alarm', r'alarm', x=0, y=-1)\n",
    "\n",
    "bayesian_network.add_edge( 'storm', 'cat', True)\n",
    "bayesian_network.add_edge('storm', 'burglar', True)\n",
    "bayesian_network.add_edge('cat', 'alarm', True)\n",
    "bayesian_network.add_edge('burglar', 'alarm', True)\n",
    "\n",
    "bayesian_network.render()"
   ]
  },
  {
   "cell_type": "code",
   "execution_count": 140,
   "metadata": {},
   "outputs": [
    {
     "name": "stderr",
     "output_type": "stream",
     "text": [
      "C:\\Users\\jota_\\anaconda\\lib\\site-packages\\ipykernel_launcher.py:37: RuntimeWarning: invalid value encountered in longlong_scalars\n",
      "C:\\Users\\jota_\\anaconda\\lib\\site-packages\\ipykernel_launcher.py:42: RuntimeWarning: invalid value encountered in longlong_scalars\n",
      "C:\\Users\\jota_\\anaconda\\lib\\site-packages\\ipykernel_launcher.py:47: RuntimeWarning: invalid value encountered in longlong_scalars\n",
      "C:\\Users\\jota_\\anaconda\\lib\\site-packages\\ipykernel_launcher.py:55: RuntimeWarning: invalid value encountered in longlong_scalars\n"
     ]
    }
   ],
   "source": [
    "# b. The table below lists a set of instances from the house alarm domain. Using the data\n",
    "# in this table, create the conditional probability tables (CPTs) for the network you\n",
    "# created in part (a) of this question.\n",
    "\n",
    "Dataset_3 = '''ID STORM BURGLAR CAT ALARM\n",
    "1 false false false false\n",
    "2 false false false false\n",
    "3 false false false false\n",
    "4 false false false false\n",
    "5 false false false true\n",
    "6 false false true false\n",
    "7 false true false false\n",
    "8 false true false true\n",
    "9 false true true true\n",
    "10 true false true true\n",
    "11 true false true false\n",
    "12 true false true false\n",
    "13 true true false true'''\n",
    "\n",
    "Dataset_3 = Dataset_3.split('\\n')\n",
    "\n",
    "\n",
    "for i, row in enumerate(Dataset_3):\n",
    "    Dataset_3[i] = row.split(' ')\n",
    "    \n",
    "\n",
    "df_3 = pd.DataFrame(Dataset_3[1:], columns=Dataset_3[0]).set_index('ID').applymap(lambda x: 1 if x == 'true' else 0)\n",
    "\n",
    "df_3['ALARM_2'] = df_3['ALARM']\n",
    "\n",
    "prob_storm = df_3['STORM'].value_counts(normalize=True).to_dict()\n",
    "prob_storm['T'] = prob_storm.pop(1)\n",
    "prob_storm['F'] = prob_storm.pop(0)\n",
    "\n",
    "\n",
    "# Conditional Probability table cat & burglar given storm\n",
    "prob_cat_given_storm = df_3.pivot_table('ALARM', index=['STORM', 'CAT'] , aggfunc= lambda x: np.sum(x)/len(x)).reset_index()\n",
    "prob_cat_given_storm.iloc[:,:2] = prob_cat_given_storm.iloc[:,:2].applymap(lambda x: 'T' if x == 1 else 'F')\n",
    "prob_cat_given_storm = prob_cat_given_storm.to_numpy()\n",
    "\n",
    "\n",
    "prob_burglar_given_storm = df_3.pivot_table('ALARM', index=['STORM','BURGLAR'] , aggfunc= lambda x: np.sum(x)/len(x)).reset_index()\n",
    "prob_burglar_given_storm.iloc[:,:2] = prob_burglar_given_storm.iloc[:,:2].applymap(lambda x: 'T' if x == 1 else 'F')\n",
    "prob_burglar_given_storm = prob_burglar_given_storm.to_numpy()\n",
    "\n",
    "# Conditional Probability table Alarm given Burglar and Cat\n",
    "prob_alarm_1 = df_3.pivot_table('ALARM', index=['BURGLAR', 'CAT'], fill_value=0, aggfunc= lambda x: np.sum(x)/len(x)).reset_index()\n",
    "prob_alarm_1['ALARM_2'] = 1\n",
    "prob_alarm_1 = prob_alarm_1[['BURGLAR', 'CAT', 'ALARM_2', 'ALARM']]\n",
    "prob_alarm_1.iloc[:,:3] = prob_alarm_1.iloc[:,:3].applymap(lambda x: 'T' if x == 1 else 'F')\n",
    "prob_alarm_1 = prob_alarm_1.to_numpy()\n",
    "\n",
    "\n",
    "\n",
    "prob_alarm_0 = df_3.pivot_table('ALARM', index=['BURGLAR', 'CAT'], fill_value=0, aggfunc= lambda x: 1- np.sum(x)/len(x)).reset_index()\n",
    "prob_alarm_0['ALARM_2'] = 0\n",
    "prob_alarm_0 = prob_alarm_0[['BURGLAR', 'CAT', 'ALARM_2', 'ALARM']]\n",
    "prob_alarm_0.iloc[:,:3] = prob_alarm_0.iloc[:,:3].applymap(lambda x: 'T' if x == 1 else 'F')\n",
    "prob_alarm_0 = prob_alarm_0.to_numpy()\n",
    "\n",
    "\n",
    "prob_alarm_given_cat_burglar = np.concatenate((prob_alarm_0, prob_alarm_1))"
   ]
  },
  {
   "cell_type": "code",
   "execution_count": 160,
   "metadata": {},
   "outputs": [],
   "source": [
    "storm = DiscreteDistribution(prob_storm)\n",
    "\n",
    "cat = ConditionalProbabilityTable(prob_cat_given_storm.tolist(), [storm])\n",
    "burglar = ConditionalProbabilityTable(prob_burglar_given_storm.tolist(), [storm])\n",
    "\n",
    "alarm = ConditionalProbabilityTable(prob_alarm_given_cat_burglar, [burglar, cat])\n",
    "\n",
    "s1 = Node(storm, name='storm')\n",
    "s2 = Node(cat, name = 'cat')\n",
    "s3 = Node(burglar, name = 'burglar')\n",
    "s4 = Node(alarm, name = 'alarm')\n",
    "\n",
    "model = BayesianNetwork('Alarm cat burglar Bayesian Network')\n",
    "model.add_states(s1, s2, s3, s4)\n",
    "model.add_edge(s1, s2)\n",
    "model.add_edge(s1, s3)\n",
    "model.add_edge(s2, s4)\n",
    "model.add_edge(s3, s4)\n",
    "\n",
    "model.bake()"
   ]
  },
  {
   "cell_type": "code",
   "execution_count": 168,
   "metadata": {},
   "outputs": [
    {
     "data": {
      "text/plain": [
       "[array(['F', 'T', 'T',\n",
       "        {\n",
       "     \"class\" : \"Distribution\",\n",
       "     \"dtype\" : \"str\",\n",
       "     \"name\" : \"DiscreteDistribution\",\n",
       "     \"parameters\" : [\n",
       "         {\n",
       "             \"T\" : 1.0,\n",
       "             \"F\" : 0.0\n",
       "         }\n",
       "     ],\n",
       "     \"frozen\" : false\n",
       " }], dtype=object)]"
      ]
     },
     "execution_count": 168,
     "metadata": {},
     "output_type": "execute_result"
    }
   ],
   "source": [
    "#c. What value will the Bayesian network predict for ALARM given that there is both a\n",
    "# burglar and a cat in the house but there is no storm.\n",
    "\n",
    "model.predict_proba([['F','T','T',None]])"
   ]
  },
  {
   "cell_type": "code",
   "execution_count": 169,
   "metadata": {},
   "outputs": [
    {
     "data": {
      "text/plain": [
       "[array(['T',\n",
       "        {\n",
       "     \"class\" : \"Distribution\",\n",
       "     \"dtype\" : \"str\",\n",
       "     \"name\" : \"DiscreteDistribution\",\n",
       "     \"parameters\" : [\n",
       "         {\n",
       "             \"T\" : 0.2500000000000003,\n",
       "             \"F\" : 0.7499999999999997\n",
       "         }\n",
       "     ],\n",
       "     \"frozen\" : false\n",
       " },\n",
       "        {\n",
       "     \"class\" : \"Distribution\",\n",
       "     \"dtype\" : \"str\",\n",
       "     \"name\" : \"DiscreteDistribution\",\n",
       "     \"parameters\" : [\n",
       "         {\n",
       "             \"T\" : 0.7499999999999998,\n",
       "             \"F\" : 0.2500000000000003\n",
       "         }\n",
       "     ],\n",
       "     \"frozen\" : false\n",
       " },\n",
       "        {\n",
       "     \"class\" : \"Distribution\",\n",
       "     \"dtype\" : \"str\",\n",
       "     \"name\" : \"DiscreteDistribution\",\n",
       "     \"parameters\" : [\n",
       "         {\n",
       "             \"T\" : 0.6156249999999999,\n",
       "             \"F\" : 0.3843750000000001\n",
       "         }\n",
       "     ],\n",
       "     \"frozen\" : false\n",
       " }], dtype=object)]"
      ]
     },
     "execution_count": 169,
     "metadata": {},
     "output_type": "execute_result"
    }
   ],
   "source": [
    "# d. What value will the Bayesian network predict for ALARM given that there is a storm\n",
    "# but we don’t know if a burglar has broken in or where the cat is?\n",
    "\n",
    "model.predict_proba([['T', None, None, None]])\n",
    "\n",
    "# The alarm will go off with 67% probability.. True! And change from Alarm!!"
   ]
  },
  {
   "cell_type": "code",
   "execution_count": 172,
   "metadata": {},
   "outputs": [
    {
     "data": {
      "text/plain": [
       "array([['F', 'F', 0.2857142857142857],\n",
       "       ['F', 'T', 0.5],\n",
       "       ['T', 'F', 1.0],\n",
       "       ['T', 'T', 0.3333333333333333]], dtype=object)"
      ]
     },
     "execution_count": 172,
     "metadata": {},
     "output_type": "execute_result"
    }
   ],
   "source": [
    "prob_cat_given_storm"
   ]
  }
 ],
 "metadata": {
  "kernelspec": {
   "display_name": "Python 3",
   "language": "python",
   "name": "python3"
  },
  "language_info": {
   "codemirror_mode": {
    "name": "ipython",
    "version": 3
   },
   "file_extension": ".py",
   "mimetype": "text/x-python",
   "name": "python",
   "nbconvert_exporter": "python",
   "pygments_lexer": "ipython3",
   "version": "3.7.6"
  },
  "toc": {
   "base_numbering": 1,
   "nav_menu": {},
   "number_sections": true,
   "sideBar": true,
   "skip_h1_title": false,
   "title_cell": "Table of Contents",
   "title_sidebar": "Contents",
   "toc_cell": false,
   "toc_position": {},
   "toc_section_display": true,
   "toc_window_display": false
  },
  "varInspector": {
   "cols": {
    "lenName": 16,
    "lenType": 16,
    "lenVar": 40
   },
   "kernels_config": {
    "python": {
     "delete_cmd_postfix": "",
     "delete_cmd_prefix": "del ",
     "library": "var_list.py",
     "varRefreshCmd": "print(var_dic_list())"
    },
    "r": {
     "delete_cmd_postfix": ") ",
     "delete_cmd_prefix": "rm(",
     "library": "var_list.r",
     "varRefreshCmd": "cat(var_dic_list()) "
    }
   },
   "types_to_exclude": [
    "module",
    "function",
    "builtin_function_or_method",
    "instance",
    "_Feature"
   ],
   "window_display": false
  }
 },
 "nbformat": 4,
 "nbformat_minor": 4
}
