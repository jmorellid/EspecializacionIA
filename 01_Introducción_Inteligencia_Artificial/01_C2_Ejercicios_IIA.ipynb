{
 "cells": [
  {
   "cell_type": "markdown",
   "metadata": {},
   "source": [
    "# Introducción a la Inteligencia Artificial\n",
    "\n",
    "## CLASE 2\n",
    "\n",
    "## Referencias\n",
    "\n",
    "- [Cheatsheet de Latex](https://www.caam.rice.edu/~heinken/latex/symbols.pdf)\n",
    "- [DRIVE](https://drive.google.com/drive/folders/1TDRvlwfSgLI39gHXgVhWlSaRJ-aTSaDE?usp=sharing)\n",
    "\n",
    "## Comentarios sobre el estado del documento\n",
    "\n"
   ]
  },
  {
   "cell_type": "markdown",
   "metadata": {},
   "source": [
    "## Importar librerías"
   ]
  },
  {
   "cell_type": "code",
   "execution_count": 2,
   "metadata": {},
   "outputs": [],
   "source": [
    "import numpy as np\n",
    "import matplotlib.pyplot as plt\n",
    "import os\n",
    "import pickle\n",
    "\n",
    "# MATPLOTLIB & SNS\n",
    "# from mpl_toolkits import mplot3d\n",
    "# from matplotlib import cm\n",
    "# from matplotlib_venn import venn2\n",
    "# import seaborn as sns\n",
    "\n",
    "# MATH & RANDOM\n",
    "# import math\n",
    "# import numpy.random as random\n",
    "# import scipy.stats as stats\n",
    "# random.seed(42)\n",
    "\n",
    "#PANDAS\n",
    "# import pandas as pd\n",
    "\n",
    "# %matplotlib inline"
   ]
  },
  {
   "cell_type": "code",
   "execution_count": 76,
   "metadata": {},
   "outputs": [],
   "source": [
    "# Ejercicio 3 \n",
    "\"\"\"\n",
    "Implementacion basica de K-means en Numpy\n",
    "K-means es uno de los algoritmos más básicos en Machine Learning no supervisado.\n",
    "Es un algoritmo de clusterización, que agrupa los datos que comparten características similares.\n",
    "Recordemos que entendemos datos como n realizaciones del vector aleatorio X.\n",
    "El algoritmo K-means funcione de la siguiente manera:\n",
    "1. El usuario selecciona la cantidad de clusters a crear (n).\n",
    "2. Se seleccionan n elementos aleatorios de X como posiciones iniciales del los centroides C.\n",
    "3. Se calcula la distancia entre todos los puntos en X y todos los puntos en C.\n",
    "4. Para cada punto en X se selecciona el centroide más cercano de C.\n",
    "5. Se recalculan los centroides C a partir de usar las filas de X que pertenecen a cada centroide.\n",
    "6. Se itera entre 3 y 5 una cantidad fija de veces o hasta que la posición de los centroides no cambie.\n",
    "Implementar la función def k_means(X, n) de manera tal que al finalizar devuelva la posición de los\n",
    "centroides y a que cluster pertenece cada fila de X.\n",
    "Hint: para (2) utilizar funciones de np.random, para (3) y (4) usar los ejercicios anteriores,\n",
    "para (5) es válido utilizar un for. Iterar 10 veces entre (3) y (5).\n",
    "\"\"\"\n",
    "mean = 5\n",
    "std = 2\n",
    "SIZE = 1000\n",
    "\n",
    "def sinthetic_data(mean, std, SIZE, n_clusters , separation):\n",
    "    sint_data = np.zeros([SIZE, n_clusters])\n",
    "    classes = np.zeros([SIZE])\n",
    "    for i in range(n_clusters):\n",
    "            from_ = i * int(SIZE/n_clusters)\n",
    "            to_ = i * int(SIZE/n_clusters) + int(SIZE/n_clusters)\n",
    "            sint_data[from_:to_,i] = separation[i] * np.array([np.random.normal(mean, std)])\n",
    "            classes[from_:to_] = i + 1\n",
    "    sint_data += np.random.normal(0, 3, size=sint_data.shape)\n",
    "    \n",
    "    return sint_data, classes\n",
    "\n",
    "simulated_data, simulated_data_classes = sinthetic_data(2, 0.5, 1000, 3, [1, 5, 10])\n",
    "\n",
    "\n",
    "X = simulated_data\n",
    "n_clusters = 3\n",
    "MAX_ITER = 10\n",
    "\n",
    "    \n",
    "def redefine_centroids(X, centroids, n_clusters):    \n",
    "    distance = np.sqrt(np.sum((centroids[:,None] - X)**2, axis=2))\n",
    "    centroid_with_min_distance = np.argmin(distance, axis=0)\n",
    "\n",
    "    for i in range(centroids.shape[0]):\n",
    "        centroids[i] = np.mean( X[centroid_with_min_distance == i, :], axis = 0)\n",
    "    return centroids, centroid_with_min_distance\n",
    "\n",
    "\n",
    "def kmeans(X, n_clusters):\n",
    "    MAX_ITER = 20\n",
    "    centroids = np.eye(n_clusters, X.shape[1])*10 + np.random.random(size=[n_clusters, X.shape[1]])*2\n",
    "        \n",
    "    for i in range(MAX_ITER):\n",
    "        centroids, clusters = redefine_centroids(X, centroids, n_clusters)\n",
    "        \n",
    "    return centroids, clusters\n",
    "\n",
    "centroids_prueba, clusters_prueba = kmeans(X, n_clusters)\n"
   ]
  },
  {
   "cell_type": "code",
   "execution_count": 4,
   "metadata": {},
   "outputs": [
    {
     "data": {
      "image/png": "[encoded data removed]",
      "text/plain": [
       "<Figure size 432x288 with 1 Axes>"
      ]
     },
     "metadata": {
      "needs_background": "light"
     },
     "output_type": "display_data"
    }
   ],
   "source": [
    "# Ejercicio 5\n",
    "\n",
    "\"\"\" Ejercicio #5 | Utilizar numpy para simular una exponencial de parámetro lambda\n",
    "Hint:\n",
    "● Hacer una función que genere n muestras de la variable aleatoria X\n",
    "● Utilizar el resultado obtenido en la diapositiva anterior\n",
    "● Utilizar np.random.uniform\"\"\"\n",
    "\n",
    "def simular_exponencial(param, n_simulaciones):\n",
    "    simu_U = np.random.uniform(0,1,n_simulaciones)\n",
    "    simu_exp = -np.log(1 - simu_U) / param\n",
    "    return simu_exp\n",
    "\n",
    "exp_ordenada = np.sort(simular_exponencial(3, 1000))\n",
    "plt.hist(exp_ordenada, bins= int(1000**0.5))\n",
    "plt.show()\n"
   ]
  },
  {
   "cell_type": "code",
   "execution_count": 127,
   "metadata": {},
   "outputs": [
    {
     "data": {
      "text/plain": [
       "array([5.])"
      ]
     },
     "execution_count": 127,
     "metadata": {},
     "output_type": "execute_result"
    }
   ],
   "source": [
    "# Ejercicio 9\n",
    "\"\"\" Ejercicio #9 | Remover filas y columnas con NaNs en un dataset\n",
    "Dato un dataset, hacer una funcion que utilizando numpy filtre las columnas y las filas que tienen NaNs/\"\"\"\n",
    "\n",
    "def erase_row_col_nan(data):\n",
    "    nan_matrix = np.isnan(data)\n",
    "    mask_row_ful = nan_matrix.sum(axis=1) == 0\n",
    "    mask_col_ful = nan_matrix.sum(axis=0) == 0\n",
    "    \n",
    "    non_nan_data = data[mask_row_ful, mask_col_ful]\n",
    "    return non_nan_data\n",
    "a = np.array([[np.nan,5],[1,5]])\n",
    "\n"
   ]
  },
  {
   "cell_type": "code",
   "execution_count": 6,
   "metadata": {},
   "outputs": [
    {
     "name": "stdout",
     "output_type": "stream",
     "text": [
      "the mean of the columns are: [ 4.66118775  5.22512698 10.10883916]\n",
      "the filed dataset is:\n",
      " [[13.23904638  5.22512698 10.10883916]\n",
      " [11.60242808 -1.75552491  0.73642307]\n",
      " [14.84056088  5.22512698 10.10883916]\n",
      " [-0.88103032 16.17893146 -3.91206011]\n",
      " [-1.84065336 20.14913581  1.27721917]\n",
      " [ 4.53664021  5.22512698 10.10883916]\n",
      " [-2.67362342 -2.9301867  24.26878997]\n",
      " [-3.85735695  5.22512698 10.10883916]\n",
      " [ 5.54390767 -3.57819098 34.90779758]\n",
      " [ 6.10195834  3.28659719  3.37486527]]\n"
     ]
    }
   ],
   "source": [
    "# Ejercicio 10\n",
    "\"\"\"Reemplazar NaNs por la media de la columna.\n",
    "Dato un dataset, hacer una función que utilizando numpy reemplace los NaNs por la media de la columna.\"\"\"\n",
    "\n",
    "def replace_nans_colmean(data):\n",
    "    nan_matrix = np.isnan(data)\n",
    "    col_means = np.nanmean(data, axis=0)\n",
    "    \n",
    "    means_broadcasted = np.ones(shape = nan_matrix.shape) * col_means\n",
    "    data[nan_matrix]= means_broadcasted[nan_matrix]4\n",
    "    \n",
    "    \n",
    "    \n",
    "#     for i in range(col_means.shape[0]):\n",
    "#         data[:,i] = np.where(nan_matrix[:,i] == True, col_means[i], data[:,i])\n",
    "    \n",
    "    return data\n",
    "\n",
    "data, i = sinthetic_data(10,1, 10, 3, [1,2,3])\n",
    "\n",
    "for i in [0, 2, 5, 7]:\n",
    "    for j in [1, 2]:\n",
    "        data[i, j]= np.nan\n",
    "        \n",
    "print('the mean of the columns are:', np.nanmean(data, axis=0))\n",
    "        \n",
    "print('the filed dataset is:\\n', replace_nans_colmean(data))"
   ]
  },
  {
   "cell_type": "code",
   "execution_count": 9,
   "metadata": {},
   "outputs": [],
   "source": [
    "# Ejercicio 11\n",
    "\n",
    "'''Dado un dataset X separarlo en 70 / 20 / 10\n",
    "Como veremos en las próximas clases, en problemas de Machine Learning es fundamental que separemos\n",
    "los datasets de n muestras, en 3 datasets de la siguiente manera:\n",
    "● Training dataset: los datos que utilizaremos para entrenar nuestros modelos. 70% de las muestras.\n",
    "● Validation dataset: los datos que para calcular métricas y ajustar los parámetros de nuestros modelos.\n",
    "20% de las muestras.\n",
    "\n",
    "● Testing dataset: una vez que entrenamos los modelos y encontramos los parametros optimos de los\n",
    "mismos, el testing dataset se lo utiliza para computar las métricas finales de nuestros modelos y\n",
    "analizar cómo se comporta con respecto a la generalización.\n",
    "A partir de utilizar np.random.permutation hacer un método que dado un dataset, devuelva los 3 datasets\n",
    "como nuevos numpy arrays.'''\n",
    "\n",
    "def train_test_split(data, test_size = 0.1, validation_size = 0.2):\n",
    "    # divides the dataset by permutating, masking and slicing into train and split\n",
    "    SIZE = data.shape[0]\n",
    "    data_total = data\n",
    "    idx = np.arange(0, SIZE)\n",
    "    \n",
    "    train_interval = int((1 - test_size - validation_size) * SIZE)\n",
    "    validation_interval = int((1 - test_size) * SIZE)\n",
    "\n",
    "    # permutate\n",
    "    perm_idx = np.random.permutation(idx)\n",
    "\n",
    "    # generate index slice\n",
    "    train_idx = perm_idx[:train_interval]\n",
    "    validation_idx = perm_idx[train_interval: validation_interval]\n",
    "    test_idx = perm_idx[validation_interval:]\n",
    "\n",
    "    # slice dataset\n",
    "    train_data = data_total[train_idx]\n",
    "    validation_data = data_total[validation_idx]\n",
    "    test_data = data_total[test_idx]\n",
    "\n",
    "    return train_data, validation_data, test_data\n"
   ]
  },
  {
   "cell_type": "code",
   "execution_count": 12,
   "metadata": {},
   "outputs": [],
   "source": [
    "# Ejercicio # 12 - Integrador Clase #1 y Clase #2\n",
    "'''\n",
    "Aplicar todo lo visto en clase a un ejercicio de clusterización básico.\n",
    "-1. Generar un dataset sintético que clusterice data en 4 clusters utilizando números random.\n",
    "-a. Utilizar 4 dimensiones.\n",
    "-b. Generar un dataset con 100K de muestras.\n",
    "-2. Cambiar algunos puntos de manera aleatoria y agregar NaN (0.1% del dataset).\n",
    "-3. Guardar el dataset en un .pkl\n",
    "-4. Cargar el dataset con Numpy desde el .pkl\n",
    "-5. Completar NaN con la media de cada feature.\n",
    "-6. Calcular la norma l2, la media y el desvío de cada feature con funciones numpy vectorizadas.\n",
    "7. Agregar una columna a partir de generar una variable aleatoria exponencial a todos los puntos.\n",
    "8. Hacer el histograma de la distribución exponencial.\n",
    "9. Aplicar PCA al dataset reduciendo a 2 dimensiones y graficar el cluster.\n",
    "10. Hacer la clusterización con el k-means desarrollado en clase.\n",
    "11. Volver a graficar el cluster con lo obtenido en (10) y comparar resultados con (9).\n",
    "12. Analizar que pasa si los clusters comienzan a tener overlapping.'''\n",
    "\n",
    "\n",
    "class Data(object):\n",
    "    instance = None\n",
    "    \n",
    "    def __new__(cls, PICKLE_PATH):\n",
    "        if Data.instance is None:\n",
    "            print('__new__ object created')\n",
    "            Data.instance = super(Data, cls).__new__(cls)\n",
    "            return Data.instance\n",
    "        else: \n",
    "            return Data.instance\n",
    "                                                                \n",
    "    \n",
    "    def __init__(self, PICKLE_PATH):\n",
    "        self.PICKLE_PATH = PICKLE_PATH\n",
    "    \n",
    "    \n",
    "    def sinthetic_data(self, mean, std, SIZE, n_clusters , separation):\n",
    "        sint_data = np.zeros([SIZE, n_clusters])\n",
    "        classes = np.zeros([SIZE])\n",
    "        for i in range(n_clusters):\n",
    "                from_ = i * int(SIZE/n_clusters)\n",
    "                to_ = i * int(SIZE/n_clusters) + int(SIZE/n_clusters)\n",
    "                sint_data[from_:to_,i] = separation[i] * np.array([np.random.normal(mean, std)])\n",
    "                classes[from_:to_] = i + 1\n",
    "        sint_data += np.random.normal(0, 3, size=sint_data.shape)\n",
    "\n",
    "        self.data = sint_data\n",
    "        self.data_classes = data_classes\n",
    "    \n",
    "        return sint_data, classes\n",
    "\n",
    "    \n",
    "    \n",
    "    \n",
    "    def create_data_w_random_nans(self, mean, std, SIZE, n_clusters , separation, size_nans=0.01):\n",
    "        \n",
    "        data, data_classes = sinthetic_data(mean, std, SIZE, n_clusters, separation)\n",
    "\n",
    "        data_flat = np.ndarray.flatten(data)\n",
    "        nan_idx = np.random.permutation(range(data_flat.shape[0]))[:int(size_nans * data_flat.shape[0]) ]\n",
    "        data_flat[nan_idx] = np.nan\n",
    "        data_w_nans = data_flat.reshape([data.shape[0], data.shape[1]])\n",
    "    \n",
    "        self.data = data_w_nans\n",
    "        self.data_classes = data_classes\n",
    "        \n",
    "        return data_w_nans, data_classes\n",
    "    \n",
    "    \n",
    "    def check_pickle(self):\n",
    "    \n",
    "        if not os.path.exists(self.PICKLE_PATH):\n",
    "            print('there is no pickle file')\n",
    "            return False\n",
    "        elif os.path.getsize(self.PICKLE_PATH) > 0:\n",
    "            return True\n",
    "        else:\n",
    "            print('the pickle file exists but is empty')\n",
    "            return False\n",
    "        \n",
    "        \n",
    "    def load_pickle(self):\n",
    "        if self.check_pickle() == True:\n",
    "            with open(self.PICKLE_PATH, 'rb') as f:\n",
    "                            array = pickle.load(f)\n",
    "                            print('full array is', array)\n",
    "            self.data, self.data_classes = array[0], array[1]\n",
    "            return array\n",
    "            \n",
    "        else:\n",
    "            return print('sorry')\n",
    "    \n",
    "    \n",
    "    def save_pickle(self):\n",
    "        \n",
    "        \"\"\" saves the pickle data \"\"\"\n",
    "        \n",
    "        full_array = self.data\n",
    "        categories = self.data_classes\n",
    "        # Read CSV\n",
    "        \n",
    "        with open(self.PICKLE_PATH, 'wb') as f:\n",
    "            pickle.dump((full_array, categories), f)\n",
    "\n",
    "        return full_array\n",
    "        \n",
    "        \n",
    "    def complete_nan_w_colmean(self):\n",
    "        \n",
    "        nan_mask = np.isnan(self.data)\n",
    "        mean_mask = np.nanmean(self.data, axis=0) * nan_mask\n",
    "        self.data[nan_mask] = mean_mask[nan_mask]\n",
    "    \n",
    "        return self.data\n",
    "    \n",
    "    def calc_metrics(self):\n",
    "        l2_norm = np.sum(np.fillna(self.data, 0)**2, axis=0)**0.5\n",
    "        mean = np.nanmean(np.fillna(self.data, 0), axis=0)\n",
    "        std = np.sum((np.fillna(self.data, 0) - mean)**2, axis=0)**0.5\n",
    "        \n",
    "        print('the norm is:', l2_norm)\n",
    "        print('the mean is:', mean)\n",
    "        print('the std dev is:', std)\n",
    "        \n",
    "        return l2_norm, mean, std\n",
    "    \n",
    "    def add_exp_column(self, lamb):\n",
    "        exp_column = -np.log(1 - np.random.random(size= [self.data.shape[0], 1]))/lamb\n",
    "        self.data = np.hstack((self.data, exp_column))\n",
    "        return self.data\n"
   ]
  },
  {
   "cell_type": "code",
   "execution_count": 17,
   "metadata": {},
   "outputs": [
    {
     "data": {
      "text/plain": [
       "array([[ 3.34987922e+00, -8.39396014e-01,  6.54828715e+00,\n",
       "         2.84038298e+00,  1.20547875e-01],\n",
       "       [-1.36443490e+00, -1.96319735e+00,  3.01583359e+00,\n",
       "        -9.16212740e-01,  2.51417752e-01],\n",
       "       [-2.23681246e+00,  3.27570591e+00, -6.29507154e+00,\n",
       "         2.49160605e+00,  1.29960785e-01],\n",
       "       ...,\n",
       "       [ 1.60735299e-01,  5.80209055e+00, -1.23046873e+00,\n",
       "         5.38349659e+01,  5.22943638e-02],\n",
       "       [-1.21450196e+00,  1.07105613e+00,  5.68396205e-01,\n",
       "         5.45070191e+01,  4.27742404e-02],\n",
       "       [-2.06280497e+00, -2.95793163e+00, -1.09069547e+00,\n",
       "         5.61101229e+01,  1.27712858e-01]])"
      ]
     },
     "execution_count": 17,
     "metadata": {},
     "output_type": "execute_result"
    },
    {
     "data": {
      "image/png": "[encoded data removed]",
      "text/plain": [
       "<Figure size 432x288 with 1 Axes>"
      ]
     },
     "metadata": {
      "needs_background": "light"
     },
     "output_type": "display_data"
    }
   ],
   "source": [
    "m = Data('C:\\\\Users\\\\jota_\\\\00_Especialización_IA\\\\EspecializacionIA\\\\00_Datasets\\\\04_Temporal\\\\test_set.pkl')\n",
    "\n",
    "m.create_data_w_random_nans(1, 0.01, 10000, 4 , [1,10,100,50], size_nans=0.01)\n",
    "\n",
    "m.add_exp_column(5)\n",
    "\n",
    "plt.hist(m.data[:,4], bins = 50)\n",
    "\n",
    "m.complete_nan_w_colmean()"
   ]
  },
  {
   "cell_type": "code",
   "execution_count": 18,
   "metadata": {},
   "outputs": [
    {
     "data": {
      "text/plain": [
       "array([[ 2.27524962e-01,  2.35542452e+03],\n",
       "       [ 3.05282357e-01, -1.64365590e+03],\n",
       "       [ 6.25767293e-01, -1.86071093e+03],\n",
       "       [-1.15857461e+00,  1.14894232e+03]])"
      ]
     },
     "execution_count": 18,
     "metadata": {},
     "output_type": "execute_result"
    }
   ],
   "source": [
    "def normalize(X):\n",
    "    mean = np.mean(X, axis=0)\n",
    "    std = np.std(X, axis=0)\n",
    "    X_norm = (X - mean) / std\n",
    "    \n",
    "    return X_norm\n",
    "x = np.array([[0.4, 4800, 5.5], [0.7,12104, 5.2],[1,12500,5.5], [1.5,7002, 4.0]])\n",
    "def pca(X, d):\n",
    "    # paso numero 1, centrar todas las variables\n",
    "    X_centered = X - np.mean(X, axis=0)\n",
    "    \n",
    "    # Transponer la matriz y calcular la covarianza\n",
    "    cov_x_t = np.cov(np.transpose(X))\n",
    "    \n",
    "    # calcular los autovalores y autovectores\n",
    "    W, V = np.linalg.eig(cov_x_t)\n",
    "    \n",
    "    #\n",
    "    W_index = np.argsort(W)[::-1]\n",
    "    V_sorted = V[W_index]\n",
    "    \n",
    "    PCA = np.matmul(X_centered, V_sorted[:,:d] )\n",
    "    return PCA\n",
    "    \n",
    "pca(x, 2)"
   ]
  },
  {
   "cell_type": "code",
   "execution_count": 113,
   "metadata": {},
   "outputs": [
    {
     "name": "stdout",
     "output_type": "stream",
     "text": [
      "[[ 75.79190111   3.48325462]\n",
      " [-32.14681155  32.07507713]\n",
      " [  2.53104374 -12.60927127]\n",
      " [-21.87476626 -17.61990796]]\n"
     ]
    },
    {
     "data": {
      "image/png": "[encoded data removed]",
      "text/plain": [
       "<Figure size 432x288 with 1 Axes>"
      ]
     },
     "metadata": {
      "needs_background": "dark"
     },
     "output_type": "display_data"
    }
   ],
   "source": [
    "PCA_matrix = pca(m.data, 2)\n",
    "\n",
    "\n",
    "\n",
    "K_Centers, k_classes = kmeans(PCA_matrix, 4)\n",
    "print(K_Centers)\n",
    "\n",
    "\n",
    "plt.scatter(PCA_matrix[:,0], PCA_matrix[:,1], alpha = 0.2)\n",
    "plt.scatter(K_Centers[:,0], K_Centers[:,1], marker= 'x')\n",
    "\n",
    "plt.title('Principal component clusters identified with K Means!', c='grey')\n",
    "\n",
    "plt.xlabel('PCA Component x', c='grey')\n",
    "plt.ylabel('PCA Component y', c='grey')\n",
    "\n",
    "plt.xticks(c='grey')\n",
    "plt.yticks(c='grey')\n",
    "\n",
    "plt.show()"
   ]
  },
  {
   "cell_type": "code",
   "execution_count": null,
   "metadata": {},
   "outputs": [],
   "source": []
  }
 ],
 "metadata": {
  "kernelspec": {
   "display_name": "Python 3",
   "language": "python",
   "name": "python3"
  },
  "language_info": {
   "codemirror_mode": {
    "name": "ipython",
    "version": 3
   },
   "file_extension": ".py",
   "mimetype": "text/x-python",
   "name": "python",
   "nbconvert_exporter": "python",
   "pygments_lexer": "ipython3",
   "version": "3.7.6"
  },
  "toc": {
   "base_numbering": 1,
   "nav_menu": {},
   "number_sections": true,
   "sideBar": true,
   "skip_h1_title": false,
   "title_cell": "Table of Contents",
   "title_sidebar": "Contents",
   "toc_cell": false,
   "toc_position": {},
   "toc_section_display": true,
   "toc_window_display": false
  },
  "varInspector": {
   "cols": {
    "lenName": 16,
    "lenType": 16,
    "lenVar": 40
   },
   "kernels_config": {
    "python": {
     "delete_cmd_postfix": "",
     "delete_cmd_prefix": "del ",
     "library": "var_list.py",
     "varRefreshCmd": "print(var_dic_list())"
    },
    "r": {
     "delete_cmd_postfix": ") ",
     "delete_cmd_prefix": "rm(",
     "library": "var_list.r",
     "varRefreshCmd": "cat(var_dic_list()) "
    }
   },
   "types_to_exclude": [
    "module",
    "function",
    "builtin_function_or_method",
    "instance",
    "_Feature"
   ],
   "window_display": false
  }
 },
 "nbformat": 4,
 "nbformat_minor": 4
}
