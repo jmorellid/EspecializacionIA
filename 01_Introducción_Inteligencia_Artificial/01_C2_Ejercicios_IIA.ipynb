{
 "cells": [
  {
   "cell_type": "markdown",
   "metadata": {},
   "source": [
    "# Introducción a la Inteligencia Artificial\n",
    "\n",
    "## CLASE 2\n",
    "\n",
    "## Referencias\n",
    "\n",
    "- [Cheatsheet de Latex](https://www.caam.rice.edu/~heinken/latex/symbols.pdf)\n",
    "- [DRIVE](https://drive.google.com/drive/folders/1TDRvlwfSgLI39gHXgVhWlSaRJ-aTSaDE?usp=sharing)\n",
    "\n",
    "## Comentarios sobre el estado del documento\n",
    "\n"
   ]
  },
  {
   "cell_type": "markdown",
   "metadata": {},
   "source": [
    "## Importar librerías"
   ]
  },
  {
   "cell_type": "code",
   "execution_count": 2,
   "metadata": {},
   "outputs": [],
   "source": [
    "import numpy as np\n",
    "import matplotlib.pyplot as plt\n",
    "import os\n",
    "\n",
    "# MATPLOTLIB & SNS\n",
    "# from mpl_toolkits import mplot3d\n",
    "# from matplotlib import cm\n",
    "# from matplotlib_venn import venn2\n",
    "# import seaborn as sns\n",
    "\n",
    "# MATH & RANDOM\n",
    "# import math\n",
    "# import numpy.random as random\n",
    "# import scipy.stats as stats\n",
    "# random.seed(42)\n",
    "\n",
    "#PANDAS\n",
    "# import pandas as pd\n",
    "\n",
    "# %matplotlib inline"
   ]
  },
  {
   "cell_type": "code",
   "execution_count": 3,
   "metadata": {},
   "outputs": [],
   "source": [
    "# Ejercicio 3 \n",
    "\"\"\"\n",
    "Implementacion basica de K-means en Numpy\n",
    "K-means es uno de los algoritmos más básicos en Machine Learning no supervisado.\n",
    "Es un algoritmo de clusterización, que agrupa los datos que comparten características similares.\n",
    "Recordemos que entendemos datos como n realizaciones del vector aleatorio X.\n",
    "El algoritmo K-means funcione de la siguiente manera:\n",
    "1. El usuario selecciona la cantidad de clusters a crear (n).\n",
    "2. Se seleccionan n elementos aleatorios de X como posiciones iniciales del los centroides C.\n",
    "3. Se calcula la distancia entre todos los puntos en X y todos los puntos en C.\n",
    "4. Para cada punto en X se selecciona el centroide más cercano de C.\n",
    "5. Se recalculan los centroides C a partir de usar las filas de X que pertenecen a cada centroide.\n",
    "6. Se itera entre 3 y 5 una cantidad fija de veces o hasta que la posición de los centroides no cambie.\n",
    "Implementar la función def k_means(X, n) de manera tal que al finalizar devuelva la posición de los\n",
    "centroides y a que cluster pertenece cada fila de X.\n",
    "Hint: para (2) utilizar funciones de np.random, para (3) y (4) usar los ejercicios anteriores,\n",
    "para (5) es válido utilizar un for. Iterar 10 veces entre (3) y (5).\n",
    "\"\"\"\n",
    "mean = 5\n",
    "std = 2\n",
    "SIZE = 1000\n",
    "\n",
    "def sinthetic_data(mean, std, SIZE, n_clusters , separation):\n",
    "    sint_data = np.zeros([SIZE, n_clusters])\n",
    "    classes = np.zeros([SIZE])\n",
    "    for i in range(n_clusters):\n",
    "            from_ = i * int(SIZE/n_clusters)\n",
    "            to_ = i * int(SIZE/n_clusters) + int(SIZE/n_clusters)\n",
    "            sint_data[from_:to_,i] = separation[i] * np.array([np.random.normal(mean, std)])\n",
    "            classes[from_:to_] = i + 1\n",
    "    sint_data += np.random.normal(0, 3, size=sint_data.shape)\n",
    "    \n",
    "    return sint_data, classes\n",
    "\n",
    "simulated_data, simulated_data_classes = sinthetic_data(2, 0.5, 1000, 3, [1, 5, 10])\n",
    "\n",
    "\n",
    "X = simulated_data\n",
    "n_clusters = 3\n",
    "MAX_ITER = 10\n",
    "\n",
    "    \n",
    "def redefine_centroids(X, centroids, n_clusters):    \n",
    "    distance = np.sqrt(np.sum((centroids[:,None] - X)**2, axis=2))\n",
    "    centroid_with_min_distance = np.argmin(distance, axis=0)\n",
    "\n",
    "    for i in range(centroids.shape[0]):\n",
    "        centroids[i] = np.mean( X[centroid_with_min_distance == i, :], axis = 0)\n",
    "    return centroids, centroid_with_min_distance\n",
    "\n",
    "\n",
    "def kmeans(X, n_clusters):\n",
    "    MAX_ITER = 20\n",
    "    centroids = np.eye(n_clusters, X.shape[1])\n",
    "        \n",
    "    for i in range(MAX_ITER):\n",
    "        centroids, clusters = redefine_centroids(X, centroids, n_clusters)\n",
    "        \n",
    "    return centroids, clusters\n",
    "\n",
    "centroids_prueba, clusters_prueba = kmeans(X, n_clusters)\n"
   ]
  },
  {
   "cell_type": "code",
   "execution_count": 118,
   "metadata": {},
   "outputs": [
    {
     "data": {
      "image/png": "[encoded data removed]",
      "text/plain": [
       "<Figure size 432x288 with 1 Axes>"
      ]
     },
     "metadata": {
      "needs_background": "light"
     },
     "output_type": "display_data"
    }
   ],
   "source": [
    "# Ejercicio 5\n",
    "\n",
    "\"\"\" Ejercicio #5 | Utilizar numpy para simular una exponencial de parámetro lambda\n",
    "Hint:\n",
    "● Hacer una función que genere n muestras de la variable aleatoria X\n",
    "● Utilizar el resultado obtenido en la diapositiva anterior\n",
    "● Utilizar np.random.uniform\"\"\"\n",
    "\n",
    "def simular_exponencial(param, n_simulaciones):\n",
    "    simu_U = np.random.uniform(0,1,n_simulaciones)\n",
    "    simu_exp = -np.log(1 - simu_U) / param\n",
    "    return simu_exp\n",
    "\n",
    "exp_ordenada = np.sort(simular_exponencial(3, 1000))\n",
    "plt.hist(exp_ordenada, bins= int(1000**0.5))\n",
    "plt.show()\n"
   ]
  },
  {
   "cell_type": "code",
   "execution_count": 127,
   "metadata": {},
   "outputs": [
    {
     "data": {
      "text/plain": [
       "array([5.])"
      ]
     },
     "execution_count": 127,
     "metadata": {},
     "output_type": "execute_result"
    }
   ],
   "source": [
    "# Ejercicio 9\n",
    "\"\"\" Ejercicio #9 | Remover filas y columnas con NaNs en un dataset\n",
    "Dato un dataset, hacer una funcion que utilizando numpy filtre las columnas y las filas que tienen NaNs/\"\"\"\n",
    "\n",
    "def erase_row_col_nan(data):\n",
    "    nan_matrix = np.isnan(data)\n",
    "    mask_row_ful = nan_matrix.sum(axis=1) == 0\n",
    "    mask_col_ful = nan_matrix.sum(axis=0) == 0\n",
    "    \n",
    "    non_nan_data = data[mask_row_ful, mask_col_ful]\n",
    "    return non_nan_data\n",
    "a = np.array([[np.nan,5],[1,5]])\n",
    "\n"
   ]
  },
  {
   "cell_type": "code",
   "execution_count": 58,
   "metadata": {},
   "outputs": [
    {
     "name": "stdout",
     "output_type": "stream",
     "text": [
      "the mean of the columns are: [ 2.32210746  3.43582469 10.00995438]\n",
      "the filed dataset is:\n",
      " [[ 9.45321797  3.43582469 10.00995438]\n",
      " [ 5.50646231 -2.49276068  3.36316543]\n",
      " [ 9.04154328  3.43582469 10.00995438]\n",
      " [ 0.16932173 13.31648997 -0.33303124]\n",
      " [ 1.91894574 20.84824294 -0.1984794 ]\n",
      " [-0.32115295  3.43582469 10.00995438]\n",
      " [-2.28360007 -2.45796948 29.75436684]\n",
      " [ 4.5280377   3.43582469 10.00995438]\n",
      " [-3.73438112 -2.82732403 28.54722444]\n",
      " [-1.05732    -5.77173058 -1.07351976]]\n"
     ]
    }
   ],
   "source": [
    "# Ejercicio 10\n",
    "\"\"\"Reemplazar NaNs por la media de la columna.\n",
    "Dato un dataset, hacer una función que utilizando numpy reemplace los NaNs por la media de la columna.\"\"\"\n",
    "\n",
    "def replace_nans_colmean(data):\n",
    "    nan_matrix = np.isnan(data)\n",
    "    col_means = np.nanmean(data, axis=0)\n",
    "    for i in range(col_means.shape[0]):\n",
    "        data[:,i] = np.where(nan_matrix[:,i] == True, col_means[i], data[:,i])\n",
    "    \n",
    "    return data\n",
    "\n",
    "data, i = sinthetic_data(10,1, 10, 3, [1,2,3])\n",
    "\n",
    "for i in [0, 2, 5, 7]:\n",
    "    for j in [1, 2]:\n",
    "        data[i, j]= np.nan\n",
    "        \n",
    "print('the mean of the columns are:', np.nanmean(data, axis=0))\n",
    "        \n",
    "print('the filed dataset is:\\n', replace_nans_colmean(data))"
   ]
  },
  {
   "cell_type": "code",
   "execution_count": 68,
   "metadata": {},
   "outputs": [],
   "source": [
    "# Ejercicio 11\n",
    "\n",
    "'''Dado un dataset X separarlo en 70 / 20 / 10\n",
    "Como veremos en las próximas clases, en problemas de Machine Learning es fundamental que separemos\n",
    "los datasets de n muestras, en 3 datasets de la siguiente manera:\n",
    "● Training dataset: los datos que utilizaremos para entrenar nuestros modelos. 70% de las muestras.\n",
    "● Validation dataset: los datos que para calcular métricas y ajustar los parámetros de nuestros modelos.\n",
    "20% de las muestras.\n",
    "\n",
    "● Testing dataset: una vez que entrenamos los modelos y encontramos los parametros optimos de los\n",
    "mismos, el testing dataset se lo utiliza para computar las métricas finales de nuestros modelos y\n",
    "analizar cómo se comporta con respecto a la generalización.\n",
    "A partir de utilizar np.random.permutation hacer un método que dado un dataset, devuelva los 3 datasets\n",
    "como nuevos numpy arrays.'''\n",
    "\n",
    "def train_test_split(data, test_size = 0.1, validation_size = 0.2):\n",
    "    # divides the dataset by permutating, masking and slicing into train and split\n",
    "    SIZE = data.shape[0]\n",
    "    data_total = data\n",
    "    idx = np.arange(0, SIZE)\n",
    "    \n",
    "    train_interval = int((1 - test_size - validation_size) * SIZE)\n",
    "    validation_interval = int((1 - test_size) * SIZE)\n",
    "\n",
    "    # permutate\n",
    "    perm_idx = np.random.permutation(idx)\n",
    "\n",
    "    # generate index slice\n",
    "    train_idx = perm_idx[:train_interval]\n",
    "    validation_idx = perm_idx[train_interval: validation_interval]\n",
    "    test_idx = perm_idx[validation_interval:]\n",
    "\n",
    "    # slice dataset\n",
    "    train_data = data_total[train_idx]\n",
    "    validation_data = data_total[validation_idx]\n",
    "    test_data = data_total[test_idx]\n",
    "\n",
    "    return train_data, validation_data, test_data\n"
   ]
  },
  {
   "cell_type": "code",
   "execution_count": null,
   "metadata": {},
   "outputs": [],
   "source": [
    "# Ejercicio # 12 - Integrador Clase #1 y Clase #2\n",
    "'''\n",
    "Aplicar todo lo visto en clase a un ejercicio de clusterización básico.\n",
    "1. Generar un dataset sintético que clusterice data en 4 clusters utilizando números random.\n",
    "a. Utilizar 4 dimensiones.\n",
    "b. Generar un dataset con 100K de muestras.\n",
    "2. Cambiar algunos puntos de manera aleatoria y agregar NaN (0.1% del dataset).\n",
    "3. Guardar el dataset en un .pkl\n",
    "4. Cargar el dataset con Numpy desde el .pkl\n",
    "5. Completar NaN con la media de cada feature.\n",
    "6. Calcular la norma l2, la media y el desvío de cada feature con funciones numpy vectorizadas.\n",
    "7. Agregar una columna a partir de generar una variable aleatoria exponencial a todos los puntos.\n",
    "8. Hacer el histograma de la distribución exponencial.\n",
    "9. Aplicar PCA al dataset reduciendo a 2 dimensiones y graficar el cluster.\n",
    "10. Hacer la clusterización con el k-means desarrollado en clase.\n",
    "11. Volver a graficar el cluster con lo obtenido en (10) y comparar resultados con (9).\n",
    "12. Analizar que pasa si los clusters comienzan a tener overlapping.'''\n"
   ]
  }
 ],
 "metadata": {
  "kernelspec": {
   "display_name": "Python 3",
   "language": "python",
   "name": "python3"
  },
  "language_info": {
   "codemirror_mode": {
    "name": "ipython",
    "version": 3
   },
   "file_extension": ".py",
   "mimetype": "text/x-python",
   "name": "python",
   "nbconvert_exporter": "python",
   "pygments_lexer": "ipython3",
   "version": "3.7.6"
  },
  "toc": {
   "base_numbering": 1,
   "nav_menu": {},
   "number_sections": true,
   "sideBar": true,
   "skip_h1_title": false,
   "title_cell": "Table of Contents",
   "title_sidebar": "Contents",
   "toc_cell": false,
   "toc_position": {},
   "toc_section_display": true,
   "toc_window_display": false
  },
  "varInspector": {
   "cols": {
    "lenName": 16,
    "lenType": 16,
    "lenVar": 40
   },
   "kernels_config": {
    "python": {
     "delete_cmd_postfix": "",
     "delete_cmd_prefix": "del ",
     "library": "var_list.py",
     "varRefreshCmd": "print(var_dic_list())"
    },
    "r": {
     "delete_cmd_postfix": ") ",
     "delete_cmd_prefix": "rm(",
     "library": "var_list.r",
     "varRefreshCmd": "cat(var_dic_list()) "
    }
   },
   "types_to_exclude": [
    "module",
    "function",
    "builtin_function_or_method",
    "instance",
    "_Feature"
   ],
   "window_display": false
  }
 },
 "nbformat": 4,
 "nbformat_minor": 4
}
